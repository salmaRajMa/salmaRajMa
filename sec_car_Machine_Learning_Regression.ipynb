{
 "cells": [
  {
   "cell_type": "code",
   "execution_count": 2,
   "metadata": {
    "id": "7UvbwbQ7evr1"
   },
   "outputs": [],
   "source": [
    "# Importing the libraries\n",
    "import numpy as np\n",
    "import matplotlib.pyplot as plt\n",
    "import pandas as pd\n",
    "\n",
    "\n",
    "import seaborn as sns\n",
    "sns.set()  #  Will import Seaborn functionalities\n",
    "# we don't like warnings\n",
    "# you can comment the following 2 lines if you'd like to\n",
    "import warnings\n",
    "warnings.filterwarnings('ignore')\n"
   ]
  },
  {
   "cell_type": "code",
   "execution_count": 3,
   "metadata": {},
   "outputs": [],
   "source": [
    "# Disply all Columns\n",
    "pd.options.display.max_columns=70"
   ]
  },
  {
   "cell_type": "code",
   "execution_count": 4,
   "metadata": {
    "colab": {
     "base_uri": "https://localhost:8080/",
     "height": 206
    },
    "id": "oB8wizsmevr6",
    "outputId": "f147132f-0ec6-4098-b5d0-b95321d9b323"
   },
   "outputs": [
    {
     "data": {
      "text/html": [
       "<div>\n",
       "<style scoped>\n",
       "    .dataframe tbody tr th:only-of-type {\n",
       "        vertical-align: middle;\n",
       "    }\n",
       "\n",
       "    .dataframe tbody tr th {\n",
       "        vertical-align: top;\n",
       "    }\n",
       "\n",
       "    .dataframe thead th {\n",
       "        text-align: right;\n",
       "    }\n",
       "</style>\n",
       "<table border=\"1\" class=\"dataframe\">\n",
       "  <thead>\n",
       "    <tr style=\"text-align: right;\">\n",
       "      <th></th>\n",
       "      <th>maker</th>\n",
       "      <th>model</th>\n",
       "      <th>mileage</th>\n",
       "      <th>manufacture_year</th>\n",
       "      <th>transmission</th>\n",
       "      <th>door_count</th>\n",
       "      <th>seat_count</th>\n",
       "      <th>displacement</th>\n",
       "      <th>horse_power</th>\n",
       "      <th>price</th>\n",
       "    </tr>\n",
       "  </thead>\n",
       "  <tbody>\n",
       "    <tr>\n",
       "      <th>0</th>\n",
       "      <td>audi</td>\n",
       "      <td>a8</td>\n",
       "      <td>136702.0</td>\n",
       "      <td>2006.0</td>\n",
       "      <td>auto</td>\n",
       "      <td>4.0</td>\n",
       "      <td>5.0</td>\n",
       "      <td>3.94</td>\n",
       "      <td>271.0</td>\n",
       "      <td>12285.0</td>\n",
       "    </tr>\n",
       "    <tr>\n",
       "      <th>1</th>\n",
       "      <td>audi</td>\n",
       "      <td>a3</td>\n",
       "      <td>102526.0</td>\n",
       "      <td>2004.0</td>\n",
       "      <td>man</td>\n",
       "      <td>4</td>\n",
       "      <td>5</td>\n",
       "      <td>1.97</td>\n",
       "      <td>138.0</td>\n",
       "      <td>5500.0</td>\n",
       "    </tr>\n",
       "    <tr>\n",
       "      <th>2</th>\n",
       "      <td>audi</td>\n",
       "      <td>a3</td>\n",
       "      <td>684.0</td>\n",
       "      <td>2016.0</td>\n",
       "      <td>auto</td>\n",
       "      <td>5.0</td>\n",
       "      <td>5.0</td>\n",
       "      <td>1.97</td>\n",
       "      <td>148.0</td>\n",
       "      <td>39649.0</td>\n",
       "    </tr>\n",
       "    <tr>\n",
       "      <th>3</th>\n",
       "      <td>audi</td>\n",
       "      <td>s7</td>\n",
       "      <td>38525.0</td>\n",
       "      <td>2013.0</td>\n",
       "      <td>auto</td>\n",
       "      <td>5.0</td>\n",
       "      <td>4.0</td>\n",
       "      <td>3.99</td>\n",
       "      <td>414.0</td>\n",
       "      <td>64233.0</td>\n",
       "    </tr>\n",
       "    <tr>\n",
       "      <th>4</th>\n",
       "      <td>audi</td>\n",
       "      <td>a1</td>\n",
       "      <td>45006.0</td>\n",
       "      <td>2010.0</td>\n",
       "      <td>man</td>\n",
       "      <td>3</td>\n",
       "      <td>4</td>\n",
       "      <td>1.60</td>\n",
       "      <td>103.0</td>\n",
       "      <td>16848.0</td>\n",
       "    </tr>\n",
       "  </tbody>\n",
       "</table>\n",
       "</div>"
      ],
      "text/plain": [
       "  maker model   mileage  manufacture_year transmission door_count seat_count  \\\n",
       "0  audi    a8  136702.0            2006.0         auto        4.0        5.0   \n",
       "1  audi    a3  102526.0            2004.0          man          4          5   \n",
       "2  audi    a3     684.0            2016.0         auto        5.0        5.0   \n",
       "3  audi    s7   38525.0            2013.0         auto        5.0        4.0   \n",
       "4  audi    a1   45006.0            2010.0          man          3          4   \n",
       "\n",
       "   displacement  horse_power    price  \n",
       "0          3.94        271.0  12285.0  \n",
       "1          1.97        138.0   5500.0  \n",
       "2          1.97        148.0  39649.0  \n",
       "3          3.99        414.0  64233.0  \n",
       "4          1.60        103.0  16848.0  "
      ]
     },
     "execution_count": 4,
     "metadata": {},
     "output_type": "execute_result"
    }
   ],
   "source": [
    "sec_car = pd.read_csv('secondary_car_market.csv')\n",
    "sec_car.head()"
   ]
  },
  {
   "cell_type": "code",
   "execution_count": 5,
   "metadata": {
    "id": "lfNWpkmBevr7"
   },
   "outputs": [],
   "source": [
    "#sec_car = sec_car.drop('Unnamed: 0', axis = 1)"
   ]
  },
  {
   "cell_type": "code",
   "execution_count": 6,
   "metadata": {
    "colab": {
     "base_uri": "https://localhost:8080/"
    },
    "id": "sdgi24u5evr8",
    "outputId": "17f0582e-4493-42e5-faf4-96c791a0d514"
   },
   "outputs": [
    {
     "data": {
      "text/plain": [
       "(300000, 10)"
      ]
     },
     "execution_count": 6,
     "metadata": {},
     "output_type": "execute_result"
    }
   ],
   "source": [
    "sec_car.shape"
   ]
  },
  {
   "cell_type": "code",
   "execution_count": 7,
   "metadata": {
    "colab": {
     "base_uri": "https://localhost:8080/"
    },
    "id": "YscMEg3cevr9",
    "outputId": "2ab9365e-6647-4145-a0df-e60eae8f11fd"
   },
   "outputs": [
    {
     "name": "stdout",
     "output_type": "stream",
     "text": [
      "<class 'pandas.core.frame.DataFrame'>\n",
      "RangeIndex: 300000 entries, 0 to 299999\n",
      "Data columns (total 10 columns):\n",
      " #   Column            Non-Null Count   Dtype  \n",
      "---  ------            --------------   -----  \n",
      " 0   maker             300000 non-null  object \n",
      " 1   model             300000 non-null  object \n",
      " 2   mileage           300000 non-null  float64\n",
      " 3   manufacture_year  300000 non-null  float64\n",
      " 4   transmission      300000 non-null  object \n",
      " 5   door_count        300000 non-null  object \n",
      " 6   seat_count        300000 non-null  object \n",
      " 7   displacement      300000 non-null  float64\n",
      " 8   horse_power       300000 non-null  float64\n",
      " 9   price             300000 non-null  float64\n",
      "dtypes: float64(5), object(5)\n",
      "memory usage: 22.9+ MB\n"
     ]
    }
   ],
   "source": [
    "sec_car.info()"
   ]
  },
  {
   "cell_type": "code",
   "execution_count": 8,
   "metadata": {
    "colab": {
     "base_uri": "https://localhost:8080/"
    },
    "id": "v4Y7VKiBevr9",
    "outputId": "dc60e84b-b5af-4dd6-f5ba-049666e91c79"
   },
   "outputs": [
    {
     "data": {
      "text/plain": [
       "maker                   3\n",
       "model                 105\n",
       "mileage             67879\n",
       "manufacture_year      123\n",
       "transmission            2\n",
       "door_count             22\n",
       "seat_count             43\n",
       "displacement          407\n",
       "horse_power           341\n",
       "price               32322\n",
       "dtype: int64"
      ]
     },
     "execution_count": 8,
     "metadata": {},
     "output_type": "execute_result"
    }
   ],
   "source": [
    "#from towards datascience exploring categorical data\n",
    "sec_car.nunique(axis=0)"
   ]
  },
  {
   "cell_type": "code",
   "execution_count": 9,
   "metadata": {
    "colab": {
     "base_uri": "https://localhost:8080/",
     "height": 300
    },
    "id": "K_ELRzbjevr-",
    "outputId": "60989a0f-c785-4a57-8a22-5edde03aed23",
    "scrolled": true
   },
   "outputs": [
    {
     "data": {
      "text/html": [
       "<div>\n",
       "<style scoped>\n",
       "    .dataframe tbody tr th:only-of-type {\n",
       "        vertical-align: middle;\n",
       "    }\n",
       "\n",
       "    .dataframe tbody tr th {\n",
       "        vertical-align: top;\n",
       "    }\n",
       "\n",
       "    .dataframe thead th {\n",
       "        text-align: right;\n",
       "    }\n",
       "</style>\n",
       "<table border=\"1\" class=\"dataframe\">\n",
       "  <thead>\n",
       "    <tr style=\"text-align: right;\">\n",
       "      <th></th>\n",
       "      <th>mileage</th>\n",
       "      <th>manufacture_year</th>\n",
       "      <th>displacement</th>\n",
       "      <th>horse_power</th>\n",
       "      <th>price</th>\n",
       "    </tr>\n",
       "  </thead>\n",
       "  <tbody>\n",
       "    <tr>\n",
       "      <th>count</th>\n",
       "      <td>3.000000e+05</td>\n",
       "      <td>300000.000000</td>\n",
       "      <td>300000.000000</td>\n",
       "      <td>300000.000000</td>\n",
       "      <td>3.000000e+05</td>\n",
       "    </tr>\n",
       "    <tr>\n",
       "      <th>mean</th>\n",
       "      <td>6.373923e+04</td>\n",
       "      <td>2009.096253</td>\n",
       "      <td>1.876543</td>\n",
       "      <td>136.943660</td>\n",
       "      <td>1.660514e+04</td>\n",
       "    </tr>\n",
       "    <tr>\n",
       "      <th>std</th>\n",
       "      <td>8.628841e+04</td>\n",
       "      <td>16.946915</td>\n",
       "      <td>0.904341</td>\n",
       "      <td>63.155779</td>\n",
       "      <td>5.958110e+04</td>\n",
       "    </tr>\n",
       "    <tr>\n",
       "      <th>min</th>\n",
       "      <td>0.000000e+00</td>\n",
       "      <td>39.000000</td>\n",
       "      <td>0.010000</td>\n",
       "      <td>13.000000</td>\n",
       "      <td>0.000000e+00</td>\n",
       "    </tr>\n",
       "    <tr>\n",
       "      <th>25%</th>\n",
       "      <td>1.599200e+04</td>\n",
       "      <td>2006.000000</td>\n",
       "      <td>1.560000</td>\n",
       "      <td>101.000000</td>\n",
       "      <td>4.797000e+03</td>\n",
       "    </tr>\n",
       "    <tr>\n",
       "      <th>50%</th>\n",
       "      <td>5.591400e+04</td>\n",
       "      <td>2011.000000</td>\n",
       "      <td>1.900000</td>\n",
       "      <td>123.000000</td>\n",
       "      <td>1.345500e+04</td>\n",
       "    </tr>\n",
       "    <tr>\n",
       "      <th>75%</th>\n",
       "      <td>9.693400e+04</td>\n",
       "      <td>2014.000000</td>\n",
       "      <td>1.980000</td>\n",
       "      <td>154.000000</td>\n",
       "      <td>2.327100e+04</td>\n",
       "    </tr>\n",
       "    <tr>\n",
       "      <th>max</th>\n",
       "      <td>6.213709e+06</td>\n",
       "      <td>2017.000000</td>\n",
       "      <td>32.770000</td>\n",
       "      <td>1337.000000</td>\n",
       "      <td>3.042000e+07</td>\n",
       "    </tr>\n",
       "  </tbody>\n",
       "</table>\n",
       "</div>"
      ],
      "text/plain": [
       "            mileage  manufacture_year   displacement    horse_power  \\\n",
       "count  3.000000e+05     300000.000000  300000.000000  300000.000000   \n",
       "mean   6.373923e+04       2009.096253       1.876543     136.943660   \n",
       "std    8.628841e+04         16.946915       0.904341      63.155779   \n",
       "min    0.000000e+00         39.000000       0.010000      13.000000   \n",
       "25%    1.599200e+04       2006.000000       1.560000     101.000000   \n",
       "50%    5.591400e+04       2011.000000       1.900000     123.000000   \n",
       "75%    9.693400e+04       2014.000000       1.980000     154.000000   \n",
       "max    6.213709e+06       2017.000000      32.770000    1337.000000   \n",
       "\n",
       "              price  \n",
       "count  3.000000e+05  \n",
       "mean   1.660514e+04  \n",
       "std    5.958110e+04  \n",
       "min    0.000000e+00  \n",
       "25%    4.797000e+03  \n",
       "50%    1.345500e+04  \n",
       "75%    2.327100e+04  \n",
       "max    3.042000e+07  "
      ]
     },
     "execution_count": 9,
     "metadata": {},
     "output_type": "execute_result"
    }
   ],
   "source": [
    "#from towards data science \n",
    "sec_car.describe()"
   ]
  },
  {
   "cell_type": "code",
   "execution_count": 10,
   "metadata": {
    "colab": {
     "base_uri": "https://localhost:8080/"
    },
    "id": "BOwYC7guevr_",
    "outputId": "23511083-890b-4913-aa93-fe282044a1ad"
   },
   "outputs": [
    {
     "data": {
      "text/plain": [
       "array(['4.0', '4', '5.0', '3', 'None', '2', '2.0', '3.0', '5', '7.0', '7',\n",
       "       '6', '6.0', '1.0', '1', 4.0, 5.0, 3.0, 2.0, 6.0, 7.0, 1.0],\n",
       "      dtype=object)"
      ]
     },
     "execution_count": 10,
     "metadata": {},
     "output_type": "execute_result"
    }
   ],
   "source": [
    "sec_car['door_count'].unique()"
   ]
  },
  {
   "cell_type": "code",
   "execution_count": 11,
   "metadata": {
    "colab": {
     "base_uri": "https://localhost:8080/"
    },
    "id": "sOMz_qfRevsA",
    "outputId": "bcffdf8a-aed9-4058-8750-8135c6fea7e2"
   },
   "outputs": [
    {
     "data": {
      "text/plain": [
       "5.0     78074\n",
       "4.0     66996\n",
       "4       55832\n",
       "2.0     17272\n",
       "4.0     16394\n",
       "5.0     15652\n",
       "2       15020\n",
       "3.0     12545\n",
       "5        8927\n",
       "None     6149\n",
       "2.0      3470\n",
       "3.0      2320\n",
       "3        1239\n",
       "6.0        70\n",
       "6.0        17\n",
       "6          13\n",
       "7.0         4\n",
       "7.0         2\n",
       "7           1\n",
       "1           1\n",
       "1.0         1\n",
       "1.0         1\n",
       "Name: door_count, dtype: int64"
      ]
     },
     "execution_count": 11,
     "metadata": {},
     "output_type": "execute_result"
    }
   ],
   "source": [
    "sec_car['door_count'].value_counts()"
   ]
  },
  {
   "cell_type": "code",
   "execution_count": 12,
   "metadata": {
    "id": "C_RroJhdevsA"
   },
   "outputs": [],
   "source": [
    "import pandas as pd\n",
    "import numpy as np\n",
    "import copy\n",
    "%matplotlib inline"
   ]
  },
  {
   "cell_type": "code",
   "execution_count": 13,
   "metadata": {
    "colab": {
     "base_uri": "https://localhost:8080/"
    },
    "id": "Cs5pfbADevsB",
    "outputId": "4e76c953-24eb-4cf4-ed78-dcf3865cfcc2"
   },
   "outputs": [
    {
     "data": {
      "text/plain": [
       "5.0     0.260247\n",
       "4.0     0.223320\n",
       "4       0.186107\n",
       "2.0     0.057573\n",
       "4.0     0.054647\n",
       "5.0     0.052173\n",
       "2       0.050067\n",
       "3.0     0.041817\n",
       "5       0.029757\n",
       "None    0.020497\n",
       "2.0     0.011567\n",
       "3.0     0.007733\n",
       "3       0.004130\n",
       "6.0     0.000233\n",
       "6.0     0.000057\n",
       "6       0.000043\n",
       "7.0     0.000013\n",
       "7.0     0.000007\n",
       "7       0.000003\n",
       "1       0.000003\n",
       "1.0     0.000003\n",
       "1.0     0.000003\n",
       "Name: door_count, dtype: float64"
      ]
     },
     "execution_count": 13,
     "metadata": {},
     "output_type": "execute_result"
    }
   ],
   "source": [
    "sec_car['door_count'].value_counts(normalize=True)"
   ]
  },
  {
   "cell_type": "code",
   "execution_count": 14,
   "metadata": {
    "colab": {
     "base_uri": "https://localhost:8080/"
    },
    "id": "v4L1OmU5evsC",
    "outputId": "4278bef2-ccbc-4b48-dbbe-242addbc1bef"
   },
   "outputs": [
    {
     "data": {
      "text/plain": [
       "5.0     0.466743\n",
       "5       0.203987\n",
       "5.0     0.102447\n",
       "4.0     0.064487\n",
       "None    0.035087\n",
       "4       0.032913\n",
       "7.0     0.029920\n",
       "4.0     0.010710\n",
       "7.0     0.008293\n",
       "2.0     0.008277\n",
       "7       0.008030\n",
       "3.0     0.005160\n",
       "2       0.004650\n",
       "9.0     0.003713\n",
       "6.0     0.003333\n",
       "3       0.003043\n",
       "2.0     0.001743\n",
       "9       0.001683\n",
       "8.0     0.001483\n",
       "9.0     0.000880\n",
       "6.0     0.000860\n",
       "6       0.000810\n",
       "3.0     0.000750\n",
       "8.0     0.000477\n",
       "8       0.000350\n",
       "17.0    0.000023\n",
       "1.0     0.000020\n",
       "1.0     0.000017\n",
       "17      0.000017\n",
       "10      0.000017\n",
       "12.0    0.000010\n",
       "15.0    0.000010\n",
       "10.0    0.000010\n",
       "1       0.000007\n",
       "18.0    0.000007\n",
       "14      0.000007\n",
       "13.0    0.000007\n",
       "18      0.000003\n",
       "57.0    0.000003\n",
       "74.0    0.000003\n",
       "55.0    0.000003\n",
       "10.0    0.000003\n",
       "20      0.000003\n",
       "Name: seat_count, dtype: float64"
      ]
     },
     "execution_count": 14,
     "metadata": {},
     "output_type": "execute_result"
    }
   ],
   "source": [
    "sec_car['seat_count'].value_counts(normalize=True)"
   ]
  },
  {
   "cell_type": "code",
   "execution_count": 15,
   "metadata": {
    "colab": {
     "base_uri": "https://localhost:8080/"
    },
    "id": "TeLTN14MevsC",
    "outputId": "9c4df312-6790-40d9-f758-f09002f152ed"
   },
   "outputs": [
    {
     "name": "stdout",
     "output_type": "stream",
     "text": [
      "maker                   3\n",
      "model                 105\n",
      "mileage             67879\n",
      "manufacture_year      123\n",
      "transmission            2\n",
      "door_count             22\n",
      "seat_count             43\n",
      "displacement          407\n",
      "horse_power           341\n",
      "price               32322\n",
      "dtype: int64\n"
     ]
    }
   ],
   "source": [
    "print(sec_car.nunique())"
   ]
  },
  {
   "cell_type": "code",
   "execution_count": 16,
   "metadata": {
    "colab": {
     "base_uri": "https://localhost:8080/"
    },
    "id": "PNP2IuxNevsD",
    "outputId": "ff0eb650-55c6-4738-c39c-ca7406adf017"
   },
   "outputs": [
    {
     "data": {
      "text/plain": [
       "2015.0    52417\n",
       "2012.0    30429\n",
       "2011.0    26476\n",
       "2014.0    21986\n",
       "2013.0    18937\n",
       "          ...  \n",
       "1597.0        1\n",
       "1589.0        1\n",
       "392.0         1\n",
       "381.0         1\n",
       "1009.0        1\n",
       "Name: manufacture_year, Length: 123, dtype: int64"
      ]
     },
     "execution_count": 16,
     "metadata": {},
     "output_type": "execute_result"
    }
   ],
   "source": [
    "sec_car['manufacture_year'].value_counts()"
   ]
  },
  {
   "cell_type": "code",
   "execution_count": 17,
   "metadata": {
    "colab": {
     "base_uri": "https://localhost:8080/"
    },
    "id": "pQyRGopPevsD",
    "outputId": "c293b4c9-a3d5-4621-ab01-f2fcd6d1dae7"
   },
   "outputs": [
    {
     "data": {
      "text/plain": [
       "maker               0\n",
       "model               0\n",
       "mileage             0\n",
       "manufacture_year    0\n",
       "transmission        0\n",
       "door_count          0\n",
       "seat_count          0\n",
       "displacement        0\n",
       "horse_power         0\n",
       "price               0\n",
       "dtype: int64"
      ]
     },
     "execution_count": 17,
     "metadata": {},
     "output_type": "execute_result"
    }
   ],
   "source": [
    "# Disply all Columns\n",
    "pd.options.display.max_rows=170\n",
    "\n",
    "# Finding missing values\n",
    "\n",
    "sec_car.isna().sum()\n"
   ]
  },
  {
   "cell_type": "code",
   "execution_count": 18,
   "metadata": {
    "colab": {
     "base_uri": "https://localhost:8080/"
    },
    "id": "m2gark25evsD",
    "outputId": "1744b254-78d8-4656-cdc5-31eb38bf10a9"
   },
   "outputs": [
    {
     "data": {
      "text/plain": [
       "golf               32427\n",
       "a3                 28055\n",
       "focus              27790\n",
       "fiesta             17915\n",
       "passat             15220\n",
       "a4                 13803\n",
       "mondeo             13580\n",
       "polo               11514\n",
       "a6                  9178\n",
       "c-max               7850\n",
       "touran              7413\n",
       "a1                  7000\n",
       "a5                  6731\n",
       "q5                  5548\n",
       "kuga                5126\n",
       "q3                  4563\n",
       "s-max               4547\n",
       "galaxy              4501\n",
       "tiguan              4347\n",
       "ka                  4320\n",
       "caddy               4039\n",
       "transit             3781\n",
       "coupe               3526\n",
       "q7                  3338\n",
       "sharan              3045\n",
       "a8                  2626\n",
       "multivan            2436\n",
       "golf-sportsvan      2342\n",
       "tt                  2291\n",
       "fusion              2242\n",
       "golf-plus           2187\n",
       "touareg             2069\n",
       "up                  2002\n",
       "b-max               1945\n",
       "transporter         1677\n",
       "a6-allroad          1615\n",
       "grand-c-max         1478\n",
       "a7                  1457\n",
       "80                  1341\n",
       "90                  1158\n",
       "a4-allroad          1091\n",
       "s3                  1009\n",
       "scirocco             978\n",
       "tourneo-connect      972\n",
       "caravelle            941\n",
       "lupo                 913\n",
       "beetle               880\n",
       "mustang              862\n",
       "a2                   818\n",
       "passat-cc            749\n",
       "new-beetle           705\n",
       "fox                  657\n",
       "eos                  641\n",
       "cc                   636\n",
       "escort               602\n",
       "bora                 584\n",
       "sq5                  583\n",
       "200                  555\n",
       "jetta                526\n",
       "s4                   524\n",
       "tourneo-custom       517\n",
       "phaeton              483\n",
       "amarok               472\n",
       "rs6                  455\n",
       "r8                   427\n",
       "s5                   422\n",
       "100                  415\n",
       "s6                   366\n",
       "rs4                  286\n",
       "rs3                  273\n",
       "connect              253\n",
       "streetka             234\n",
       "tourneo-courier      227\n",
       "s8                   223\n",
       "maverick             210\n",
       "puma                 182\n",
       "rs5                  166\n",
       "cougar               160\n",
       "explorer             152\n",
       "s7                   100\n",
       "gt                   100\n",
       "vento                 79\n",
       "thunderbird           63\n",
       "sierra                58\n",
       "scorpio               58\n",
       "probe                 45\n",
       "capri                 44\n",
       "corrado               36\n",
       "taunus                35\n",
       "rs7                   34\n",
       "edge                  27\n",
       "windstar              24\n",
       "granada               20\n",
       "expedition            17\n",
       "f-150                 16\n",
       "v8                    16\n",
       "crown-victoria        14\n",
       "marauder              13\n",
       "escape                 8\n",
       "rs2                    7\n",
       "orion                  5\n",
       "taurus                 4\n",
       "excursion              2\n",
       "routan                 2\n",
       "contour                1\n",
       "Name: model, dtype: int64"
      ]
     },
     "execution_count": 18,
     "metadata": {},
     "output_type": "execute_result"
    }
   ],
   "source": [
    "sec_car['model'].value_counts()"
   ]
  },
  {
   "cell_type": "code",
   "execution_count": 19,
   "metadata": {
    "colab": {
     "base_uri": "https://localhost:8080/"
    },
    "id": "GgBZAJp_evsE",
    "outputId": "f84fc286-9eeb-4b15-efaa-5536b98933d4"
   },
   "outputs": [
    {
     "data": {
      "text/plain": [
       "Index(['maker', 'model', 'mileage', 'manufacture_year', 'transmission',\n",
       "       'door_count', 'seat_count', 'displacement', 'horse_power', 'price'],\n",
       "      dtype='object')"
      ]
     },
     "execution_count": 19,
     "metadata": {},
     "output_type": "execute_result"
    }
   ],
   "source": [
    "sec_car.columns"
   ]
  },
  {
   "cell_type": "code",
   "execution_count": 20,
   "metadata": {
    "colab": {
     "base_uri": "https://localhost:8080/"
    },
    "id": "en7e0L7VevsE",
    "outputId": "22fca1e3-8eb3-422e-b945-83994287e73e"
   },
   "outputs": [
    {
     "data": {
      "text/plain": [
       "volkswagen    100000\n",
       "audi          100000\n",
       "ford          100000\n",
       "Name: maker, dtype: int64"
      ]
     },
     "execution_count": 20,
     "metadata": {},
     "output_type": "execute_result"
    }
   ],
   "source": [
    "sec_car['maker'].value_counts()"
   ]
  },
  {
   "cell_type": "code",
   "execution_count": 21,
   "metadata": {
    "colab": {
     "base_uri": "https://localhost:8080/"
    },
    "id": "fDwIVpDPevsE",
    "outputId": "d6a609c9-fc89-4853-be8c-7723c2685bf0"
   },
   "outputs": [
    {
     "data": {
      "text/plain": [
       "(300000, 10)"
      ]
     },
     "execution_count": 21,
     "metadata": {},
     "output_type": "execute_result"
    }
   ],
   "source": [
    "sec_car.shape"
   ]
  },
  {
   "cell_type": "code",
   "execution_count": 22,
   "metadata": {
    "colab": {
     "base_uri": "https://localhost:8080/"
    },
    "id": "j-tedeNZevsF",
    "outputId": "6f968dc6-0b90-4c1f-fadc-11a155e2056a"
   },
   "outputs": [
    {
     "data": {
      "text/plain": [
       "300000"
      ]
     },
     "execution_count": 22,
     "metadata": {},
     "output_type": "execute_result"
    }
   ],
   "source": [
    "len(sec_car)"
   ]
  },
  {
   "cell_type": "code",
   "execution_count": 23,
   "metadata": {
    "colab": {
     "base_uri": "https://localhost:8080/",
     "height": 206
    },
    "id": "MbAzHW5HevsF",
    "outputId": "70b187ce-2fe0-48d1-f1d1-f1956f412309"
   },
   "outputs": [
    {
     "data": {
      "text/html": [
       "<div>\n",
       "<style scoped>\n",
       "    .dataframe tbody tr th:only-of-type {\n",
       "        vertical-align: middle;\n",
       "    }\n",
       "\n",
       "    .dataframe tbody tr th {\n",
       "        vertical-align: top;\n",
       "    }\n",
       "\n",
       "    .dataframe thead th {\n",
       "        text-align: right;\n",
       "    }\n",
       "</style>\n",
       "<table border=\"1\" class=\"dataframe\">\n",
       "  <thead>\n",
       "    <tr style=\"text-align: right;\">\n",
       "      <th></th>\n",
       "      <th>count</th>\n",
       "      <th>mean</th>\n",
       "      <th>std</th>\n",
       "      <th>min</th>\n",
       "      <th>25%</th>\n",
       "      <th>50%</th>\n",
       "      <th>75%</th>\n",
       "      <th>max</th>\n",
       "    </tr>\n",
       "  </thead>\n",
       "  <tbody>\n",
       "    <tr>\n",
       "      <th>mileage</th>\n",
       "      <td>300000.0</td>\n",
       "      <td>63739.228950</td>\n",
       "      <td>86288.411138</td>\n",
       "      <td>0.00</td>\n",
       "      <td>15992.00</td>\n",
       "      <td>55914.0</td>\n",
       "      <td>96934.00</td>\n",
       "      <td>6213709.00</td>\n",
       "    </tr>\n",
       "    <tr>\n",
       "      <th>manufacture_year</th>\n",
       "      <td>300000.0</td>\n",
       "      <td>2009.096253</td>\n",
       "      <td>16.946915</td>\n",
       "      <td>39.00</td>\n",
       "      <td>2006.00</td>\n",
       "      <td>2011.0</td>\n",
       "      <td>2014.00</td>\n",
       "      <td>2017.00</td>\n",
       "    </tr>\n",
       "    <tr>\n",
       "      <th>displacement</th>\n",
       "      <td>300000.0</td>\n",
       "      <td>1.876543</td>\n",
       "      <td>0.904341</td>\n",
       "      <td>0.01</td>\n",
       "      <td>1.56</td>\n",
       "      <td>1.9</td>\n",
       "      <td>1.98</td>\n",
       "      <td>32.77</td>\n",
       "    </tr>\n",
       "    <tr>\n",
       "      <th>horse_power</th>\n",
       "      <td>300000.0</td>\n",
       "      <td>136.943660</td>\n",
       "      <td>63.155779</td>\n",
       "      <td>13.00</td>\n",
       "      <td>101.00</td>\n",
       "      <td>123.0</td>\n",
       "      <td>154.00</td>\n",
       "      <td>1337.00</td>\n",
       "    </tr>\n",
       "    <tr>\n",
       "      <th>price</th>\n",
       "      <td>300000.0</td>\n",
       "      <td>16605.141743</td>\n",
       "      <td>59581.096613</td>\n",
       "      <td>0.00</td>\n",
       "      <td>4797.00</td>\n",
       "      <td>13455.0</td>\n",
       "      <td>23271.00</td>\n",
       "      <td>30420000.00</td>\n",
       "    </tr>\n",
       "  </tbody>\n",
       "</table>\n",
       "</div>"
      ],
      "text/plain": [
       "                     count          mean           std    min       25%  \\\n",
       "mileage           300000.0  63739.228950  86288.411138   0.00  15992.00   \n",
       "manufacture_year  300000.0   2009.096253     16.946915  39.00   2006.00   \n",
       "displacement      300000.0      1.876543      0.904341   0.01      1.56   \n",
       "horse_power       300000.0    136.943660     63.155779  13.00    101.00   \n",
       "price             300000.0  16605.141743  59581.096613   0.00   4797.00   \n",
       "\n",
       "                      50%       75%          max  \n",
       "mileage           55914.0  96934.00   6213709.00  \n",
       "manufacture_year   2011.0   2014.00      2017.00  \n",
       "displacement          1.9      1.98        32.77  \n",
       "horse_power         123.0    154.00      1337.00  \n",
       "price             13455.0  23271.00  30420000.00  "
      ]
     },
     "execution_count": 23,
     "metadata": {},
     "output_type": "execute_result"
    }
   ],
   "source": [
    "sec_car.describe().transpose()"
   ]
  },
  {
   "cell_type": "code",
   "execution_count": 24,
   "metadata": {
    "colab": {
     "base_uri": "https://localhost:8080/"
    },
    "id": "M3FxwiQyevsF",
    "outputId": "979c3689-7080-4d5b-d52a-1bbd36da6f37"
   },
   "outputs": [
    {
     "data": {
      "text/plain": [
       "NoneType"
      ]
     },
     "execution_count": 24,
     "metadata": {},
     "output_type": "execute_result"
    }
   ],
   "source": [
    "type(None) #(Object)"
   ]
  },
  {
   "cell_type": "code",
   "execution_count": 25,
   "metadata": {
    "id": "WSk3sG-4evsG"
   },
   "outputs": [],
   "source": [
    "# sec_car_dtype = pd.DataFrame(index=sec_car.index, columns=sec_car.columns)\n",
    "# for rowindex in range(sec_car.shape[5]):\n",
    "#     for columnindex in range (sec_car.shape[6]):\n",
    "#         sec_car_dtype.iloc[rowindex,columnindex] = str(type(sec_car.iloc[rowindex,columnindex]))\n",
    "#         sec_car_dtype"
   ]
  },
  {
   "cell_type": "code",
   "execution_count": 26,
   "metadata": {
    "colab": {
     "base_uri": "https://localhost:8080/",
     "height": 175
    },
    "id": "13T2-ulUevsG",
    "outputId": "0fd691a7-9472-4c6c-de03-5c11b2645c0f"
   },
   "outputs": [
    {
     "data": {
      "text/html": [
       "<div>\n",
       "<style scoped>\n",
       "    .dataframe tbody tr th:only-of-type {\n",
       "        vertical-align: middle;\n",
       "    }\n",
       "\n",
       "    .dataframe tbody tr th {\n",
       "        vertical-align: top;\n",
       "    }\n",
       "\n",
       "    .dataframe thead th {\n",
       "        text-align: right;\n",
       "    }\n",
       "</style>\n",
       "<table border=\"1\" class=\"dataframe\">\n",
       "  <thead>\n",
       "    <tr style=\"text-align: right;\">\n",
       "      <th></th>\n",
       "      <th>maker</th>\n",
       "      <th>model</th>\n",
       "      <th>transmission</th>\n",
       "      <th>door_count</th>\n",
       "      <th>seat_count</th>\n",
       "    </tr>\n",
       "  </thead>\n",
       "  <tbody>\n",
       "    <tr>\n",
       "      <th>count</th>\n",
       "      <td>300000</td>\n",
       "      <td>300000</td>\n",
       "      <td>300000</td>\n",
       "      <td>300000</td>\n",
       "      <td>300000</td>\n",
       "    </tr>\n",
       "    <tr>\n",
       "      <th>unique</th>\n",
       "      <td>3</td>\n",
       "      <td>105</td>\n",
       "      <td>2</td>\n",
       "      <td>22</td>\n",
       "      <td>43</td>\n",
       "    </tr>\n",
       "    <tr>\n",
       "      <th>top</th>\n",
       "      <td>volkswagen</td>\n",
       "      <td>golf</td>\n",
       "      <td>man</td>\n",
       "      <td>5.0</td>\n",
       "      <td>5.0</td>\n",
       "    </tr>\n",
       "    <tr>\n",
       "      <th>freq</th>\n",
       "      <td>100000</td>\n",
       "      <td>32427</td>\n",
       "      <td>219799</td>\n",
       "      <td>78074</td>\n",
       "      <td>140023</td>\n",
       "    </tr>\n",
       "  </tbody>\n",
       "</table>\n",
       "</div>"
      ],
      "text/plain": [
       "             maker   model transmission door_count seat_count\n",
       "count       300000  300000       300000     300000     300000\n",
       "unique           3     105            2         22         43\n",
       "top     volkswagen    golf          man        5.0        5.0\n",
       "freq        100000   32427       219799      78074     140023"
      ]
     },
     "execution_count": 26,
     "metadata": {},
     "output_type": "execute_result"
    }
   ],
   "source": [
    "sec_car.describe(include=['object', 'bool'])"
   ]
  },
  {
   "cell_type": "code",
   "execution_count": 27,
   "metadata": {
    "id": "Opn92SADevsG"
   },
   "outputs": [],
   "source": [
    "#For categorical (type object) and boolean (type bool) features we can use the value_counts method"
   ]
  },
  {
   "cell_type": "code",
   "execution_count": 28,
   "metadata": {
    "colab": {
     "base_uri": "https://localhost:8080/"
    },
    "id": "ZdsKFGijevsG",
    "outputId": "dc05ea87-c4d7-4912-a142-592d7abac2a9"
   },
   "outputs": [
    {
     "data": {
      "text/plain": [
       "audi          100000\n",
       "ford          100000\n",
       "volkswagen    100000\n",
       "Name: maker, dtype: int64"
      ]
     },
     "execution_count": 28,
     "metadata": {},
     "output_type": "execute_result"
    }
   ],
   "source": [
    "sec_car['maker'].value_counts()"
   ]
  },
  {
   "cell_type": "code",
   "execution_count": 29,
   "metadata": {
    "colab": {
     "base_uri": "https://localhost:8080/"
    },
    "id": "qVfkzRsyevsH",
    "outputId": "9146e7fb-946c-4133-868f-23a218c18538"
   },
   "outputs": [
    {
     "data": {
      "text/plain": [
       "golf               32427\n",
       "a3                 28055\n",
       "focus              27790\n",
       "fiesta             17915\n",
       "passat             15220\n",
       "a4                 13803\n",
       "mondeo             13580\n",
       "polo               11514\n",
       "a6                  9178\n",
       "c-max               7850\n",
       "touran              7413\n",
       "a1                  7000\n",
       "a5                  6731\n",
       "q5                  5548\n",
       "kuga                5126\n",
       "q3                  4563\n",
       "s-max               4547\n",
       "galaxy              4501\n",
       "tiguan              4347\n",
       "ka                  4320\n",
       "caddy               4039\n",
       "transit             3781\n",
       "coupe               3526\n",
       "q7                  3338\n",
       "sharan              3045\n",
       "a8                  2626\n",
       "multivan            2436\n",
       "golf-sportsvan      2342\n",
       "tt                  2291\n",
       "fusion              2242\n",
       "golf-plus           2187\n",
       "touareg             2069\n",
       "up                  2002\n",
       "b-max               1945\n",
       "transporter         1677\n",
       "a6-allroad          1615\n",
       "grand-c-max         1478\n",
       "a7                  1457\n",
       "80                  1341\n",
       "90                  1158\n",
       "a4-allroad          1091\n",
       "s3                  1009\n",
       "scirocco             978\n",
       "tourneo-connect      972\n",
       "caravelle            941\n",
       "lupo                 913\n",
       "beetle               880\n",
       "mustang              862\n",
       "a2                   818\n",
       "passat-cc            749\n",
       "new-beetle           705\n",
       "fox                  657\n",
       "eos                  641\n",
       "cc                   636\n",
       "escort               602\n",
       "bora                 584\n",
       "sq5                  583\n",
       "200                  555\n",
       "jetta                526\n",
       "s4                   524\n",
       "tourneo-custom       517\n",
       "phaeton              483\n",
       "amarok               472\n",
       "rs6                  455\n",
       "r8                   427\n",
       "s5                   422\n",
       "100                  415\n",
       "s6                   366\n",
       "rs4                  286\n",
       "rs3                  273\n",
       "connect              253\n",
       "streetka             234\n",
       "tourneo-courier      227\n",
       "s8                   223\n",
       "maverick             210\n",
       "puma                 182\n",
       "rs5                  166\n",
       "cougar               160\n",
       "explorer             152\n",
       "gt                   100\n",
       "s7                   100\n",
       "vento                 79\n",
       "thunderbird           63\n",
       "sierra                58\n",
       "scorpio               58\n",
       "probe                 45\n",
       "capri                 44\n",
       "corrado               36\n",
       "taunus                35\n",
       "rs7                   34\n",
       "edge                  27\n",
       "windstar              24\n",
       "granada               20\n",
       "expedition            17\n",
       "f-150                 16\n",
       "v8                    16\n",
       "crown-victoria        14\n",
       "marauder              13\n",
       "escape                 8\n",
       "rs2                    7\n",
       "orion                  5\n",
       "taurus                 4\n",
       "excursion              2\n",
       "routan                 2\n",
       "contour                1\n",
       "Name: model, dtype: int64"
      ]
     },
     "execution_count": 29,
     "metadata": {},
     "output_type": "execute_result"
    }
   ],
   "source": [
    "sec_car['model'].value_counts()"
   ]
  },
  {
   "cell_type": "code",
   "execution_count": 32,
   "metadata": {},
   "outputs": [
    {
     "data": {
      "image/png": "[encoded data removed]",
      "text/plain": [
       "<Figure size 576x432 with 2 Axes>"
      ]
     },
     "metadata": {
      "needs_background": "light"
     },
     "output_type": "display_data"
    }
   ],
   "source": [
    "plt.figure(figsize=(8,6))\n",
    "sns.heatmap(sec_car.corr(),annot=True,cmap=\"winter_r\")\n",
    "plt.show()   #displacement & horsepower are correlated"
   ]
  },
  {
   "cell_type": "code",
   "execution_count": 33,
   "metadata": {},
   "outputs": [
    {
     "data": {
      "image/png": "[encoded data removed]",
      "text/plain": [
       "<Figure size 1008x576 with 6 Axes>"
      ]
     },
     "metadata": {
      "needs_background": "light"
     },
     "output_type": "display_data"
    }
   ],
   "source": [
    "#Plotting Categorical Variables\n",
    "fig, ax = plt.subplots(3, 2 ,figsize=(14,8))\n",
    "sec_car[\"maker\"].value_counts().plot.barh(color=\"purple\", ax=ax[0,0])\n",
    "sec_car[\"transmission\"].value_counts().plot.pie(autopct='%1.1f%%',shadow=True,textprops={\"fontsize\": 10},ax=ax[0,1])\n",
    "fig.suptitle(\"Maker Frequency\", fontsize=15)\n",
    "plt.xticks(rotation=0)\n",
    "plt.yticks(rotation=45)\n",
    "\n",
    "sec_car[\"transmission\"].value_counts().plot.barh(color=\"purple\", ax=ax[1,0])\n",
    "sec_car[\"maker\"].value_counts().plot.pie(autopct='%1.1f%%',shadow=True,textprops={\"fontsize\": 10},ax=ax[1,1])\n",
    "fig.suptitle(\" Frequency\", fontsize=15)\n",
    "plt.xticks(rotation=0)\n",
    "plt.yticks(rotation=45)\n",
    "\n",
    "sec_car[\"transmission\"].value_counts().plot.barh(color=\"purple\", ax=ax[2,0])\n",
    "sec_car[\"maker\"].value_counts().plot.pie(autopct='%1.1f%%',shadow=True,textprops={\"fontsize\": 10},ax=ax[2,1])\n",
    "fig.suptitle(\" Frequency\", fontsize=15)\n",
    "plt.xticks(rotation=0)\n",
    "plt.yticks(rotation=45)\n",
    "\n",
    "plt.show()"
   ]
  },
  {
   "cell_type": "code",
   "execution_count": 34,
   "metadata": {},
   "outputs": [
    {
     "data": {
      "text/plain": [
       "<Figure size 1440x3600 with 0 Axes>"
      ]
     },
     "execution_count": 34,
     "metadata": {},
     "output_type": "execute_result"
    },
    {
     "data": {
      "image/png": "[encoded data removed]",
      "text/plain": [
       "<Figure size 1008x360 with 3 Axes>"
      ]
     },
     "metadata": {
      "needs_background": "light"
     },
     "output_type": "display_data"
    },
    {
     "data": {
      "text/plain": [
       "<Figure size 1440x3600 with 0 Axes>"
      ]
     },
     "metadata": {},
     "output_type": "display_data"
    }
   ],
   "source": [
    "#Plotting Numerical Variables\n",
    "fig, ax = plt.subplots(1, 3,figsize=(14,5))\n",
    "fig.suptitle(\"mileage\", fontsize=15)\n",
    "sns.distplot(sec_car[\"mileage\"], ax=ax[0])\n",
    "sns.boxplot(sec_car[\"mileage\"], ax=ax[1])\n",
    "sns.violinplot(sec_car[\"mileage\"], ax=ax[2])\n",
    "plt.figure(figsize=(20,50))\n"
   ]
  },
  {
   "cell_type": "code",
   "execution_count": 35,
   "metadata": {},
   "outputs": [
    {
     "data": {
      "text/plain": [
       "<AxesSubplot:xlabel='horse_power'>"
      ]
     },
     "execution_count": 35,
     "metadata": {},
     "output_type": "execute_result"
    },
    {
     "data": {
      "image/png": "[encoded data removed]",
      "text/plain": [
       "<Figure size 1008x360 with 3 Axes>"
      ]
     },
     "metadata": {
      "needs_background": "light"
     },
     "output_type": "display_data"
    }
   ],
   "source": [
    "fig, ax = plt.subplots(1, 3,figsize=(14,5))\n",
    "fig.suptitle(\"horse_power\", fontsize=15)\n",
    "sns.distplot(sec_car[\"horse_power\"], ax=ax[0])\n",
    "sns.boxplot(sec_car[\"horse_power\"], ax=ax[1])\n",
    "sns.violinplot(sec_car[\"horse_power\"], ax=ax[2])"
   ]
  },
  {
   "cell_type": "code",
   "execution_count": 36,
   "metadata": {},
   "outputs": [
    {
     "data": {
      "text/plain": [
       "<AxesSubplot:xlabel='price'>"
      ]
     },
     "execution_count": 36,
     "metadata": {},
     "output_type": "execute_result"
    },
    {
     "data": {
      "image/png": "[encoded data removed]",
      "text/plain": [
       "<Figure size 1008x360 with 3 Axes>"
      ]
     },
     "metadata": {
      "needs_background": "light"
     },
     "output_type": "display_data"
    }
   ],
   "source": [
    "fig, ax = plt.subplots(1, 3,figsize=(14,5))\n",
    "fig.suptitle(\"price\", fontsize=15)\n",
    "sns.distplot(sec_car[\"price\"], ax=ax[0])\n",
    "sns.boxplot(sec_car[\"price\"], ax=ax[1])\n",
    "sns.violinplot(sec_car[\"price\"], ax=ax[2])"
   ]
  },
  {
   "cell_type": "code",
   "execution_count": 37,
   "metadata": {},
   "outputs": [
    {
     "data": {
      "text/plain": [
       "<AxesSubplot:xlabel='displacement'>"
      ]
     },
     "execution_count": 37,
     "metadata": {},
     "output_type": "execute_result"
    },
    {
     "data": {
      "image/png": "[encoded data removed]",
      "text/plain": [
       "<Figure size 1008x360 with 3 Axes>"
      ]
     },
     "metadata": {
      "needs_background": "light"
     },
     "output_type": "display_data"
    }
   ],
   "source": [
    "fig, ax = plt.subplots(1, 3,figsize=(14,5))\n",
    "fig.suptitle(\"price\", fontsize=15)\n",
    "sns.distplot(sec_car[\"displacement\"], ax=ax[0])\n",
    "sns.boxplot(sec_car[\"displacement\"], ax=ax[1])\n",
    "sns.violinplot(sec_car[\"displacement\"], ax=ax[2])"
   ]
  },
  {
   "cell_type": "code",
   "execution_count": 38,
   "metadata": {},
   "outputs": [
    {
     "data": {
      "text/plain": [
       "<AxesSubplot:xlabel='manufacture_year'>"
      ]
     },
     "execution_count": 38,
     "metadata": {},
     "output_type": "execute_result"
    },
    {
     "data": {
      "image/png": "[encoded data removed]",
      "text/plain": [
       "<Figure size 1008x360 with 3 Axes>"
      ]
     },
     "metadata": {
      "needs_background": "light"
     },
     "output_type": "display_data"
    }
   ],
   "source": [
    "fig, ax = plt.subplots(1, 3,figsize=(14,5))\n",
    "fig.suptitle(\"price\", fontsize=15)\n",
    "sns.distplot(sec_car[\"manufacture_year\"], ax=ax[0])\n",
    "sns.boxplot(sec_car[\"manufacture_year\"], ax=ax[1])\n",
    "sns.violinplot(sec_car[\"manufacture_year\"], ax=ax[2])"
   ]
  },
  {
   "cell_type": "code",
   "execution_count": 39,
   "metadata": {},
   "outputs": [],
   "source": [
    "# As you see in the plot charges and age or charges and bmi are highly scattered so i will use log scale\n",
    "log_price = np.log(sec_car['price'])\n",
    "sec_car['price'] = log_price\n"
   ]
  },
  {
   "cell_type": "code",
   "execution_count": 42,
   "metadata": {
    "colab": {
     "base_uri": "https://localhost:8080/",
     "height": 602
    },
    "id": "a5xo6P70evsH",
    "outputId": "a9c7b984-0eba-41a9-9d34-72d9abe8d977"
   },
   "outputs": [
    {
     "data": {
      "image/png": "[encoded data removed]",
      "text/plain": [
       "<Figure size 1440x720 with 1 Axes>"
      ]
     },
     "metadata": {
      "needs_background": "light"
     },
     "output_type": "display_data"
    }
   ],
   "source": [
    "(sec_car['model'].value_counts().plot(\n",
    "        kind='bar',\n",
    "        figsize=(20, 10),\n",
    "        title='Distribution of Model',\n",
    "    )\n",
    ");\n",
    "plt.show()"
   ]
  },
  {
   "cell_type": "code",
   "execution_count": 43,
   "metadata": {
    "colab": {
     "base_uri": "https://localhost:8080/",
     "height": 411
    },
    "id": "nJDn5jdNevsH",
    "outputId": "86979242-3865-4c1b-c9be-7f7fd3965be8"
   },
   "outputs": [
    {
     "data": {
      "image/png": "[encoded data removed]",
      "text/plain": [
       "<Figure size 1440x720 with 1 Axes>"
      ]
     },
     "metadata": {
      "needs_background": "light"
     },
     "output_type": "display_data"
    }
   ],
   "source": [
    "(sec_car['door_count'].value_counts().plot(\n",
    "        kind='bar',\n",
    "        figsize=(20, 10),\n",
    "        title='Distribution of Door Count',\n",
    "    )\n",
    ");\n",
    "plt.show()"
   ]
  },
  {
   "cell_type": "code",
   "execution_count": 44,
   "metadata": {
    "colab": {
     "base_uri": "https://localhost:8080/",
     "height": 544
    },
    "id": "HZxpTfz7evsI",
    "outputId": "01128a8e-24f6-4ce1-fe5e-b3a666a3ea29",
    "scrolled": true
   },
   "outputs": [
    {
     "data": {
      "image/png": "[encoded data removed]",
      "text/plain": [
       "<Figure size 1440x720 with 1 Axes>"
      ]
     },
     "metadata": {
      "needs_background": "light"
     },
     "output_type": "display_data"
    }
   ],
   "source": [
    "(sec_car['seat_count'].value_counts().plot(\n",
    "        kind='bar',\n",
    "        figsize=(20, 10),\n",
    "        title='Distribution of Seat Count',\n",
    "    )\n",
    ");\n",
    "plt.show()"
   ]
  },
  {
   "cell_type": "code",
   "execution_count": 46,
   "metadata": {
    "colab": {
     "base_uri": "https://localhost:8080/"
    },
    "id": "eCRqgcwvevsI",
    "outputId": "740e0837-ead4-4354-8db4-717943b56871"
   },
   "outputs": [
    {
     "data": {
      "text/plain": [
       "maker                   3\n",
       "model                 105\n",
       "mileage             67879\n",
       "manufacture_year      123\n",
       "transmission            2\n",
       "door_count             22\n",
       "seat_count             43\n",
       "displacement          407\n",
       "horse_power           341\n",
       "price               32322\n",
       "dtype: int64"
      ]
     },
     "execution_count": 46,
     "metadata": {},
     "output_type": "execute_result"
    }
   ],
   "source": [
    "sec_car.nunique(axis=0)"
   ]
  },
  {
   "cell_type": "code",
   "execution_count": 53,
   "metadata": {
    "colab": {
     "base_uri": "https://localhost:8080/",
     "height": 206
    },
    "id": "V2He70e-evsK",
    "outputId": "295009d2-5299-42ec-f42c-f099a9a26c68"
   },
   "outputs": [
    {
     "data": {
      "text/html": [
       "<div>\n",
       "<style scoped>\n",
       "    .dataframe tbody tr th:only-of-type {\n",
       "        vertical-align: middle;\n",
       "    }\n",
       "\n",
       "    .dataframe tbody tr th {\n",
       "        vertical-align: top;\n",
       "    }\n",
       "\n",
       "    .dataframe thead th {\n",
       "        text-align: right;\n",
       "    }\n",
       "</style>\n",
       "<table border=\"1\" class=\"dataframe\">\n",
       "  <thead>\n",
       "    <tr style=\"text-align: right;\">\n",
       "      <th></th>\n",
       "      <th>mileage</th>\n",
       "      <th>manufacture_year</th>\n",
       "      <th>displacement</th>\n",
       "      <th>horse_power</th>\n",
       "      <th>price</th>\n",
       "    </tr>\n",
       "  </thead>\n",
       "  <tbody>\n",
       "    <tr>\n",
       "      <th>mileage</th>\n",
       "      <td>1.000000</td>\n",
       "      <td>-0.146711</td>\n",
       "      <td>0.117333</td>\n",
       "      <td>-0.037132</td>\n",
       "      <td>-0.380640</td>\n",
       "    </tr>\n",
       "    <tr>\n",
       "      <th>manufacture_year</th>\n",
       "      <td>-0.146711</td>\n",
       "      <td>1.000000</td>\n",
       "      <td>-0.082326</td>\n",
       "      <td>0.049929</td>\n",
       "      <td>0.238429</td>\n",
       "    </tr>\n",
       "    <tr>\n",
       "      <th>displacement</th>\n",
       "      <td>0.117333</td>\n",
       "      <td>-0.082326</td>\n",
       "      <td>1.000000</td>\n",
       "      <td>0.538853</td>\n",
       "      <td>0.132187</td>\n",
       "    </tr>\n",
       "    <tr>\n",
       "      <th>horse_power</th>\n",
       "      <td>-0.037132</td>\n",
       "      <td>0.049929</td>\n",
       "      <td>0.538853</td>\n",
       "      <td>1.000000</td>\n",
       "      <td>0.441850</td>\n",
       "    </tr>\n",
       "    <tr>\n",
       "      <th>price</th>\n",
       "      <td>-0.380640</td>\n",
       "      <td>0.238429</td>\n",
       "      <td>0.132187</td>\n",
       "      <td>0.441850</td>\n",
       "      <td>1.000000</td>\n",
       "    </tr>\n",
       "  </tbody>\n",
       "</table>\n",
       "</div>"
      ],
      "text/plain": [
       "                   mileage  manufacture_year  displacement  horse_power  \\\n",
       "mileage           1.000000         -0.146711      0.117333    -0.037132   \n",
       "manufacture_year -0.146711          1.000000     -0.082326     0.049929   \n",
       "displacement      0.117333         -0.082326      1.000000     0.538853   \n",
       "horse_power      -0.037132          0.049929      0.538853     1.000000   \n",
       "price            -0.380640          0.238429      0.132187     0.441850   \n",
       "\n",
       "                     price  \n",
       "mileage          -0.380640  \n",
       "manufacture_year  0.238429  \n",
       "displacement      0.132187  \n",
       "horse_power       0.441850  \n",
       "price             1.000000  "
      ]
     },
     "execution_count": 53,
     "metadata": {},
     "output_type": "execute_result"
    }
   ],
   "source": [
    "#Calculate Correlation\n",
    "corr_matrix = sec_car.corr()  # corr(autinsurance)\n",
    "corr_matrix\n"
   ]
  },
  {
   "cell_type": "code",
   "execution_count": 55,
   "metadata": {
    "colab": {
     "base_uri": "https://localhost:8080/",
     "height": 542
    },
    "id": "lXGVQw_aevsK",
    "outputId": "002753af-b787-4ed2-dfaa-0c46074089ff",
    "scrolled": true
   },
   "outputs": [
    {
     "data": {
      "text/plain": [
       "<AxesSubplot:>"
      ]
     },
     "execution_count": 55,
     "metadata": {},
     "output_type": "execute_result"
    },
    {
     "data": {
      "image/png": "[encoded data removed]",
      "text/plain": [
       "<Figure size 432x288 with 1 Axes>"
      ]
     },
     "metadata": {
      "needs_background": "light"
     },
     "output_type": "display_data"
    }
   ],
   "source": [
    "# Correlation with Target Variable\n",
    "sec_car.corr()['price'].plot()"
   ]
  },
  {
   "cell_type": "code",
   "execution_count": 61,
   "metadata": {
    "id": "NfqDXaIZevsL",
    "scrolled": true
   },
   "outputs": [
    {
     "data": {
      "image/png": "[encoded data removed]",
      "text/plain": [
       "<Figure size 360x360 with 1 Axes>"
      ]
     },
     "metadata": {
      "needs_background": "light"
     },
     "output_type": "display_data"
    }
   ],
   "source": [
    "#Scatter Plot\n",
    "plt.rcParams['figure.figsize'] = 5,5\n",
    "\n",
    "plt.scatter(sec_car['displacement'], sec_car['horse_power']);"
   ]
  },
  {
   "cell_type": "code",
   "execution_count": 65,
   "metadata": {
    "colab": {
     "base_uri": "https://localhost:8080/"
    },
    "id": "EBjlKmApevsM",
    "outputId": "2cc9c28d-f84d-419c-bc41-9c68c4b84eeb"
   },
   "outputs": [],
   "source": [
    "# pip install pandas_profiling"
   ]
  },
  {
   "cell_type": "code",
   "execution_count": 66,
   "metadata": {
    "id": "sj4In3yaevsM"
   },
   "outputs": [],
   "source": [
    "# from pandas_profiling import ProfileReport"
   ]
  },
  {
   "cell_type": "code",
   "execution_count": 67,
   "metadata": {
    "id": "MAMZ3qDievsM"
   },
   "outputs": [],
   "source": [
    "# profile = ProfileReport(sec_car, title='Pandas Profiling Report', explorative=True)"
   ]
  },
  {
   "cell_type": "code",
   "execution_count": 68,
   "metadata": {
    "colab": {
     "base_uri": "https://localhost:8080/"
    },
    "id": "jzSWbzSZevsM",
    "outputId": "fdd293df-b383-4683-d08e-fdaaf3ce43ea"
   },
   "outputs": [
    {
     "data": {
      "text/plain": [
       "maker               0\n",
       "model               0\n",
       "mileage             0\n",
       "manufacture_year    0\n",
       "transmission        0\n",
       "door_count          0\n",
       "seat_count          0\n",
       "displacement        0\n",
       "horse_power         0\n",
       "price               0\n",
       "dtype: int64"
      ]
     },
     "execution_count": 68,
     "metadata": {},
     "output_type": "execute_result"
    }
   ],
   "source": [
    "sec_car.isnull().sum()"
   ]
  },
  {
   "cell_type": "code",
   "execution_count": 28,
   "metadata": {
    "colab": {
     "base_uri": "https://localhost:8080/"
    },
    "id": "FxzgN-g3evsM",
    "outputId": "b5b686cb-2d5e-45fe-8f57-9bb204bcaea0"
   },
   "outputs": [
    {
     "data": {
      "text/html": [
       "<div>\n",
       "<style scoped>\n",
       "    .dataframe tbody tr th:only-of-type {\n",
       "        vertical-align: middle;\n",
       "    }\n",
       "\n",
       "    .dataframe tbody tr th {\n",
       "        vertical-align: top;\n",
       "    }\n",
       "\n",
       "    .dataframe thead th {\n",
       "        text-align: right;\n",
       "    }\n",
       "</style>\n",
       "<table border=\"1\" class=\"dataframe\">\n",
       "  <thead>\n",
       "    <tr style=\"text-align: right;\">\n",
       "      <th></th>\n",
       "      <th>mileage</th>\n",
       "      <th>manufacture_year</th>\n",
       "      <th>door_count</th>\n",
       "      <th>seat_count</th>\n",
       "      <th>displacement</th>\n",
       "      <th>horse_power</th>\n",
       "      <th>price</th>\n",
       "    </tr>\n",
       "  </thead>\n",
       "  <tbody>\n",
       "    <tr>\n",
       "      <th>count</th>\n",
       "      <td>2.880170e+05</td>\n",
       "      <td>288017.00000</td>\n",
       "      <td>288017.000000</td>\n",
       "      <td>288017.000000</td>\n",
       "      <td>288017.000000</td>\n",
       "      <td>288017.000000</td>\n",
       "      <td>2.880170e+05</td>\n",
       "    </tr>\n",
       "    <tr>\n",
       "      <th>mean</th>\n",
       "      <td>6.310386e+04</td>\n",
       "      <td>2009.35633</td>\n",
       "      <td>4.060073</td>\n",
       "      <td>4.960363</td>\n",
       "      <td>1.850799</td>\n",
       "      <td>136.536718</td>\n",
       "      <td>1.648686e+04</td>\n",
       "    </tr>\n",
       "    <tr>\n",
       "      <th>std</th>\n",
       "      <td>6.013709e+04</td>\n",
       "      <td>5.51572</td>\n",
       "      <td>0.941443</td>\n",
       "      <td>0.808821</td>\n",
       "      <td>0.608395</td>\n",
       "      <td>62.529116</td>\n",
       "      <td>6.061022e+04</td>\n",
       "    </tr>\n",
       "    <tr>\n",
       "      <th>min</th>\n",
       "      <td>0.000000e+00</td>\n",
       "      <td>1914.00000</td>\n",
       "      <td>1.000000</td>\n",
       "      <td>1.000000</td>\n",
       "      <td>0.010000</td>\n",
       "      <td>13.000000</td>\n",
       "      <td>5.900000e+01</td>\n",
       "    </tr>\n",
       "    <tr>\n",
       "      <th>25%</th>\n",
       "      <td>1.620100e+04</td>\n",
       "      <td>2006.00000</td>\n",
       "      <td>4.000000</td>\n",
       "      <td>5.000000</td>\n",
       "      <td>1.500000</td>\n",
       "      <td>101.000000</td>\n",
       "      <td>4.680000e+03</td>\n",
       "    </tr>\n",
       "    <tr>\n",
       "      <th>50%</th>\n",
       "      <td>5.598600e+04</td>\n",
       "      <td>2011.00000</td>\n",
       "      <td>4.000000</td>\n",
       "      <td>5.000000</td>\n",
       "      <td>1.900000</td>\n",
       "      <td>123.000000</td>\n",
       "      <td>1.344300e+04</td>\n",
       "    </tr>\n",
       "    <tr>\n",
       "      <th>75%</th>\n",
       "      <td>9.693400e+04</td>\n",
       "      <td>2014.00000</td>\n",
       "      <td>5.000000</td>\n",
       "      <td>5.000000</td>\n",
       "      <td>1.980000</td>\n",
       "      <td>153.000000</td>\n",
       "      <td>2.316700e+04</td>\n",
       "    </tr>\n",
       "    <tr>\n",
       "      <th>max</th>\n",
       "      <td>6.213709e+06</td>\n",
       "      <td>2017.00000</td>\n",
       "      <td>7.000000</td>\n",
       "      <td>74.000000</td>\n",
       "      <td>32.770000</td>\n",
       "      <td>1337.000000</td>\n",
       "      <td>3.042000e+07</td>\n",
       "    </tr>\n",
       "  </tbody>\n",
       "</table>\n",
       "</div>"
      ],
      "text/plain": [
       "            mileage  manufacture_year     door_count     seat_count  \\\n",
       "count  2.880170e+05      288017.00000  288017.000000  288017.000000   \n",
       "mean   6.310386e+04        2009.35633       4.060073       4.960363   \n",
       "std    6.013709e+04           5.51572       0.941443       0.808821   \n",
       "min    0.000000e+00        1914.00000       1.000000       1.000000   \n",
       "25%    1.620100e+04        2006.00000       4.000000       5.000000   \n",
       "50%    5.598600e+04        2011.00000       4.000000       5.000000   \n",
       "75%    9.693400e+04        2014.00000       5.000000       5.000000   \n",
       "max    6.213709e+06        2017.00000       7.000000      74.000000   \n",
       "\n",
       "        displacement    horse_power         price  \n",
       "count  288017.000000  288017.000000  2.880170e+05  \n",
       "mean        1.850799     136.536718  1.648686e+04  \n",
       "std         0.608395      62.529116  6.061022e+04  \n",
       "min         0.010000      13.000000  5.900000e+01  \n",
       "25%         1.500000     101.000000  4.680000e+03  \n",
       "50%         1.900000     123.000000  1.344300e+04  \n",
       "75%         1.980000     153.000000  2.316700e+04  \n",
       "max        32.770000    1337.000000  3.042000e+07  "
      ]
     },
     "execution_count": 28,
     "metadata": {},
     "output_type": "execute_result"
    }
   ],
   "source": [
    "\n",
    "import pandas as pd\n",
    "import numpy as np\n",
    "sec_car.door_count = pd.to_numeric(sec_car.door_count, errors=\"coerce\")\n",
    "sec_car.seat_count = pd.to_numeric(sec_car.seat_count, errors=\"coerce\")\n",
    "sec_car = sec_car.dropna()\n",
    "sec_car.describe()"
   ]
  },
  {
   "cell_type": "code",
   "execution_count": 29,
   "metadata": {
    "colab": {
     "base_uri": "https://localhost:8080/"
    },
    "id": "7dMHEh-3evsM",
    "outputId": "a5537281-0057-44fc-c6b2-2108796c7c8e"
   },
   "outputs": [
    {
     "data": {
      "text/plain": [
       "(282100, 10)"
      ]
     },
     "execution_count": 29,
     "metadata": {},
     "output_type": "execute_result"
    }
   ],
   "source": [
    "#filter year to make sense\n",
    "sec_car = sec_car.query('manufacture_year > 1996 ')\n",
    "sec_car.shape\n"
   ]
  },
  {
   "cell_type": "code",
   "execution_count": 30,
   "metadata": {},
   "outputs": [
    {
     "name": "stdout",
     "output_type": "stream",
     "text": [
      "[0.04745649 0.04745649 0.04745649 ... 0.04745649 1.18800634 0.04745649]\n"
     ]
    }
   ],
   "source": [
    "# z score method to fix outliers in seat count\n",
    "from scipy import stats\n",
    "import numpy as np\n",
    "sec_car_seat =sec_car['seat_count']\n",
    "z = np.abs(stats.zscore(sec_car_seat))\n",
    "print(z)"
   ]
  },
  {
   "cell_type": "code",
   "execution_count": 31,
   "metadata": {},
   "outputs": [
    {
     "data": {
      "text/plain": [
       "(array([    18,     23,     64, ..., 282063, 282077, 282095], dtype=int64),)"
      ]
     },
     "execution_count": 31,
     "metadata": {},
     "output_type": "execute_result"
    }
   ],
   "source": [
    "outliers = np.where(z > 3)\n",
    "outliers"
   ]
  },
  {
   "cell_type": "code",
   "execution_count": 32,
   "metadata": {},
   "outputs": [
    {
     "data": {
      "text/plain": [
       "(282081, 10)"
      ]
     },
     "execution_count": 32,
     "metadata": {},
     "output_type": "execute_result"
    }
   ],
   "source": [
    "#filter year to make sense\n",
    "sec_car = sec_car.query('seat_count < 17 ')\n",
    "sec_car.shape"
   ]
  },
  {
   "cell_type": "code",
   "execution_count": 33,
   "metadata": {
    "id": "_KJvsI8EevsM"
   },
   "outputs": [],
   "source": [
    "#adding the car_life variable\n",
    "\n",
    "sec_car = sec_car.assign(car_life = 2017 - sec_car.manufacture_year)"
   ]
  },
  {
   "cell_type": "code",
   "execution_count": 34,
   "metadata": {
    "id": "5GedX9pBevsN"
   },
   "outputs": [],
   "source": [
    "#dropping the features with high correlation to other variables and high level of granularity\n",
    "sec_car.drop(['model','door_count','manufacture_year'], axis=1, inplace=True)\n"
   ]
  },
  {
   "cell_type": "code",
   "execution_count": 35,
   "metadata": {
    "colab": {
     "base_uri": "https://localhost:8080/",
     "height": 444
    },
    "id": "xC_qPKRUevsN",
    "outputId": "61c8cceb-e7de-40d7-a14a-b6005daeba6e"
   },
   "outputs": [
    {
     "data": {
      "text/html": [
       "<div>\n",
       "<style scoped>\n",
       "    .dataframe tbody tr th:only-of-type {\n",
       "        vertical-align: middle;\n",
       "    }\n",
       "\n",
       "    .dataframe tbody tr th {\n",
       "        vertical-align: top;\n",
       "    }\n",
       "\n",
       "    .dataframe thead th {\n",
       "        text-align: right;\n",
       "    }\n",
       "</style>\n",
       "<table border=\"1\" class=\"dataframe\">\n",
       "  <thead>\n",
       "    <tr style=\"text-align: right;\">\n",
       "      <th></th>\n",
       "      <th>maker</th>\n",
       "      <th>mileage</th>\n",
       "      <th>transmission</th>\n",
       "      <th>seat_count</th>\n",
       "      <th>displacement</th>\n",
       "      <th>horse_power</th>\n",
       "      <th>price</th>\n",
       "      <th>car_life</th>\n",
       "    </tr>\n",
       "  </thead>\n",
       "  <tbody>\n",
       "    <tr>\n",
       "      <th>1</th>\n",
       "      <td>audi</td>\n",
       "      <td>102526.0</td>\n",
       "      <td>man</td>\n",
       "      <td>5.0</td>\n",
       "      <td>1.97</td>\n",
       "      <td>138.0</td>\n",
       "      <td>5500.0</td>\n",
       "      <td>13.0</td>\n",
       "    </tr>\n",
       "    <tr>\n",
       "      <th>2</th>\n",
       "      <td>audi</td>\n",
       "      <td>684.0</td>\n",
       "      <td>auto</td>\n",
       "      <td>5.0</td>\n",
       "      <td>1.97</td>\n",
       "      <td>148.0</td>\n",
       "      <td>39649.0</td>\n",
       "      <td>1.0</td>\n",
       "    </tr>\n",
       "    <tr>\n",
       "      <th>4</th>\n",
       "      <td>audi</td>\n",
       "      <td>45006.0</td>\n",
       "      <td>man</td>\n",
       "      <td>4.0</td>\n",
       "      <td>1.60</td>\n",
       "      <td>103.0</td>\n",
       "      <td>16848.0</td>\n",
       "      <td>7.0</td>\n",
       "    </tr>\n",
       "    <tr>\n",
       "      <th>6</th>\n",
       "      <td>audi</td>\n",
       "      <td>136702.0</td>\n",
       "      <td>auto</td>\n",
       "      <td>5.0</td>\n",
       "      <td>1.97</td>\n",
       "      <td>168.0</td>\n",
       "      <td>25632.0</td>\n",
       "      <td>5.0</td>\n",
       "    </tr>\n",
       "    <tr>\n",
       "      <th>7</th>\n",
       "      <td>audi</td>\n",
       "      <td>25259.0</td>\n",
       "      <td>auto</td>\n",
       "      <td>5.0</td>\n",
       "      <td>2.00</td>\n",
       "      <td>141.0</td>\n",
       "      <td>1516.0</td>\n",
       "      <td>5.0</td>\n",
       "    </tr>\n",
       "    <tr>\n",
       "      <th>...</th>\n",
       "      <td>...</td>\n",
       "      <td>...</td>\n",
       "      <td>...</td>\n",
       "      <td>...</td>\n",
       "      <td>...</td>\n",
       "      <td>...</td>\n",
       "      <td>...</td>\n",
       "      <td>...</td>\n",
       "    </tr>\n",
       "    <tr>\n",
       "      <th>299995</th>\n",
       "      <td>volkswagen</td>\n",
       "      <td>142025.0</td>\n",
       "      <td>man</td>\n",
       "      <td>9.0</td>\n",
       "      <td>1.90</td>\n",
       "      <td>83.0</td>\n",
       "      <td>1516.0</td>\n",
       "      <td>10.0</td>\n",
       "    </tr>\n",
       "    <tr>\n",
       "      <th>299996</th>\n",
       "      <td>volkswagen</td>\n",
       "      <td>123287.0</td>\n",
       "      <td>man</td>\n",
       "      <td>5.0</td>\n",
       "      <td>1.90</td>\n",
       "      <td>103.0</td>\n",
       "      <td>1516.0</td>\n",
       "      <td>10.0</td>\n",
       "    </tr>\n",
       "    <tr>\n",
       "      <th>299997</th>\n",
       "      <td>volkswagen</td>\n",
       "      <td>44968.0</td>\n",
       "      <td>auto</td>\n",
       "      <td>5.0</td>\n",
       "      <td>1.97</td>\n",
       "      <td>138.0</td>\n",
       "      <td>18692.0</td>\n",
       "      <td>4.0</td>\n",
       "    </tr>\n",
       "    <tr>\n",
       "      <th>299998</th>\n",
       "      <td>volkswagen</td>\n",
       "      <td>46106.0</td>\n",
       "      <td>man</td>\n",
       "      <td>4.0</td>\n",
       "      <td>1.20</td>\n",
       "      <td>54.0</td>\n",
       "      <td>4211.0</td>\n",
       "      <td>11.0</td>\n",
       "    </tr>\n",
       "    <tr>\n",
       "      <th>299999</th>\n",
       "      <td>volkswagen</td>\n",
       "      <td>15659.0</td>\n",
       "      <td>man</td>\n",
       "      <td>5.0</td>\n",
       "      <td>1.97</td>\n",
       "      <td>148.0</td>\n",
       "      <td>29192.0</td>\n",
       "      <td>2.0</td>\n",
       "    </tr>\n",
       "  </tbody>\n",
       "</table>\n",
       "<p>255934 rows × 8 columns</p>\n",
       "</div>"
      ],
      "text/plain": [
       "             maker   mileage transmission  seat_count  displacement  \\\n",
       "1             audi  102526.0          man         5.0          1.97   \n",
       "2             audi     684.0         auto         5.0          1.97   \n",
       "4             audi   45006.0          man         4.0          1.60   \n",
       "6             audi  136702.0         auto         5.0          1.97   \n",
       "7             audi   25259.0         auto         5.0          2.00   \n",
       "...            ...       ...          ...         ...           ...   \n",
       "299995  volkswagen  142025.0          man         9.0          1.90   \n",
       "299996  volkswagen  123287.0          man         5.0          1.90   \n",
       "299997  volkswagen   44968.0         auto         5.0          1.97   \n",
       "299998  volkswagen   46106.0          man         4.0          1.20   \n",
       "299999  volkswagen   15659.0          man         5.0          1.97   \n",
       "\n",
       "        horse_power    price  car_life  \n",
       "1             138.0   5500.0      13.0  \n",
       "2             148.0  39649.0       1.0  \n",
       "4             103.0  16848.0       7.0  \n",
       "6             168.0  25632.0       5.0  \n",
       "7             141.0   1516.0       5.0  \n",
       "...             ...      ...       ...  \n",
       "299995         83.0   1516.0      10.0  \n",
       "299996        103.0   1516.0      10.0  \n",
       "299997        138.0  18692.0       4.0  \n",
       "299998         54.0   4211.0      11.0  \n",
       "299999        148.0  29192.0       2.0  \n",
       "\n",
       "[255934 rows x 8 columns]"
      ]
     },
     "execution_count": 35,
     "metadata": {},
     "output_type": "execute_result"
    }
   ],
   "source": [
    "#removing outliers using IQR for displacement, horsepower, mileage and seat_count\n",
    "Q1 = sec_car.displacement.quantile(0.25)\n",
    "Q3 = sec_car.displacement.quantile(0.75)\n",
    "Q1, Q3\n",
    "\n",
    "IQR = Q3 - Q1\n",
    "IQR\n",
    "\n",
    "lower_limit = Q1 - 1.5*IQR\n",
    "upper_limit = Q3 + 1.5*IQR\n",
    "lower_limit, upper_limit\n",
    "\n",
    "sec_car[(sec_car.displacement<lower_limit)|(sec_car.displacement>upper_limit)]\n",
    "\n",
    "sec_car = sec_car[(sec_car.displacement>lower_limit)&(sec_car.displacement<upper_limit)]\n",
    "sec_car\n"
   ]
  },
  {
   "cell_type": "code",
   "execution_count": 36,
   "metadata": {
    "id": "AyYl2H77bcG0"
   },
   "outputs": [
    {
     "data": {
      "text/html": [
       "<div>\n",
       "<style scoped>\n",
       "    .dataframe tbody tr th:only-of-type {\n",
       "        vertical-align: middle;\n",
       "    }\n",
       "\n",
       "    .dataframe tbody tr th {\n",
       "        vertical-align: top;\n",
       "    }\n",
       "\n",
       "    .dataframe thead th {\n",
       "        text-align: right;\n",
       "    }\n",
       "</style>\n",
       "<table border=\"1\" class=\"dataframe\">\n",
       "  <thead>\n",
       "    <tr style=\"text-align: right;\">\n",
       "      <th></th>\n",
       "      <th>maker</th>\n",
       "      <th>mileage</th>\n",
       "      <th>transmission</th>\n",
       "      <th>seat_count</th>\n",
       "      <th>displacement</th>\n",
       "      <th>horse_power</th>\n",
       "      <th>price</th>\n",
       "      <th>car_life</th>\n",
       "    </tr>\n",
       "  </thead>\n",
       "  <tbody>\n",
       "    <tr>\n",
       "      <th>1</th>\n",
       "      <td>audi</td>\n",
       "      <td>102526.0</td>\n",
       "      <td>man</td>\n",
       "      <td>5.0</td>\n",
       "      <td>1.97</td>\n",
       "      <td>138.0</td>\n",
       "      <td>5500.0</td>\n",
       "      <td>13.0</td>\n",
       "    </tr>\n",
       "    <tr>\n",
       "      <th>2</th>\n",
       "      <td>audi</td>\n",
       "      <td>684.0</td>\n",
       "      <td>auto</td>\n",
       "      <td>5.0</td>\n",
       "      <td>1.97</td>\n",
       "      <td>148.0</td>\n",
       "      <td>39649.0</td>\n",
       "      <td>1.0</td>\n",
       "    </tr>\n",
       "    <tr>\n",
       "      <th>4</th>\n",
       "      <td>audi</td>\n",
       "      <td>45006.0</td>\n",
       "      <td>man</td>\n",
       "      <td>4.0</td>\n",
       "      <td>1.60</td>\n",
       "      <td>103.0</td>\n",
       "      <td>16848.0</td>\n",
       "      <td>7.0</td>\n",
       "    </tr>\n",
       "    <tr>\n",
       "      <th>6</th>\n",
       "      <td>audi</td>\n",
       "      <td>136702.0</td>\n",
       "      <td>auto</td>\n",
       "      <td>5.0</td>\n",
       "      <td>1.97</td>\n",
       "      <td>168.0</td>\n",
       "      <td>25632.0</td>\n",
       "      <td>5.0</td>\n",
       "    </tr>\n",
       "    <tr>\n",
       "      <th>7</th>\n",
       "      <td>audi</td>\n",
       "      <td>25259.0</td>\n",
       "      <td>auto</td>\n",
       "      <td>5.0</td>\n",
       "      <td>2.00</td>\n",
       "      <td>141.0</td>\n",
       "      <td>1516.0</td>\n",
       "      <td>5.0</td>\n",
       "    </tr>\n",
       "    <tr>\n",
       "      <th>...</th>\n",
       "      <td>...</td>\n",
       "      <td>...</td>\n",
       "      <td>...</td>\n",
       "      <td>...</td>\n",
       "      <td>...</td>\n",
       "      <td>...</td>\n",
       "      <td>...</td>\n",
       "      <td>...</td>\n",
       "    </tr>\n",
       "    <tr>\n",
       "      <th>299995</th>\n",
       "      <td>volkswagen</td>\n",
       "      <td>142025.0</td>\n",
       "      <td>man</td>\n",
       "      <td>9.0</td>\n",
       "      <td>1.90</td>\n",
       "      <td>83.0</td>\n",
       "      <td>1516.0</td>\n",
       "      <td>10.0</td>\n",
       "    </tr>\n",
       "    <tr>\n",
       "      <th>299996</th>\n",
       "      <td>volkswagen</td>\n",
       "      <td>123287.0</td>\n",
       "      <td>man</td>\n",
       "      <td>5.0</td>\n",
       "      <td>1.90</td>\n",
       "      <td>103.0</td>\n",
       "      <td>1516.0</td>\n",
       "      <td>10.0</td>\n",
       "    </tr>\n",
       "    <tr>\n",
       "      <th>299997</th>\n",
       "      <td>volkswagen</td>\n",
       "      <td>44968.0</td>\n",
       "      <td>auto</td>\n",
       "      <td>5.0</td>\n",
       "      <td>1.97</td>\n",
       "      <td>138.0</td>\n",
       "      <td>18692.0</td>\n",
       "      <td>4.0</td>\n",
       "    </tr>\n",
       "    <tr>\n",
       "      <th>299998</th>\n",
       "      <td>volkswagen</td>\n",
       "      <td>46106.0</td>\n",
       "      <td>man</td>\n",
       "      <td>4.0</td>\n",
       "      <td>1.20</td>\n",
       "      <td>54.0</td>\n",
       "      <td>4211.0</td>\n",
       "      <td>11.0</td>\n",
       "    </tr>\n",
       "    <tr>\n",
       "      <th>299999</th>\n",
       "      <td>volkswagen</td>\n",
       "      <td>15659.0</td>\n",
       "      <td>man</td>\n",
       "      <td>5.0</td>\n",
       "      <td>1.97</td>\n",
       "      <td>148.0</td>\n",
       "      <td>29192.0</td>\n",
       "      <td>2.0</td>\n",
       "    </tr>\n",
       "  </tbody>\n",
       "</table>\n",
       "<p>252646 rows × 8 columns</p>\n",
       "</div>"
      ],
      "text/plain": [
       "             maker   mileage transmission  seat_count  displacement  \\\n",
       "1             audi  102526.0          man         5.0          1.97   \n",
       "2             audi     684.0         auto         5.0          1.97   \n",
       "4             audi   45006.0          man         4.0          1.60   \n",
       "6             audi  136702.0         auto         5.0          1.97   \n",
       "7             audi   25259.0         auto         5.0          2.00   \n",
       "...            ...       ...          ...         ...           ...   \n",
       "299995  volkswagen  142025.0          man         9.0          1.90   \n",
       "299996  volkswagen  123287.0          man         5.0          1.90   \n",
       "299997  volkswagen   44968.0         auto         5.0          1.97   \n",
       "299998  volkswagen   46106.0          man         4.0          1.20   \n",
       "299999  volkswagen   15659.0          man         5.0          1.97   \n",
       "\n",
       "        horse_power    price  car_life  \n",
       "1             138.0   5500.0      13.0  \n",
       "2             148.0  39649.0       1.0  \n",
       "4             103.0  16848.0       7.0  \n",
       "6             168.0  25632.0       5.0  \n",
       "7             141.0   1516.0       5.0  \n",
       "...             ...      ...       ...  \n",
       "299995         83.0   1516.0      10.0  \n",
       "299996        103.0   1516.0      10.0  \n",
       "299997        138.0  18692.0       4.0  \n",
       "299998         54.0   4211.0      11.0  \n",
       "299999        148.0  29192.0       2.0  \n",
       "\n",
       "[252646 rows x 8 columns]"
      ]
     },
     "execution_count": 36,
     "metadata": {},
     "output_type": "execute_result"
    }
   ],
   "source": [
    "Q1 = sec_car.price.quantile(0.25)\n",
    "Q3 = sec_car.price.quantile(0.75)\n",
    "Q1, Q3\n",
    "\n",
    "IQR = Q3 - Q1\n",
    "IQR\n",
    "\n",
    "lower_limit = Q1 - 1.5*IQR\n",
    "upper_limit = Q3 + 1.5*IQR\n",
    "lower_limit, upper_limit\n",
    "\n",
    "sec_car[(sec_car.price<lower_limit)|(sec_car.price>upper_limit)]\n",
    "\n",
    "sec_car = sec_car[(sec_car.price>lower_limit)&(sec_car.price<upper_limit)]\n",
    "sec_car"
   ]
  },
  {
   "cell_type": "code",
   "execution_count": 37,
   "metadata": {
    "colab": {
     "base_uri": "https://localhost:8080/",
     "height": 444
    },
    "id": "GQyc21YSevsN",
    "outputId": "0762cc51-23a5-4da0-9605-443133a5759d"
   },
   "outputs": [
    {
     "data": {
      "text/html": [
       "<div>\n",
       "<style scoped>\n",
       "    .dataframe tbody tr th:only-of-type {\n",
       "        vertical-align: middle;\n",
       "    }\n",
       "\n",
       "    .dataframe tbody tr th {\n",
       "        vertical-align: top;\n",
       "    }\n",
       "\n",
       "    .dataframe thead th {\n",
       "        text-align: right;\n",
       "    }\n",
       "</style>\n",
       "<table border=\"1\" class=\"dataframe\">\n",
       "  <thead>\n",
       "    <tr style=\"text-align: right;\">\n",
       "      <th></th>\n",
       "      <th>maker</th>\n",
       "      <th>mileage</th>\n",
       "      <th>transmission</th>\n",
       "      <th>seat_count</th>\n",
       "      <th>displacement</th>\n",
       "      <th>horse_power</th>\n",
       "      <th>price</th>\n",
       "      <th>car_life</th>\n",
       "    </tr>\n",
       "  </thead>\n",
       "  <tbody>\n",
       "    <tr>\n",
       "      <th>1</th>\n",
       "      <td>audi</td>\n",
       "      <td>102526.0</td>\n",
       "      <td>man</td>\n",
       "      <td>5.0</td>\n",
       "      <td>1.97</td>\n",
       "      <td>138.0</td>\n",
       "      <td>5500.0</td>\n",
       "      <td>13.0</td>\n",
       "    </tr>\n",
       "    <tr>\n",
       "      <th>2</th>\n",
       "      <td>audi</td>\n",
       "      <td>684.0</td>\n",
       "      <td>auto</td>\n",
       "      <td>5.0</td>\n",
       "      <td>1.97</td>\n",
       "      <td>148.0</td>\n",
       "      <td>39649.0</td>\n",
       "      <td>1.0</td>\n",
       "    </tr>\n",
       "    <tr>\n",
       "      <th>4</th>\n",
       "      <td>audi</td>\n",
       "      <td>45006.0</td>\n",
       "      <td>man</td>\n",
       "      <td>4.0</td>\n",
       "      <td>1.60</td>\n",
       "      <td>103.0</td>\n",
       "      <td>16848.0</td>\n",
       "      <td>7.0</td>\n",
       "    </tr>\n",
       "    <tr>\n",
       "      <th>6</th>\n",
       "      <td>audi</td>\n",
       "      <td>136702.0</td>\n",
       "      <td>auto</td>\n",
       "      <td>5.0</td>\n",
       "      <td>1.97</td>\n",
       "      <td>168.0</td>\n",
       "      <td>25632.0</td>\n",
       "      <td>5.0</td>\n",
       "    </tr>\n",
       "    <tr>\n",
       "      <th>7</th>\n",
       "      <td>audi</td>\n",
       "      <td>25259.0</td>\n",
       "      <td>auto</td>\n",
       "      <td>5.0</td>\n",
       "      <td>2.00</td>\n",
       "      <td>141.0</td>\n",
       "      <td>1516.0</td>\n",
       "      <td>5.0</td>\n",
       "    </tr>\n",
       "    <tr>\n",
       "      <th>...</th>\n",
       "      <td>...</td>\n",
       "      <td>...</td>\n",
       "      <td>...</td>\n",
       "      <td>...</td>\n",
       "      <td>...</td>\n",
       "      <td>...</td>\n",
       "      <td>...</td>\n",
       "      <td>...</td>\n",
       "    </tr>\n",
       "    <tr>\n",
       "      <th>299995</th>\n",
       "      <td>volkswagen</td>\n",
       "      <td>142025.0</td>\n",
       "      <td>man</td>\n",
       "      <td>9.0</td>\n",
       "      <td>1.90</td>\n",
       "      <td>83.0</td>\n",
       "      <td>1516.0</td>\n",
       "      <td>10.0</td>\n",
       "    </tr>\n",
       "    <tr>\n",
       "      <th>299996</th>\n",
       "      <td>volkswagen</td>\n",
       "      <td>123287.0</td>\n",
       "      <td>man</td>\n",
       "      <td>5.0</td>\n",
       "      <td>1.90</td>\n",
       "      <td>103.0</td>\n",
       "      <td>1516.0</td>\n",
       "      <td>10.0</td>\n",
       "    </tr>\n",
       "    <tr>\n",
       "      <th>299997</th>\n",
       "      <td>volkswagen</td>\n",
       "      <td>44968.0</td>\n",
       "      <td>auto</td>\n",
       "      <td>5.0</td>\n",
       "      <td>1.97</td>\n",
       "      <td>138.0</td>\n",
       "      <td>18692.0</td>\n",
       "      <td>4.0</td>\n",
       "    </tr>\n",
       "    <tr>\n",
       "      <th>299998</th>\n",
       "      <td>volkswagen</td>\n",
       "      <td>46106.0</td>\n",
       "      <td>man</td>\n",
       "      <td>4.0</td>\n",
       "      <td>1.20</td>\n",
       "      <td>54.0</td>\n",
       "      <td>4211.0</td>\n",
       "      <td>11.0</td>\n",
       "    </tr>\n",
       "    <tr>\n",
       "      <th>299999</th>\n",
       "      <td>volkswagen</td>\n",
       "      <td>15659.0</td>\n",
       "      <td>man</td>\n",
       "      <td>5.0</td>\n",
       "      <td>1.97</td>\n",
       "      <td>148.0</td>\n",
       "      <td>29192.0</td>\n",
       "      <td>2.0</td>\n",
       "    </tr>\n",
       "  </tbody>\n",
       "</table>\n",
       "<p>247658 rows × 8 columns</p>\n",
       "</div>"
      ],
      "text/plain": [
       "             maker   mileage transmission  seat_count  displacement  \\\n",
       "1             audi  102526.0          man         5.0          1.97   \n",
       "2             audi     684.0         auto         5.0          1.97   \n",
       "4             audi   45006.0          man         4.0          1.60   \n",
       "6             audi  136702.0         auto         5.0          1.97   \n",
       "7             audi   25259.0         auto         5.0          2.00   \n",
       "...            ...       ...          ...         ...           ...   \n",
       "299995  volkswagen  142025.0          man         9.0          1.90   \n",
       "299996  volkswagen  123287.0          man         5.0          1.90   \n",
       "299997  volkswagen   44968.0         auto         5.0          1.97   \n",
       "299998  volkswagen   46106.0          man         4.0          1.20   \n",
       "299999  volkswagen   15659.0          man         5.0          1.97   \n",
       "\n",
       "        horse_power    price  car_life  \n",
       "1             138.0   5500.0      13.0  \n",
       "2             148.0  39649.0       1.0  \n",
       "4             103.0  16848.0       7.0  \n",
       "6             168.0  25632.0       5.0  \n",
       "7             141.0   1516.0       5.0  \n",
       "...             ...      ...       ...  \n",
       "299995         83.0   1516.0      10.0  \n",
       "299996        103.0   1516.0      10.0  \n",
       "299997        138.0  18692.0       4.0  \n",
       "299998         54.0   4211.0      11.0  \n",
       "299999        148.0  29192.0       2.0  \n",
       "\n",
       "[247658 rows x 8 columns]"
      ]
     },
     "execution_count": 37,
     "metadata": {},
     "output_type": "execute_result"
    }
   ],
   "source": [
    "Q1 = sec_car.horse_power.quantile(0.25)\n",
    "Q3 = sec_car.horse_power.quantile(0.75)\n",
    "Q1, Q3\n",
    "\n",
    "IQR = Q3 - Q1\n",
    "IQR\n",
    "\n",
    "lower_limit = Q1 - 1.5*IQR\n",
    "upper_limit = Q3 + 1.5*IQR\n",
    "lower_limit, upper_limit\n",
    "\n",
    "sec_car[(sec_car.horse_power<lower_limit)|(sec_car.horse_power>upper_limit)]\n",
    "\n",
    "sec_car = sec_car[(sec_car.horse_power>lower_limit)&(sec_car.horse_power<upper_limit)]\n",
    "sec_car"
   ]
  },
  {
   "cell_type": "code",
   "execution_count": 38,
   "metadata": {
    "id": "xHVfhbLievsN"
   },
   "outputs": [
    {
     "data": {
      "text/html": [
       "<div>\n",
       "<style scoped>\n",
       "    .dataframe tbody tr th:only-of-type {\n",
       "        vertical-align: middle;\n",
       "    }\n",
       "\n",
       "    .dataframe tbody tr th {\n",
       "        vertical-align: top;\n",
       "    }\n",
       "\n",
       "    .dataframe thead th {\n",
       "        text-align: right;\n",
       "    }\n",
       "</style>\n",
       "<table border=\"1\" class=\"dataframe\">\n",
       "  <thead>\n",
       "    <tr style=\"text-align: right;\">\n",
       "      <th></th>\n",
       "      <th>maker</th>\n",
       "      <th>mileage</th>\n",
       "      <th>transmission</th>\n",
       "      <th>seat_count</th>\n",
       "      <th>displacement</th>\n",
       "      <th>horse_power</th>\n",
       "      <th>price</th>\n",
       "      <th>car_life</th>\n",
       "    </tr>\n",
       "  </thead>\n",
       "  <tbody>\n",
       "    <tr>\n",
       "      <th>1</th>\n",
       "      <td>audi</td>\n",
       "      <td>102526.0</td>\n",
       "      <td>man</td>\n",
       "      <td>5.0</td>\n",
       "      <td>1.97</td>\n",
       "      <td>138.0</td>\n",
       "      <td>5500.0</td>\n",
       "      <td>13.0</td>\n",
       "    </tr>\n",
       "    <tr>\n",
       "      <th>2</th>\n",
       "      <td>audi</td>\n",
       "      <td>684.0</td>\n",
       "      <td>auto</td>\n",
       "      <td>5.0</td>\n",
       "      <td>1.97</td>\n",
       "      <td>148.0</td>\n",
       "      <td>39649.0</td>\n",
       "      <td>1.0</td>\n",
       "    </tr>\n",
       "    <tr>\n",
       "      <th>4</th>\n",
       "      <td>audi</td>\n",
       "      <td>45006.0</td>\n",
       "      <td>man</td>\n",
       "      <td>4.0</td>\n",
       "      <td>1.60</td>\n",
       "      <td>103.0</td>\n",
       "      <td>16848.0</td>\n",
       "      <td>7.0</td>\n",
       "    </tr>\n",
       "    <tr>\n",
       "      <th>6</th>\n",
       "      <td>audi</td>\n",
       "      <td>136702.0</td>\n",
       "      <td>auto</td>\n",
       "      <td>5.0</td>\n",
       "      <td>1.97</td>\n",
       "      <td>168.0</td>\n",
       "      <td>25632.0</td>\n",
       "      <td>5.0</td>\n",
       "    </tr>\n",
       "    <tr>\n",
       "      <th>7</th>\n",
       "      <td>audi</td>\n",
       "      <td>25259.0</td>\n",
       "      <td>auto</td>\n",
       "      <td>5.0</td>\n",
       "      <td>2.00</td>\n",
       "      <td>141.0</td>\n",
       "      <td>1516.0</td>\n",
       "      <td>5.0</td>\n",
       "    </tr>\n",
       "    <tr>\n",
       "      <th>...</th>\n",
       "      <td>...</td>\n",
       "      <td>...</td>\n",
       "      <td>...</td>\n",
       "      <td>...</td>\n",
       "      <td>...</td>\n",
       "      <td>...</td>\n",
       "      <td>...</td>\n",
       "      <td>...</td>\n",
       "    </tr>\n",
       "    <tr>\n",
       "      <th>299995</th>\n",
       "      <td>volkswagen</td>\n",
       "      <td>142025.0</td>\n",
       "      <td>man</td>\n",
       "      <td>9.0</td>\n",
       "      <td>1.90</td>\n",
       "      <td>83.0</td>\n",
       "      <td>1516.0</td>\n",
       "      <td>10.0</td>\n",
       "    </tr>\n",
       "    <tr>\n",
       "      <th>299996</th>\n",
       "      <td>volkswagen</td>\n",
       "      <td>123287.0</td>\n",
       "      <td>man</td>\n",
       "      <td>5.0</td>\n",
       "      <td>1.90</td>\n",
       "      <td>103.0</td>\n",
       "      <td>1516.0</td>\n",
       "      <td>10.0</td>\n",
       "    </tr>\n",
       "    <tr>\n",
       "      <th>299997</th>\n",
       "      <td>volkswagen</td>\n",
       "      <td>44968.0</td>\n",
       "      <td>auto</td>\n",
       "      <td>5.0</td>\n",
       "      <td>1.97</td>\n",
       "      <td>138.0</td>\n",
       "      <td>18692.0</td>\n",
       "      <td>4.0</td>\n",
       "    </tr>\n",
       "    <tr>\n",
       "      <th>299998</th>\n",
       "      <td>volkswagen</td>\n",
       "      <td>46106.0</td>\n",
       "      <td>man</td>\n",
       "      <td>4.0</td>\n",
       "      <td>1.20</td>\n",
       "      <td>54.0</td>\n",
       "      <td>4211.0</td>\n",
       "      <td>11.0</td>\n",
       "    </tr>\n",
       "    <tr>\n",
       "      <th>299999</th>\n",
       "      <td>volkswagen</td>\n",
       "      <td>15659.0</td>\n",
       "      <td>man</td>\n",
       "      <td>5.0</td>\n",
       "      <td>1.97</td>\n",
       "      <td>148.0</td>\n",
       "      <td>29192.0</td>\n",
       "      <td>2.0</td>\n",
       "    </tr>\n",
       "  </tbody>\n",
       "</table>\n",
       "<p>246394 rows × 8 columns</p>\n",
       "</div>"
      ],
      "text/plain": [
       "             maker   mileage transmission  seat_count  displacement  \\\n",
       "1             audi  102526.0          man         5.0          1.97   \n",
       "2             audi     684.0         auto         5.0          1.97   \n",
       "4             audi   45006.0          man         4.0          1.60   \n",
       "6             audi  136702.0         auto         5.0          1.97   \n",
       "7             audi   25259.0         auto         5.0          2.00   \n",
       "...            ...       ...          ...         ...           ...   \n",
       "299995  volkswagen  142025.0          man         9.0          1.90   \n",
       "299996  volkswagen  123287.0          man         5.0          1.90   \n",
       "299997  volkswagen   44968.0         auto         5.0          1.97   \n",
       "299998  volkswagen   46106.0          man         4.0          1.20   \n",
       "299999  volkswagen   15659.0          man         5.0          1.97   \n",
       "\n",
       "        horse_power    price  car_life  \n",
       "1             138.0   5500.0      13.0  \n",
       "2             148.0  39649.0       1.0  \n",
       "4             103.0  16848.0       7.0  \n",
       "6             168.0  25632.0       5.0  \n",
       "7             141.0   1516.0       5.0  \n",
       "...             ...      ...       ...  \n",
       "299995         83.0   1516.0      10.0  \n",
       "299996        103.0   1516.0      10.0  \n",
       "299997        138.0  18692.0       4.0  \n",
       "299998         54.0   4211.0      11.0  \n",
       "299999        148.0  29192.0       2.0  \n",
       "\n",
       "[246394 rows x 8 columns]"
      ]
     },
     "execution_count": 38,
     "metadata": {},
     "output_type": "execute_result"
    }
   ],
   "source": [
    "Q1 = sec_car.mileage.quantile(0.25)\n",
    "Q3 = sec_car.mileage.quantile(0.75)\n",
    "Q1, Q3\n",
    "\n",
    "IQR = Q3 - Q1\n",
    "IQR\n",
    "\n",
    "lower_limit = Q1 - 1.5*IQR\n",
    "upper_limit = Q3 + 1.5*IQR\n",
    "lower_limit, upper_limit\n",
    "\n",
    "sec_car[(sec_car.mileage<lower_limit)|(sec_car.mileage>upper_limit)]\n",
    "\n",
    "sec_car = sec_car[(sec_car.mileage>lower_limit)&(sec_car.mileage<upper_limit)]\n",
    "sec_car\n"
   ]
  },
  {
   "cell_type": "code",
   "execution_count": 39,
   "metadata": {
    "colab": {
     "base_uri": "https://localhost:8080/"
    },
    "id": "PDngyx3WevsN",
    "outputId": "703f3557-fd5f-4083-e634-6688d240f7ae"
   },
   "outputs": [
    {
     "data": {
      "text/html": [
       "<div>\n",
       "<style scoped>\n",
       "    .dataframe tbody tr th:only-of-type {\n",
       "        vertical-align: middle;\n",
       "    }\n",
       "\n",
       "    .dataframe tbody tr th {\n",
       "        vertical-align: top;\n",
       "    }\n",
       "\n",
       "    .dataframe thead th {\n",
       "        text-align: right;\n",
       "    }\n",
       "</style>\n",
       "<table border=\"1\" class=\"dataframe\">\n",
       "  <thead>\n",
       "    <tr style=\"text-align: right;\">\n",
       "      <th></th>\n",
       "      <th>mileage</th>\n",
       "      <th>seat_count</th>\n",
       "      <th>displacement</th>\n",
       "      <th>horse_power</th>\n",
       "      <th>price</th>\n",
       "      <th>car_life</th>\n",
       "    </tr>\n",
       "  </thead>\n",
       "  <tbody>\n",
       "    <tr>\n",
       "      <th>count</th>\n",
       "      <td>246394.000000</td>\n",
       "      <td>246394.000000</td>\n",
       "      <td>246394.000000</td>\n",
       "      <td>246394.000000</td>\n",
       "      <td>246394.000000</td>\n",
       "      <td>246394.000000</td>\n",
       "    </tr>\n",
       "    <tr>\n",
       "      <th>mean</th>\n",
       "      <td>61057.438789</td>\n",
       "      <td>4.978664</td>\n",
       "      <td>1.691962</td>\n",
       "      <td>119.774495</td>\n",
       "      <td>13949.416800</td>\n",
       "      <td>7.401759</td>\n",
       "    </tr>\n",
       "    <tr>\n",
       "      <th>std</th>\n",
       "      <td>47894.864414</td>\n",
       "      <td>0.768270</td>\n",
       "      <td>0.327851</td>\n",
       "      <td>33.479641</td>\n",
       "      <td>10475.417562</td>\n",
       "      <td>4.945481</td>\n",
       "    </tr>\n",
       "    <tr>\n",
       "      <th>min</th>\n",
       "      <td>0.000000</td>\n",
       "      <td>1.000000</td>\n",
       "      <td>0.920000</td>\n",
       "      <td>43.000000</td>\n",
       "      <td>59.000000</td>\n",
       "      <td>0.000000</td>\n",
       "    </tr>\n",
       "    <tr>\n",
       "      <th>25%</th>\n",
       "      <td>16156.000000</td>\n",
       "      <td>5.000000</td>\n",
       "      <td>1.400000</td>\n",
       "      <td>99.000000</td>\n",
       "      <td>4649.500000</td>\n",
       "      <td>3.000000</td>\n",
       "    </tr>\n",
       "    <tr>\n",
       "      <th>50%</th>\n",
       "      <td>55432.500000</td>\n",
       "      <td>5.000000</td>\n",
       "      <td>1.600000</td>\n",
       "      <td>114.000000</td>\n",
       "      <td>12514.000000</td>\n",
       "      <td>6.000000</td>\n",
       "    </tr>\n",
       "    <tr>\n",
       "      <th>75%</th>\n",
       "      <td>95070.000000</td>\n",
       "      <td>5.000000</td>\n",
       "      <td>1.970000</td>\n",
       "      <td>141.000000</td>\n",
       "      <td>20943.000000</td>\n",
       "      <td>11.000000</td>\n",
       "    </tr>\n",
       "    <tr>\n",
       "      <th>max</th>\n",
       "      <td>215696.000000</td>\n",
       "      <td>15.000000</td>\n",
       "      <td>2.690000</td>\n",
       "      <td>208.000000</td>\n",
       "      <td>47053.000000</td>\n",
       "      <td>20.000000</td>\n",
       "    </tr>\n",
       "  </tbody>\n",
       "</table>\n",
       "</div>"
      ],
      "text/plain": [
       "             mileage     seat_count   displacement    horse_power  \\\n",
       "count  246394.000000  246394.000000  246394.000000  246394.000000   \n",
       "mean    61057.438789       4.978664       1.691962     119.774495   \n",
       "std     47894.864414       0.768270       0.327851      33.479641   \n",
       "min         0.000000       1.000000       0.920000      43.000000   \n",
       "25%     16156.000000       5.000000       1.400000      99.000000   \n",
       "50%     55432.500000       5.000000       1.600000     114.000000   \n",
       "75%     95070.000000       5.000000       1.970000     141.000000   \n",
       "max    215696.000000      15.000000       2.690000     208.000000   \n",
       "\n",
       "               price       car_life  \n",
       "count  246394.000000  246394.000000  \n",
       "mean    13949.416800       7.401759  \n",
       "std     10475.417562       4.945481  \n",
       "min        59.000000       0.000000  \n",
       "25%      4649.500000       3.000000  \n",
       "50%     12514.000000       6.000000  \n",
       "75%     20943.000000      11.000000  \n",
       "max     47053.000000      20.000000  "
      ]
     },
     "execution_count": 39,
     "metadata": {},
     "output_type": "execute_result"
    }
   ],
   "source": [
    "sec_car.describe()"
   ]
  },
  {
   "cell_type": "code",
   "execution_count": 40,
   "metadata": {
    "id": "M1j67CtSevsO"
   },
   "outputs": [],
   "source": [
    "#profile\n",
    "#UP TO THIS POINT I CANT DROP THE DUPLICATES"
   ]
  },
  {
   "cell_type": "code",
   "execution_count": 41,
   "metadata": {
    "colab": {
     "base_uri": "https://localhost:8080/",
     "height": 461
    },
    "id": "D26Y6TwXevsO",
    "outputId": "c69e5dab-4a5e-4c32-e5d0-e05da35804a2",
    "scrolled": false
   },
   "outputs": [
    {
     "name": "stdout",
     "output_type": "stream",
     "text": [
      "Duplicate Rows :\n"
     ]
    },
    {
     "data": {
      "text/html": [
       "<div>\n",
       "<style scoped>\n",
       "    .dataframe tbody tr th:only-of-type {\n",
       "        vertical-align: middle;\n",
       "    }\n",
       "\n",
       "    .dataframe tbody tr th {\n",
       "        vertical-align: top;\n",
       "    }\n",
       "\n",
       "    .dataframe thead th {\n",
       "        text-align: right;\n",
       "    }\n",
       "</style>\n",
       "<table border=\"1\" class=\"dataframe\">\n",
       "  <thead>\n",
       "    <tr style=\"text-align: right;\">\n",
       "      <th></th>\n",
       "      <th>maker</th>\n",
       "      <th>mileage</th>\n",
       "      <th>transmission</th>\n",
       "      <th>seat_count</th>\n",
       "      <th>displacement</th>\n",
       "      <th>horse_power</th>\n",
       "      <th>price</th>\n",
       "      <th>car_life</th>\n",
       "    </tr>\n",
       "  </thead>\n",
       "  <tbody>\n",
       "    <tr>\n",
       "      <th>308</th>\n",
       "      <td>audi</td>\n",
       "      <td>6.0</td>\n",
       "      <td>man</td>\n",
       "      <td>4.0</td>\n",
       "      <td>1.00</td>\n",
       "      <td>94.0</td>\n",
       "      <td>21762.0</td>\n",
       "      <td>2.0</td>\n",
       "    </tr>\n",
       "    <tr>\n",
       "      <th>461</th>\n",
       "      <td>audi</td>\n",
       "      <td>58232.0</td>\n",
       "      <td>auto</td>\n",
       "      <td>5.0</td>\n",
       "      <td>1.97</td>\n",
       "      <td>168.0</td>\n",
       "      <td>31473.0</td>\n",
       "      <td>5.0</td>\n",
       "    </tr>\n",
       "    <tr>\n",
       "      <th>556</th>\n",
       "      <td>audi</td>\n",
       "      <td>8308.0</td>\n",
       "      <td>man</td>\n",
       "      <td>5.0</td>\n",
       "      <td>1.97</td>\n",
       "      <td>148.0</td>\n",
       "      <td>36849.0</td>\n",
       "      <td>2.0</td>\n",
       "    </tr>\n",
       "    <tr>\n",
       "      <th>584</th>\n",
       "      <td>audi</td>\n",
       "      <td>131731.0</td>\n",
       "      <td>man</td>\n",
       "      <td>5.0</td>\n",
       "      <td>1.78</td>\n",
       "      <td>123.0</td>\n",
       "      <td>5733.0</td>\n",
       "      <td>15.0</td>\n",
       "    </tr>\n",
       "    <tr>\n",
       "      <th>715</th>\n",
       "      <td>audi</td>\n",
       "      <td>58232.0</td>\n",
       "      <td>auto</td>\n",
       "      <td>5.0</td>\n",
       "      <td>1.97</td>\n",
       "      <td>168.0</td>\n",
       "      <td>31473.0</td>\n",
       "      <td>5.0</td>\n",
       "    </tr>\n",
       "    <tr>\n",
       "      <th>...</th>\n",
       "      <td>...</td>\n",
       "      <td>...</td>\n",
       "      <td>...</td>\n",
       "      <td>...</td>\n",
       "      <td>...</td>\n",
       "      <td>...</td>\n",
       "      <td>...</td>\n",
       "      <td>...</td>\n",
       "    </tr>\n",
       "    <tr>\n",
       "      <th>299954</th>\n",
       "      <td>volkswagen</td>\n",
       "      <td>30199.0</td>\n",
       "      <td>auto</td>\n",
       "      <td>5.0</td>\n",
       "      <td>1.39</td>\n",
       "      <td>158.0</td>\n",
       "      <td>17433.0</td>\n",
       "      <td>7.0</td>\n",
       "    </tr>\n",
       "    <tr>\n",
       "      <th>299958</th>\n",
       "      <td>volkswagen</td>\n",
       "      <td>49598.0</td>\n",
       "      <td>man</td>\n",
       "      <td>5.0</td>\n",
       "      <td>1.97</td>\n",
       "      <td>109.0</td>\n",
       "      <td>9944.0</td>\n",
       "      <td>8.0</td>\n",
       "    </tr>\n",
       "    <tr>\n",
       "      <th>299962</th>\n",
       "      <td>volkswagen</td>\n",
       "      <td>62.0</td>\n",
       "      <td>man</td>\n",
       "      <td>9.0</td>\n",
       "      <td>1.97</td>\n",
       "      <td>83.0</td>\n",
       "      <td>31578.0</td>\n",
       "      <td>1.0</td>\n",
       "    </tr>\n",
       "    <tr>\n",
       "      <th>299996</th>\n",
       "      <td>volkswagen</td>\n",
       "      <td>123287.0</td>\n",
       "      <td>man</td>\n",
       "      <td>5.0</td>\n",
       "      <td>1.90</td>\n",
       "      <td>103.0</td>\n",
       "      <td>1516.0</td>\n",
       "      <td>10.0</td>\n",
       "    </tr>\n",
       "    <tr>\n",
       "      <th>299998</th>\n",
       "      <td>volkswagen</td>\n",
       "      <td>46106.0</td>\n",
       "      <td>man</td>\n",
       "      <td>4.0</td>\n",
       "      <td>1.20</td>\n",
       "      <td>54.0</td>\n",
       "      <td>4211.0</td>\n",
       "      <td>11.0</td>\n",
       "    </tr>\n",
       "  </tbody>\n",
       "</table>\n",
       "<p>26481 rows × 8 columns</p>\n",
       "</div>"
      ],
      "text/plain": [
       "             maker   mileage transmission  seat_count  displacement  \\\n",
       "308           audi       6.0          man         4.0          1.00   \n",
       "461           audi   58232.0         auto         5.0          1.97   \n",
       "556           audi    8308.0          man         5.0          1.97   \n",
       "584           audi  131731.0          man         5.0          1.78   \n",
       "715           audi   58232.0         auto         5.0          1.97   \n",
       "...            ...       ...          ...         ...           ...   \n",
       "299954  volkswagen   30199.0         auto         5.0          1.39   \n",
       "299958  volkswagen   49598.0          man         5.0          1.97   \n",
       "299962  volkswagen      62.0          man         9.0          1.97   \n",
       "299996  volkswagen  123287.0          man         5.0          1.90   \n",
       "299998  volkswagen   46106.0          man         4.0          1.20   \n",
       "\n",
       "        horse_power    price  car_life  \n",
       "308            94.0  21762.0       2.0  \n",
       "461           168.0  31473.0       5.0  \n",
       "556           148.0  36849.0       2.0  \n",
       "584           123.0   5733.0      15.0  \n",
       "715           168.0  31473.0       5.0  \n",
       "...             ...      ...       ...  \n",
       "299954        158.0  17433.0       7.0  \n",
       "299958        109.0   9944.0       8.0  \n",
       "299962         83.0  31578.0       1.0  \n",
       "299996        103.0   1516.0      10.0  \n",
       "299998         54.0   4211.0      11.0  \n",
       "\n",
       "[26481 rows x 8 columns]"
      ]
     },
     "execution_count": 41,
     "metadata": {},
     "output_type": "execute_result"
    }
   ],
   "source": [
    "# Selecting duplicate rows except first \n",
    "# occurrence based on all columns\n",
    "duplicate = sec_car[sec_car.duplicated()]\n",
    "  \n",
    "print(\"Duplicate Rows :\")\n",
    "  \n",
    "# Print the resultant Dataframe\n",
    "duplicate\n"
   ]
  },
  {
   "cell_type": "code",
   "execution_count": 42,
   "metadata": {
    "colab": {
     "base_uri": "https://localhost:8080/"
    },
    "id": "tavWMz3ihSOv",
    "outputId": "ef2792b2-450b-4a6e-df3b-943940d0ce6c"
   },
   "outputs": [
    {
     "data": {
      "text/plain": [
       "1         False\n",
       "2         False\n",
       "4         False\n",
       "6         False\n",
       "7         False\n",
       "          ...  \n",
       "299995    False\n",
       "299996     True\n",
       "299997    False\n",
       "299998     True\n",
       "299999    False\n",
       "Length: 246394, dtype: bool"
      ]
     },
     "execution_count": 42,
     "metadata": {},
     "output_type": "execute_result"
    }
   ],
   "source": [
    "sec_car.duplicated()"
   ]
  },
  {
   "cell_type": "code",
   "execution_count": 43,
   "metadata": {
    "colab": {
     "base_uri": "https://localhost:8080/"
    },
    "id": "8p7yAkA3hYhz",
    "outputId": "b9146304-b44b-4b83-898e-b425138c8781"
   },
   "outputs": [
    {
     "data": {
      "text/plain": [
       "26481"
      ]
     },
     "execution_count": 43,
     "metadata": {},
     "output_type": "execute_result"
    }
   ],
   "source": [
    "sec_car.duplicated().sum()"
   ]
  },
  {
   "cell_type": "code",
   "execution_count": 44,
   "metadata": {
    "colab": {
     "base_uri": "https://localhost:8080/",
     "height": 444
    },
    "id": "yDQNE_nWhdkF",
    "outputId": "48689f95-3a72-42b0-ca41-80fbd310503e"
   },
   "outputs": [],
   "source": [
    "dups = sec_car.duplicated().sum()\n",
    "len(sec_car)\n",
    "dups[dups>0]/len(sec_car)*100\n",
    "sec_car = sec_car.drop_duplicates()\n",
    "#we deleted about 10% of the rows which were duplicates"
   ]
  },
  {
   "cell_type": "code",
   "execution_count": 50,
   "metadata": {},
   "outputs": [
    {
     "data": {
      "text/html": [
       "<div>\n",
       "<style scoped>\n",
       "    .dataframe tbody tr th:only-of-type {\n",
       "        vertical-align: middle;\n",
       "    }\n",
       "\n",
       "    .dataframe tbody tr th {\n",
       "        vertical-align: top;\n",
       "    }\n",
       "\n",
       "    .dataframe thead th {\n",
       "        text-align: right;\n",
       "    }\n",
       "</style>\n",
       "<table border=\"1\" class=\"dataframe\">\n",
       "  <thead>\n",
       "    <tr style=\"text-align: right;\">\n",
       "      <th></th>\n",
       "      <th>mileage</th>\n",
       "      <th>seat_count</th>\n",
       "      <th>displacement</th>\n",
       "      <th>horse_power</th>\n",
       "      <th>price</th>\n",
       "      <th>car_life</th>\n",
       "      <th>transmission_man</th>\n",
       "      <th>maker_ford</th>\n",
       "      <th>maker_volkswagen</th>\n",
       "    </tr>\n",
       "  </thead>\n",
       "  <tbody>\n",
       "    <tr>\n",
       "      <th>1</th>\n",
       "      <td>102526.0</td>\n",
       "      <td>5.0</td>\n",
       "      <td>1.97</td>\n",
       "      <td>138.0</td>\n",
       "      <td>5500.0</td>\n",
       "      <td>13.0</td>\n",
       "      <td>1</td>\n",
       "      <td>0</td>\n",
       "      <td>0</td>\n",
       "    </tr>\n",
       "    <tr>\n",
       "      <th>2</th>\n",
       "      <td>684.0</td>\n",
       "      <td>5.0</td>\n",
       "      <td>1.97</td>\n",
       "      <td>148.0</td>\n",
       "      <td>39649.0</td>\n",
       "      <td>1.0</td>\n",
       "      <td>0</td>\n",
       "      <td>0</td>\n",
       "      <td>0</td>\n",
       "    </tr>\n",
       "    <tr>\n",
       "      <th>4</th>\n",
       "      <td>45006.0</td>\n",
       "      <td>4.0</td>\n",
       "      <td>1.60</td>\n",
       "      <td>103.0</td>\n",
       "      <td>16848.0</td>\n",
       "      <td>7.0</td>\n",
       "      <td>1</td>\n",
       "      <td>0</td>\n",
       "      <td>0</td>\n",
       "    </tr>\n",
       "    <tr>\n",
       "      <th>6</th>\n",
       "      <td>136702.0</td>\n",
       "      <td>5.0</td>\n",
       "      <td>1.97</td>\n",
       "      <td>168.0</td>\n",
       "      <td>25632.0</td>\n",
       "      <td>5.0</td>\n",
       "      <td>0</td>\n",
       "      <td>0</td>\n",
       "      <td>0</td>\n",
       "    </tr>\n",
       "    <tr>\n",
       "      <th>7</th>\n",
       "      <td>25259.0</td>\n",
       "      <td>5.0</td>\n",
       "      <td>2.00</td>\n",
       "      <td>141.0</td>\n",
       "      <td>1516.0</td>\n",
       "      <td>5.0</td>\n",
       "      <td>0</td>\n",
       "      <td>0</td>\n",
       "      <td>0</td>\n",
       "    </tr>\n",
       "    <tr>\n",
       "      <th>...</th>\n",
       "      <td>...</td>\n",
       "      <td>...</td>\n",
       "      <td>...</td>\n",
       "      <td>...</td>\n",
       "      <td>...</td>\n",
       "      <td>...</td>\n",
       "      <td>...</td>\n",
       "      <td>...</td>\n",
       "      <td>...</td>\n",
       "    </tr>\n",
       "    <tr>\n",
       "      <th>299993</th>\n",
       "      <td>99419.0</td>\n",
       "      <td>4.0</td>\n",
       "      <td>1.39</td>\n",
       "      <td>74.0</td>\n",
       "      <td>2223.0</td>\n",
       "      <td>11.0</td>\n",
       "      <td>1</td>\n",
       "      <td>0</td>\n",
       "      <td>1</td>\n",
       "    </tr>\n",
       "    <tr>\n",
       "      <th>299994</th>\n",
       "      <td>59492.0</td>\n",
       "      <td>4.0</td>\n",
       "      <td>1.60</td>\n",
       "      <td>103.0</td>\n",
       "      <td>15889.0</td>\n",
       "      <td>5.0</td>\n",
       "      <td>1</td>\n",
       "      <td>0</td>\n",
       "      <td>1</td>\n",
       "    </tr>\n",
       "    <tr>\n",
       "      <th>299995</th>\n",
       "      <td>142025.0</td>\n",
       "      <td>9.0</td>\n",
       "      <td>1.90</td>\n",
       "      <td>83.0</td>\n",
       "      <td>1516.0</td>\n",
       "      <td>10.0</td>\n",
       "      <td>1</td>\n",
       "      <td>0</td>\n",
       "      <td>1</td>\n",
       "    </tr>\n",
       "    <tr>\n",
       "      <th>299997</th>\n",
       "      <td>44968.0</td>\n",
       "      <td>5.0</td>\n",
       "      <td>1.97</td>\n",
       "      <td>138.0</td>\n",
       "      <td>18692.0</td>\n",
       "      <td>4.0</td>\n",
       "      <td>0</td>\n",
       "      <td>0</td>\n",
       "      <td>1</td>\n",
       "    </tr>\n",
       "    <tr>\n",
       "      <th>299999</th>\n",
       "      <td>15659.0</td>\n",
       "      <td>5.0</td>\n",
       "      <td>1.97</td>\n",
       "      <td>148.0</td>\n",
       "      <td>29192.0</td>\n",
       "      <td>2.0</td>\n",
       "      <td>1</td>\n",
       "      <td>0</td>\n",
       "      <td>1</td>\n",
       "    </tr>\n",
       "  </tbody>\n",
       "</table>\n",
       "<p>219913 rows × 9 columns</p>\n",
       "</div>"
      ],
      "text/plain": [
       "         mileage  seat_count  displacement  horse_power    price  car_life  \\\n",
       "1       102526.0         5.0          1.97        138.0   5500.0      13.0   \n",
       "2          684.0         5.0          1.97        148.0  39649.0       1.0   \n",
       "4        45006.0         4.0          1.60        103.0  16848.0       7.0   \n",
       "6       136702.0         5.0          1.97        168.0  25632.0       5.0   \n",
       "7        25259.0         5.0          2.00        141.0   1516.0       5.0   \n",
       "...          ...         ...           ...          ...      ...       ...   \n",
       "299993   99419.0         4.0          1.39         74.0   2223.0      11.0   \n",
       "299994   59492.0         4.0          1.60        103.0  15889.0       5.0   \n",
       "299995  142025.0         9.0          1.90         83.0   1516.0      10.0   \n",
       "299997   44968.0         5.0          1.97        138.0  18692.0       4.0   \n",
       "299999   15659.0         5.0          1.97        148.0  29192.0       2.0   \n",
       "\n",
       "        transmission_man  maker_ford  maker_volkswagen  \n",
       "1                      1           0                 0  \n",
       "2                      0           0                 0  \n",
       "4                      1           0                 0  \n",
       "6                      0           0                 0  \n",
       "7                      0           0                 0  \n",
       "...                  ...         ...               ...  \n",
       "299993                 1           0                 1  \n",
       "299994                 1           0                 1  \n",
       "299995                 1           0                 1  \n",
       "299997                 0           0                 1  \n",
       "299999                 1           0                 1  \n",
       "\n",
       "[219913 rows x 9 columns]"
      ]
     },
     "execution_count": 50,
     "metadata": {},
     "output_type": "execute_result"
    }
   ],
   "source": [
    "sec_car"
   ]
  },
  {
   "cell_type": "code",
   "execution_count": 51,
   "metadata": {
    "id": "ZuI2PLesmvik"
   },
   "outputs": [
    {
     "ename": "KeyError",
     "evalue": "\"None of [Index(['transmission', 'maker'], dtype='object')] are in the [columns]\"",
     "output_type": "error",
     "traceback": [
      "\u001b[1;31m---------------------------------------------------------------------------\u001b[0m",
      "\u001b[1;31mKeyError\u001b[0m                                  Traceback (most recent call last)",
      "\u001b[1;32m<ipython-input-51-71bdd8d76703>\u001b[0m in \u001b[0;36m<module>\u001b[1;34m\u001b[0m\n\u001b[1;32m----> 1\u001b[1;33m \u001b[0msec_car\u001b[0m \u001b[1;33m=\u001b[0m \u001b[0mpd\u001b[0m\u001b[1;33m.\u001b[0m\u001b[0mget_dummies\u001b[0m\u001b[1;33m(\u001b[0m\u001b[0msec_car\u001b[0m\u001b[1;33m,\u001b[0m \u001b[0mcolumns\u001b[0m\u001b[1;33m=\u001b[0m\u001b[1;33m[\u001b[0m\u001b[1;34m\"transmission\"\u001b[0m\u001b[1;33m,\u001b[0m\u001b[1;34m\"maker\"\u001b[0m\u001b[1;33m]\u001b[0m\u001b[1;33m,\u001b[0m \u001b[0mdrop_first\u001b[0m \u001b[1;33m=\u001b[0m \u001b[1;32mTrue\u001b[0m\u001b[1;33m)\u001b[0m\u001b[1;33m\u001b[0m\u001b[1;33m\u001b[0m\u001b[0m\n\u001b[0m",
      "\u001b[1;32m~\\anaconda3\\lib\\site-packages\\pandas\\core\\reshape\\reshape.py\u001b[0m in \u001b[0;36mget_dummies\u001b[1;34m(data, prefix, prefix_sep, dummy_na, columns, sparse, drop_first, dtype)\u001b[0m\n\u001b[0;32m    866\u001b[0m             \u001b[1;32mraise\u001b[0m \u001b[0mTypeError\u001b[0m\u001b[1;33m(\u001b[0m\u001b[1;34m\"Input must be a list-like for parameter `columns`\"\u001b[0m\u001b[1;33m)\u001b[0m\u001b[1;33m\u001b[0m\u001b[1;33m\u001b[0m\u001b[0m\n\u001b[0;32m    867\u001b[0m         \u001b[1;32melse\u001b[0m\u001b[1;33m:\u001b[0m\u001b[1;33m\u001b[0m\u001b[1;33m\u001b[0m\u001b[0m\n\u001b[1;32m--> 868\u001b[1;33m             \u001b[0mdata_to_encode\u001b[0m \u001b[1;33m=\u001b[0m \u001b[0mdata\u001b[0m\u001b[1;33m[\u001b[0m\u001b[0mcolumns\u001b[0m\u001b[1;33m]\u001b[0m\u001b[1;33m\u001b[0m\u001b[1;33m\u001b[0m\u001b[0m\n\u001b[0m\u001b[0;32m    869\u001b[0m \u001b[1;33m\u001b[0m\u001b[0m\n\u001b[0;32m    870\u001b[0m         \u001b[1;31m# validate prefixes and separator to avoid silently dropping cols\u001b[0m\u001b[1;33m\u001b[0m\u001b[1;33m\u001b[0m\u001b[1;33m\u001b[0m\u001b[0m\n",
      "\u001b[1;32m~\\anaconda3\\lib\\site-packages\\pandas\\core\\frame.py\u001b[0m in \u001b[0;36m__getitem__\u001b[1;34m(self, key)\u001b[0m\n\u001b[0;32m   2804\u001b[0m             \u001b[1;32mif\u001b[0m \u001b[0mis_iterator\u001b[0m\u001b[1;33m(\u001b[0m\u001b[0mkey\u001b[0m\u001b[1;33m)\u001b[0m\u001b[1;33m:\u001b[0m\u001b[1;33m\u001b[0m\u001b[1;33m\u001b[0m\u001b[0m\n\u001b[0;32m   2805\u001b[0m                 \u001b[0mkey\u001b[0m \u001b[1;33m=\u001b[0m \u001b[0mlist\u001b[0m\u001b[1;33m(\u001b[0m\u001b[0mkey\u001b[0m\u001b[1;33m)\u001b[0m\u001b[1;33m\u001b[0m\u001b[1;33m\u001b[0m\u001b[0m\n\u001b[1;32m-> 2806\u001b[1;33m             \u001b[0mindexer\u001b[0m \u001b[1;33m=\u001b[0m \u001b[0mself\u001b[0m\u001b[1;33m.\u001b[0m\u001b[0mloc\u001b[0m\u001b[1;33m.\u001b[0m\u001b[0m_get_listlike_indexer\u001b[0m\u001b[1;33m(\u001b[0m\u001b[0mkey\u001b[0m\u001b[1;33m,\u001b[0m \u001b[0maxis\u001b[0m\u001b[1;33m=\u001b[0m\u001b[1;36m1\u001b[0m\u001b[1;33m,\u001b[0m \u001b[0mraise_missing\u001b[0m\u001b[1;33m=\u001b[0m\u001b[1;32mTrue\u001b[0m\u001b[1;33m)\u001b[0m\u001b[1;33m[\u001b[0m\u001b[1;36m1\u001b[0m\u001b[1;33m]\u001b[0m\u001b[1;33m\u001b[0m\u001b[1;33m\u001b[0m\u001b[0m\n\u001b[0m\u001b[0;32m   2807\u001b[0m \u001b[1;33m\u001b[0m\u001b[0m\n\u001b[0;32m   2808\u001b[0m         \u001b[1;31m# take() does not accept boolean indexers\u001b[0m\u001b[1;33m\u001b[0m\u001b[1;33m\u001b[0m\u001b[1;33m\u001b[0m\u001b[0m\n",
      "\u001b[1;32m~\\anaconda3\\lib\\site-packages\\pandas\\core\\indexing.py\u001b[0m in \u001b[0;36m_get_listlike_indexer\u001b[1;34m(self, key, axis, raise_missing)\u001b[0m\n\u001b[0;32m   1550\u001b[0m             \u001b[0mkeyarr\u001b[0m\u001b[1;33m,\u001b[0m \u001b[0mindexer\u001b[0m\u001b[1;33m,\u001b[0m \u001b[0mnew_indexer\u001b[0m \u001b[1;33m=\u001b[0m \u001b[0max\u001b[0m\u001b[1;33m.\u001b[0m\u001b[0m_reindex_non_unique\u001b[0m\u001b[1;33m(\u001b[0m\u001b[0mkeyarr\u001b[0m\u001b[1;33m)\u001b[0m\u001b[1;33m\u001b[0m\u001b[1;33m\u001b[0m\u001b[0m\n\u001b[0;32m   1551\u001b[0m \u001b[1;33m\u001b[0m\u001b[0m\n\u001b[1;32m-> 1552\u001b[1;33m         self._validate_read_indexer(\n\u001b[0m\u001b[0;32m   1553\u001b[0m             \u001b[0mkeyarr\u001b[0m\u001b[1;33m,\u001b[0m \u001b[0mindexer\u001b[0m\u001b[1;33m,\u001b[0m \u001b[0mo\u001b[0m\u001b[1;33m.\u001b[0m\u001b[0m_get_axis_number\u001b[0m\u001b[1;33m(\u001b[0m\u001b[0maxis\u001b[0m\u001b[1;33m)\u001b[0m\u001b[1;33m,\u001b[0m \u001b[0mraise_missing\u001b[0m\u001b[1;33m=\u001b[0m\u001b[0mraise_missing\u001b[0m\u001b[1;33m\u001b[0m\u001b[1;33m\u001b[0m\u001b[0m\n\u001b[0;32m   1554\u001b[0m         )\n",
      "\u001b[1;32m~\\anaconda3\\lib\\site-packages\\pandas\\core\\indexing.py\u001b[0m in \u001b[0;36m_validate_read_indexer\u001b[1;34m(self, key, indexer, axis, raise_missing)\u001b[0m\n\u001b[0;32m   1638\u001b[0m             \u001b[1;32mif\u001b[0m \u001b[0mmissing\u001b[0m \u001b[1;33m==\u001b[0m \u001b[0mlen\u001b[0m\u001b[1;33m(\u001b[0m\u001b[0mindexer\u001b[0m\u001b[1;33m)\u001b[0m\u001b[1;33m:\u001b[0m\u001b[1;33m\u001b[0m\u001b[1;33m\u001b[0m\u001b[0m\n\u001b[0;32m   1639\u001b[0m                 \u001b[0maxis_name\u001b[0m \u001b[1;33m=\u001b[0m \u001b[0mself\u001b[0m\u001b[1;33m.\u001b[0m\u001b[0mobj\u001b[0m\u001b[1;33m.\u001b[0m\u001b[0m_get_axis_name\u001b[0m\u001b[1;33m(\u001b[0m\u001b[0maxis\u001b[0m\u001b[1;33m)\u001b[0m\u001b[1;33m\u001b[0m\u001b[1;33m\u001b[0m\u001b[0m\n\u001b[1;32m-> 1640\u001b[1;33m                 \u001b[1;32mraise\u001b[0m \u001b[0mKeyError\u001b[0m\u001b[1;33m(\u001b[0m\u001b[1;34mf\"None of [{key}] are in the [{axis_name}]\"\u001b[0m\u001b[1;33m)\u001b[0m\u001b[1;33m\u001b[0m\u001b[1;33m\u001b[0m\u001b[0m\n\u001b[0m\u001b[0;32m   1641\u001b[0m \u001b[1;33m\u001b[0m\u001b[0m\n\u001b[0;32m   1642\u001b[0m             \u001b[1;31m# We (temporarily) allow for some missing keys with .loc, except in\u001b[0m\u001b[1;33m\u001b[0m\u001b[1;33m\u001b[0m\u001b[1;33m\u001b[0m\u001b[0m\n",
      "\u001b[1;31mKeyError\u001b[0m: \"None of [Index(['transmission', 'maker'], dtype='object')] are in the [columns]\""
     ]
    }
   ],
   "source": [
    "sec_car = pd.get_dummies(sec_car, columns=[\"transmission\",\"maker\"], drop_first = True)"
   ]
  },
  {
   "cell_type": "code",
   "execution_count": 52,
   "metadata": {
    "colab": {
     "base_uri": "https://localhost:8080/",
     "height": 226
    },
    "id": "oKrRCW4Yok18",
    "outputId": "3e106ca3-cfdc-4959-b08f-99287e00fbe8"
   },
   "outputs": [
    {
     "data": {
      "text/html": [
       "<div>\n",
       "<style scoped>\n",
       "    .dataframe tbody tr th:only-of-type {\n",
       "        vertical-align: middle;\n",
       "    }\n",
       "\n",
       "    .dataframe tbody tr th {\n",
       "        vertical-align: top;\n",
       "    }\n",
       "\n",
       "    .dataframe thead th {\n",
       "        text-align: right;\n",
       "    }\n",
       "</style>\n",
       "<table border=\"1\" class=\"dataframe\">\n",
       "  <thead>\n",
       "    <tr style=\"text-align: right;\">\n",
       "      <th></th>\n",
       "      <th>mileage</th>\n",
       "      <th>seat_count</th>\n",
       "      <th>displacement</th>\n",
       "      <th>horse_power</th>\n",
       "      <th>price</th>\n",
       "      <th>car_life</th>\n",
       "      <th>transmission_man</th>\n",
       "      <th>maker_ford</th>\n",
       "      <th>maker_volkswagen</th>\n",
       "    </tr>\n",
       "  </thead>\n",
       "  <tbody>\n",
       "    <tr>\n",
       "      <th>299993</th>\n",
       "      <td>99419.0</td>\n",
       "      <td>4.0</td>\n",
       "      <td>1.39</td>\n",
       "      <td>74.0</td>\n",
       "      <td>2223.0</td>\n",
       "      <td>11.0</td>\n",
       "      <td>1</td>\n",
       "      <td>0</td>\n",
       "      <td>1</td>\n",
       "    </tr>\n",
       "    <tr>\n",
       "      <th>299994</th>\n",
       "      <td>59492.0</td>\n",
       "      <td>4.0</td>\n",
       "      <td>1.60</td>\n",
       "      <td>103.0</td>\n",
       "      <td>15889.0</td>\n",
       "      <td>5.0</td>\n",
       "      <td>1</td>\n",
       "      <td>0</td>\n",
       "      <td>1</td>\n",
       "    </tr>\n",
       "    <tr>\n",
       "      <th>299995</th>\n",
       "      <td>142025.0</td>\n",
       "      <td>9.0</td>\n",
       "      <td>1.90</td>\n",
       "      <td>83.0</td>\n",
       "      <td>1516.0</td>\n",
       "      <td>10.0</td>\n",
       "      <td>1</td>\n",
       "      <td>0</td>\n",
       "      <td>1</td>\n",
       "    </tr>\n",
       "    <tr>\n",
       "      <th>299997</th>\n",
       "      <td>44968.0</td>\n",
       "      <td>5.0</td>\n",
       "      <td>1.97</td>\n",
       "      <td>138.0</td>\n",
       "      <td>18692.0</td>\n",
       "      <td>4.0</td>\n",
       "      <td>0</td>\n",
       "      <td>0</td>\n",
       "      <td>1</td>\n",
       "    </tr>\n",
       "    <tr>\n",
       "      <th>299999</th>\n",
       "      <td>15659.0</td>\n",
       "      <td>5.0</td>\n",
       "      <td>1.97</td>\n",
       "      <td>148.0</td>\n",
       "      <td>29192.0</td>\n",
       "      <td>2.0</td>\n",
       "      <td>1</td>\n",
       "      <td>0</td>\n",
       "      <td>1</td>\n",
       "    </tr>\n",
       "  </tbody>\n",
       "</table>\n",
       "</div>"
      ],
      "text/plain": [
       "         mileage  seat_count  displacement  horse_power    price  car_life  \\\n",
       "299993   99419.0         4.0          1.39         74.0   2223.0      11.0   \n",
       "299994   59492.0         4.0          1.60        103.0  15889.0       5.0   \n",
       "299995  142025.0         9.0          1.90         83.0   1516.0      10.0   \n",
       "299997   44968.0         5.0          1.97        138.0  18692.0       4.0   \n",
       "299999   15659.0         5.0          1.97        148.0  29192.0       2.0   \n",
       "\n",
       "        transmission_man  maker_ford  maker_volkswagen  \n",
       "299993                 1           0                 1  \n",
       "299994                 1           0                 1  \n",
       "299995                 1           0                 1  \n",
       "299997                 0           0                 1  \n",
       "299999                 1           0                 1  "
      ]
     },
     "execution_count": 52,
     "metadata": {},
     "output_type": "execute_result"
    }
   ],
   "source": [
    "sec_car.tail()"
   ]
  },
  {
   "cell_type": "code",
   "execution_count": 91,
   "metadata": {},
   "outputs": [],
   "source": [
    "# #rearranging columns for VIF\n",
    "# sec_car = sec_car[['seat_count','horse_power','car_life','transmission_man','maker_ford','maker_volkswagen','price']]"
   ]
  },
  {
   "cell_type": "code",
   "execution_count": 92,
   "metadata": {},
   "outputs": [],
   "source": [
    "# from statsmodels.stats.outliers_influence import variance_inflation_factor\n",
    "# from statsmodels.tools.tools import add_constant"
   ]
  },
  {
   "cell_type": "code",
   "execution_count": 93,
   "metadata": {},
   "outputs": [],
   "source": [
    "# # Import library for VIF\n",
    "# from statsmodels.stats.outliers_influence import variance_inflation_factor\n",
    "\n",
    "# def calc_vif(X):\n",
    "\n",
    "#     # Calculating VIF\n",
    "#     vif = pd.DataFrame()\n",
    "#     vif[\"variables\"] = X.columns\n",
    "#     vif[\"VIF\"] = [variance_inflation_factor(X.values, i) for i in range(X.shape[1])]\n",
    "\n",
    "#     return(vif)"
   ]
  },
  {
   "cell_type": "code",
   "execution_count": 94,
   "metadata": {},
   "outputs": [],
   "source": [
    "# X = sec_car.iloc[:,:-1]\n",
    "# calc_vif(X)"
   ]
  },
  {
   "cell_type": "code",
   "execution_count": 95,
   "metadata": {
    "colab": {
     "base_uri": "https://localhost:8080/",
     "height": 444
    },
    "id": "p9OrLXV0o0LK",
    "outputId": "99f9c3d4-ef08-4b3f-9166-dbeb1d5913b5"
   },
   "outputs": [],
   "source": [
    "#sec_car2_filtered.rename(columns = {\"transmission_man\":\"transmission\"})"
   ]
  },
  {
   "cell_type": "code",
   "execution_count": 53,
   "metadata": {},
   "outputs": [
    {
     "data": {
      "text/html": [
       "<div>\n",
       "<style scoped>\n",
       "    .dataframe tbody tr th:only-of-type {\n",
       "        vertical-align: middle;\n",
       "    }\n",
       "\n",
       "    .dataframe tbody tr th {\n",
       "        vertical-align: top;\n",
       "    }\n",
       "\n",
       "    .dataframe thead th {\n",
       "        text-align: right;\n",
       "    }\n",
       "</style>\n",
       "<table border=\"1\" class=\"dataframe\">\n",
       "  <thead>\n",
       "    <tr style=\"text-align: right;\">\n",
       "      <th></th>\n",
       "      <th>mileage</th>\n",
       "      <th>seat_count</th>\n",
       "      <th>displacement</th>\n",
       "      <th>horse_power</th>\n",
       "      <th>price</th>\n",
       "      <th>car_life</th>\n",
       "      <th>transmission_man</th>\n",
       "      <th>maker_ford</th>\n",
       "      <th>maker_volkswagen</th>\n",
       "    </tr>\n",
       "  </thead>\n",
       "  <tbody>\n",
       "    <tr>\n",
       "      <th>299993</th>\n",
       "      <td>99419.0</td>\n",
       "      <td>4.0</td>\n",
       "      <td>1.39</td>\n",
       "      <td>74.0</td>\n",
       "      <td>2223.0</td>\n",
       "      <td>11.0</td>\n",
       "      <td>1</td>\n",
       "      <td>0</td>\n",
       "      <td>1</td>\n",
       "    </tr>\n",
       "    <tr>\n",
       "      <th>299994</th>\n",
       "      <td>59492.0</td>\n",
       "      <td>4.0</td>\n",
       "      <td>1.60</td>\n",
       "      <td>103.0</td>\n",
       "      <td>15889.0</td>\n",
       "      <td>5.0</td>\n",
       "      <td>1</td>\n",
       "      <td>0</td>\n",
       "      <td>1</td>\n",
       "    </tr>\n",
       "    <tr>\n",
       "      <th>299995</th>\n",
       "      <td>142025.0</td>\n",
       "      <td>9.0</td>\n",
       "      <td>1.90</td>\n",
       "      <td>83.0</td>\n",
       "      <td>1516.0</td>\n",
       "      <td>10.0</td>\n",
       "      <td>1</td>\n",
       "      <td>0</td>\n",
       "      <td>1</td>\n",
       "    </tr>\n",
       "    <tr>\n",
       "      <th>299997</th>\n",
       "      <td>44968.0</td>\n",
       "      <td>5.0</td>\n",
       "      <td>1.97</td>\n",
       "      <td>138.0</td>\n",
       "      <td>18692.0</td>\n",
       "      <td>4.0</td>\n",
       "      <td>0</td>\n",
       "      <td>0</td>\n",
       "      <td>1</td>\n",
       "    </tr>\n",
       "    <tr>\n",
       "      <th>299999</th>\n",
       "      <td>15659.0</td>\n",
       "      <td>5.0</td>\n",
       "      <td>1.97</td>\n",
       "      <td>148.0</td>\n",
       "      <td>29192.0</td>\n",
       "      <td>2.0</td>\n",
       "      <td>1</td>\n",
       "      <td>0</td>\n",
       "      <td>1</td>\n",
       "    </tr>\n",
       "  </tbody>\n",
       "</table>\n",
       "</div>"
      ],
      "text/plain": [
       "         mileage  seat_count  displacement  horse_power    price  car_life  \\\n",
       "299993   99419.0         4.0          1.39         74.0   2223.0      11.0   \n",
       "299994   59492.0         4.0          1.60        103.0  15889.0       5.0   \n",
       "299995  142025.0         9.0          1.90         83.0   1516.0      10.0   \n",
       "299997   44968.0         5.0          1.97        138.0  18692.0       4.0   \n",
       "299999   15659.0         5.0          1.97        148.0  29192.0       2.0   \n",
       "\n",
       "        transmission_man  maker_ford  maker_volkswagen  \n",
       "299993                 1           0                 1  \n",
       "299994                 1           0                 1  \n",
       "299995                 1           0                 1  \n",
       "299997                 0           0                 1  \n",
       "299999                 1           0                 1  "
      ]
     },
     "execution_count": 53,
     "metadata": {},
     "output_type": "execute_result"
    }
   ],
   "source": [
    "sec_car.tail()"
   ]
  },
  {
   "cell_type": "code",
   "execution_count": 102,
   "metadata": {},
   "outputs": [],
   "source": [
    "#Checking assumptions before choosing an ML model"
   ]
  },
  {
   "cell_type": "code",
   "execution_count": 54,
   "metadata": {},
   "outputs": [
    {
     "data": {
      "text/plain": [
       "mileage             0.552528\n",
       "seat_count          0.993940\n",
       "displacement       -0.212831\n",
       "horse_power         0.201740\n",
       "price               0.745430\n",
       "car_life            0.656769\n",
       "transmission_man   -1.587016\n",
       "maker_ford          0.559778\n",
       "maker_volkswagen    0.469451\n",
       "dtype: float64"
      ]
     },
     "execution_count": 54,
     "metadata": {},
     "output_type": "execute_result"
    }
   ],
   "source": [
    "sec_car.skew()"
   ]
  },
  {
   "cell_type": "code",
   "execution_count": 104,
   "metadata": {},
   "outputs": [],
   "source": [
    "#  (sec_car.mileage == 0).sum().sum()\n"
   ]
  },
  {
   "cell_type": "code",
   "execution_count": 55,
   "metadata": {},
   "outputs": [
    {
     "data": {
      "text/html": [
       "<div>\n",
       "<style scoped>\n",
       "    .dataframe tbody tr th:only-of-type {\n",
       "        vertical-align: middle;\n",
       "    }\n",
       "\n",
       "    .dataframe tbody tr th {\n",
       "        vertical-align: top;\n",
       "    }\n",
       "\n",
       "    .dataframe thead th {\n",
       "        text-align: right;\n",
       "    }\n",
       "</style>\n",
       "<table border=\"1\" class=\"dataframe\">\n",
       "  <thead>\n",
       "    <tr style=\"text-align: right;\">\n",
       "      <th></th>\n",
       "      <th>mileage</th>\n",
       "      <th>seat_count</th>\n",
       "      <th>displacement</th>\n",
       "      <th>horse_power</th>\n",
       "      <th>price</th>\n",
       "      <th>car_life</th>\n",
       "      <th>transmission_man</th>\n",
       "      <th>maker_ford</th>\n",
       "      <th>maker_volkswagen</th>\n",
       "    </tr>\n",
       "  </thead>\n",
       "  <tbody>\n",
       "    <tr>\n",
       "      <th>count</th>\n",
       "      <td>219913.000000</td>\n",
       "      <td>219913.000000</td>\n",
       "      <td>219913.000000</td>\n",
       "      <td>219913.000000</td>\n",
       "      <td>219913.000000</td>\n",
       "      <td>219913.000000</td>\n",
       "      <td>219913.000000</td>\n",
       "      <td>219913.000000</td>\n",
       "      <td>219913.000000</td>\n",
       "    </tr>\n",
       "    <tr>\n",
       "      <th>mean</th>\n",
       "      <td>62706.060028</td>\n",
       "      <td>4.980747</td>\n",
       "      <td>1.691691</td>\n",
       "      <td>119.704883</td>\n",
       "      <td>13544.237426</td>\n",
       "      <td>7.578938</td>\n",
       "      <td>0.810793</td>\n",
       "      <td>0.365235</td>\n",
       "      <td>0.385743</td>\n",
       "    </tr>\n",
       "    <tr>\n",
       "      <th>std</th>\n",
       "      <td>48207.050844</td>\n",
       "      <td>0.763103</td>\n",
       "      <td>0.327364</td>\n",
       "      <td>33.717795</td>\n",
       "      <td>10415.596117</td>\n",
       "      <td>4.979174</td>\n",
       "      <td>0.391674</td>\n",
       "      <td>0.481497</td>\n",
       "      <td>0.486772</td>\n",
       "    </tr>\n",
       "    <tr>\n",
       "      <th>min</th>\n",
       "      <td>0.000000</td>\n",
       "      <td>1.000000</td>\n",
       "      <td>0.920000</td>\n",
       "      <td>43.000000</td>\n",
       "      <td>59.000000</td>\n",
       "      <td>0.000000</td>\n",
       "      <td>0.000000</td>\n",
       "      <td>0.000000</td>\n",
       "      <td>0.000000</td>\n",
       "    </tr>\n",
       "    <tr>\n",
       "      <th>25%</th>\n",
       "      <td>16801.000000</td>\n",
       "      <td>5.000000</td>\n",
       "      <td>1.400000</td>\n",
       "      <td>99.000000</td>\n",
       "      <td>4294.000000</td>\n",
       "      <td>3.000000</td>\n",
       "      <td>1.000000</td>\n",
       "      <td>0.000000</td>\n",
       "      <td>0.000000</td>\n",
       "    </tr>\n",
       "    <tr>\n",
       "      <th>50%</th>\n",
       "      <td>57166.000000</td>\n",
       "      <td>5.000000</td>\n",
       "      <td>1.600000</td>\n",
       "      <td>114.000000</td>\n",
       "      <td>11688.000000</td>\n",
       "      <td>6.000000</td>\n",
       "      <td>1.000000</td>\n",
       "      <td>0.000000</td>\n",
       "      <td>0.000000</td>\n",
       "    </tr>\n",
       "    <tr>\n",
       "      <th>75%</th>\n",
       "      <td>97535.000000</td>\n",
       "      <td>5.000000</td>\n",
       "      <td>1.970000</td>\n",
       "      <td>141.000000</td>\n",
       "      <td>20463.000000</td>\n",
       "      <td>11.000000</td>\n",
       "      <td>1.000000</td>\n",
       "      <td>1.000000</td>\n",
       "      <td>1.000000</td>\n",
       "    </tr>\n",
       "    <tr>\n",
       "      <th>max</th>\n",
       "      <td>215696.000000</td>\n",
       "      <td>15.000000</td>\n",
       "      <td>2.690000</td>\n",
       "      <td>208.000000</td>\n",
       "      <td>47053.000000</td>\n",
       "      <td>20.000000</td>\n",
       "      <td>1.000000</td>\n",
       "      <td>1.000000</td>\n",
       "      <td>1.000000</td>\n",
       "    </tr>\n",
       "  </tbody>\n",
       "</table>\n",
       "</div>"
      ],
      "text/plain": [
       "             mileage     seat_count   displacement    horse_power  \\\n",
       "count  219913.000000  219913.000000  219913.000000  219913.000000   \n",
       "mean    62706.060028       4.980747       1.691691     119.704883   \n",
       "std     48207.050844       0.763103       0.327364      33.717795   \n",
       "min         0.000000       1.000000       0.920000      43.000000   \n",
       "25%     16801.000000       5.000000       1.400000      99.000000   \n",
       "50%     57166.000000       5.000000       1.600000     114.000000   \n",
       "75%     97535.000000       5.000000       1.970000     141.000000   \n",
       "max    215696.000000      15.000000       2.690000     208.000000   \n",
       "\n",
       "               price       car_life  transmission_man     maker_ford  \\\n",
       "count  219913.000000  219913.000000     219913.000000  219913.000000   \n",
       "mean    13544.237426       7.578938          0.810793       0.365235   \n",
       "std     10415.596117       4.979174          0.391674       0.481497   \n",
       "min        59.000000       0.000000          0.000000       0.000000   \n",
       "25%      4294.000000       3.000000          1.000000       0.000000   \n",
       "50%     11688.000000       6.000000          1.000000       0.000000   \n",
       "75%     20463.000000      11.000000          1.000000       1.000000   \n",
       "max     47053.000000      20.000000          1.000000       1.000000   \n",
       "\n",
       "       maker_volkswagen  \n",
       "count     219913.000000  \n",
       "mean           0.385743  \n",
       "std            0.486772  \n",
       "min            0.000000  \n",
       "25%            0.000000  \n",
       "50%            0.000000  \n",
       "75%            1.000000  \n",
       "max            1.000000  "
      ]
     },
     "execution_count": 55,
     "metadata": {},
     "output_type": "execute_result"
    }
   ],
   "source": [
    "sec_car.describe()"
   ]
  },
  {
   "cell_type": "code",
   "execution_count": 106,
   "metadata": {},
   "outputs": [],
   "source": [
    "#Checking Assumptions 1. Linearity 2. heteroskedasticity 3.normality (skewness) 4.multicolinearity"
   ]
  },
  {
   "cell_type": "code",
   "execution_count": 107,
   "metadata": {},
   "outputs": [
    {
     "data": {
      "text/plain": [
       "Text(0.5, 1.0, 'Multi-Collinearity of Price')"
      ]
     },
     "execution_count": 107,
     "metadata": {},
     "output_type": "execute_result"
    },
    {
     "data": {
      "image/png": "[encoded data removed]",
      "text/plain": [
       "<Figure size 720x432 with 2 Axes>"
      ]
     },
     "metadata": {
      "needs_background": "light"
     },
     "output_type": "display_data"
    }
   ],
   "source": [
    "# Storing subplots in fig and ax variables\n",
    "fig, ax = plt.subplots(figsize=(10,6))\n",
    "# Creating a seaborn heatmap with inputs df\n",
    "sns.heatmap(sec_car.corr(), center=0, cmap=\"Blues\")#annot=True\n",
    "# Setting the title\n",
    "ax.set_title(\"Multi-Collinearity of Price\")"
   ]
  },
  {
   "cell_type": "code",
   "execution_count": 108,
   "metadata": {},
   "outputs": [
    {
     "data": {
      "image/png": "[encoded data removed]",
      "text/plain": [
       "<Figure size 720x576 with 2 Axes>"
      ]
     },
     "metadata": {
      "needs_background": "light"
     },
     "output_type": "display_data"
    }
   ],
   "source": [
    "#Correlation Heat Map to check Multicolinearity\n",
    "plt.rcParams['figure.figsize'] = 10,8  # control plot sizeimport seaborn as sns\n",
    "sns.heatmap(sec_car.corr(), annot = True, cmap=\"Oranges\");"
   ]
  },
  {
   "cell_type": "code",
   "execution_count": 109,
   "metadata": {},
   "outputs": [],
   "source": [
    "# from statsmodels.stats.outliers_influence import variance_inflation_factor\n",
    "# from statsmodels.tools.tools import add_constant"
   ]
  },
  {
   "cell_type": "code",
   "execution_count": 56,
   "metadata": {},
   "outputs": [],
   "source": [
    "sec_car.drop(['mileage','displacement'], axis=1, inplace = True)"
   ]
  },
  {
   "cell_type": "code",
   "execution_count": 57,
   "metadata": {},
   "outputs": [
    {
     "data": {
      "text/html": [
       "<div>\n",
       "<style scoped>\n",
       "    .dataframe tbody tr th:only-of-type {\n",
       "        vertical-align: middle;\n",
       "    }\n",
       "\n",
       "    .dataframe tbody tr th {\n",
       "        vertical-align: top;\n",
       "    }\n",
       "\n",
       "    .dataframe thead th {\n",
       "        text-align: right;\n",
       "    }\n",
       "</style>\n",
       "<table border=\"1\" class=\"dataframe\">\n",
       "  <thead>\n",
       "    <tr style=\"text-align: right;\">\n",
       "      <th></th>\n",
       "      <th>seat_count</th>\n",
       "      <th>horse_power</th>\n",
       "      <th>price</th>\n",
       "      <th>car_life</th>\n",
       "      <th>transmission_man</th>\n",
       "      <th>maker_ford</th>\n",
       "      <th>maker_volkswagen</th>\n",
       "    </tr>\n",
       "  </thead>\n",
       "  <tbody>\n",
       "    <tr>\n",
       "      <th>1</th>\n",
       "      <td>5.0</td>\n",
       "      <td>138.0</td>\n",
       "      <td>5500.0</td>\n",
       "      <td>13.0</td>\n",
       "      <td>1</td>\n",
       "      <td>0</td>\n",
       "      <td>0</td>\n",
       "    </tr>\n",
       "    <tr>\n",
       "      <th>2</th>\n",
       "      <td>5.0</td>\n",
       "      <td>148.0</td>\n",
       "      <td>39649.0</td>\n",
       "      <td>1.0</td>\n",
       "      <td>0</td>\n",
       "      <td>0</td>\n",
       "      <td>0</td>\n",
       "    </tr>\n",
       "    <tr>\n",
       "      <th>4</th>\n",
       "      <td>4.0</td>\n",
       "      <td>103.0</td>\n",
       "      <td>16848.0</td>\n",
       "      <td>7.0</td>\n",
       "      <td>1</td>\n",
       "      <td>0</td>\n",
       "      <td>0</td>\n",
       "    </tr>\n",
       "    <tr>\n",
       "      <th>6</th>\n",
       "      <td>5.0</td>\n",
       "      <td>168.0</td>\n",
       "      <td>25632.0</td>\n",
       "      <td>5.0</td>\n",
       "      <td>0</td>\n",
       "      <td>0</td>\n",
       "      <td>0</td>\n",
       "    </tr>\n",
       "    <tr>\n",
       "      <th>7</th>\n",
       "      <td>5.0</td>\n",
       "      <td>141.0</td>\n",
       "      <td>1516.0</td>\n",
       "      <td>5.0</td>\n",
       "      <td>0</td>\n",
       "      <td>0</td>\n",
       "      <td>0</td>\n",
       "    </tr>\n",
       "  </tbody>\n",
       "</table>\n",
       "</div>"
      ],
      "text/plain": [
       "   seat_count  horse_power    price  car_life  transmission_man  maker_ford  \\\n",
       "1         5.0        138.0   5500.0      13.0                 1           0   \n",
       "2         5.0        148.0  39649.0       1.0                 0           0   \n",
       "4         4.0        103.0  16848.0       7.0                 1           0   \n",
       "6         5.0        168.0  25632.0       5.0                 0           0   \n",
       "7         5.0        141.0   1516.0       5.0                 0           0   \n",
       "\n",
       "   maker_volkswagen  \n",
       "1                 0  \n",
       "2                 0  \n",
       "4                 0  \n",
       "6                 0  \n",
       "7                 0  "
      ]
     },
     "execution_count": 57,
     "metadata": {},
     "output_type": "execute_result"
    }
   ],
   "source": [
    "sec_car.head()"
   ]
  },
  {
   "cell_type": "code",
   "execution_count": 58,
   "metadata": {},
   "outputs": [
    {
     "data": {
      "text/plain": [
       "(219913, 7)"
      ]
     },
     "execution_count": 58,
     "metadata": {},
     "output_type": "execute_result"
    }
   ],
   "source": [
    "sec_car.shape"
   ]
  },
  {
   "cell_type": "code",
   "execution_count": 59,
   "metadata": {},
   "outputs": [
    {
     "data": {
      "image/png": "[encoded data removed]",
      "text/plain": [
       "<Figure size 360x360 with 1 Axes>"
      ]
     },
     "metadata": {
      "needs_background": "light"
     },
     "output_type": "display_data"
    }
   ],
   "source": [
    "sns.relplot(x=\"horse_power\", y=\"price\", data=sec_car)\n",
    "#sns.relplot(x=\"transmission\", y=\"price\", data=sec_car)\n",
    "plt.show()"
   ]
  },
  {
   "cell_type": "code",
   "execution_count": 60,
   "metadata": {},
   "outputs": [
    {
     "data": {
      "image/png": "[encoded data removed]",
      "text/plain": [
       "<Figure size 360x360 with 1 Axes>"
      ]
     },
     "metadata": {
      "needs_background": "light"
     },
     "output_type": "display_data"
    }
   ],
   "source": [
    "sns.relplot(x=\"seat_count\", y=\"price\", data=sec_car)\n",
    "plt.show()"
   ]
  },
  {
   "cell_type": "code",
   "execution_count": 61,
   "metadata": {},
   "outputs": [
    {
     "data": {
      "text/plain": [
       "(219875, 7)"
      ]
     },
     "execution_count": 61,
     "metadata": {},
     "output_type": "execute_result"
    }
   ],
   "source": [
    "#filter car_life \n",
    "sec_car = sec_car.query('car_life > 0 ')\n",
    "sec_car.shape\n"
   ]
  },
  {
   "cell_type": "code",
   "execution_count": 62,
   "metadata": {},
   "outputs": [],
   "source": [
    "#As you see in the plot charges and age or charges and bmi are highly scattered so i will use log scale\n",
    "log_price = np.log(sec_car['price'])\n",
    "sec_car['price'] = log_price\n"
   ]
  },
  {
   "cell_type": "code",
   "execution_count": 63,
   "metadata": {},
   "outputs": [
    {
     "data": {
      "text/html": [
       "<div>\n",
       "<style scoped>\n",
       "    .dataframe tbody tr th:only-of-type {\n",
       "        vertical-align: middle;\n",
       "    }\n",
       "\n",
       "    .dataframe tbody tr th {\n",
       "        vertical-align: top;\n",
       "    }\n",
       "\n",
       "    .dataframe thead th {\n",
       "        text-align: right;\n",
       "    }\n",
       "</style>\n",
       "<table border=\"1\" class=\"dataframe\">\n",
       "  <thead>\n",
       "    <tr style=\"text-align: right;\">\n",
       "      <th></th>\n",
       "      <th>seat_count</th>\n",
       "      <th>horse_power</th>\n",
       "      <th>price</th>\n",
       "      <th>car_life</th>\n",
       "      <th>transmission_man</th>\n",
       "      <th>maker_ford</th>\n",
       "      <th>maker_volkswagen</th>\n",
       "    </tr>\n",
       "  </thead>\n",
       "  <tbody>\n",
       "    <tr>\n",
       "      <th>1</th>\n",
       "      <td>5.0</td>\n",
       "      <td>138.0</td>\n",
       "      <td>8.612503</td>\n",
       "      <td>13.0</td>\n",
       "      <td>1</td>\n",
       "      <td>0</td>\n",
       "      <td>0</td>\n",
       "    </tr>\n",
       "    <tr>\n",
       "      <th>2</th>\n",
       "      <td>5.0</td>\n",
       "      <td>148.0</td>\n",
       "      <td>10.587821</td>\n",
       "      <td>1.0</td>\n",
       "      <td>0</td>\n",
       "      <td>0</td>\n",
       "      <td>0</td>\n",
       "    </tr>\n",
       "    <tr>\n",
       "      <th>4</th>\n",
       "      <td>4.0</td>\n",
       "      <td>103.0</td>\n",
       "      <td>9.731987</td>\n",
       "      <td>7.0</td>\n",
       "      <td>1</td>\n",
       "      <td>0</td>\n",
       "      <td>0</td>\n",
       "    </tr>\n",
       "    <tr>\n",
       "      <th>6</th>\n",
       "      <td>5.0</td>\n",
       "      <td>168.0</td>\n",
       "      <td>10.151597</td>\n",
       "      <td>5.0</td>\n",
       "      <td>0</td>\n",
       "      <td>0</td>\n",
       "      <td>0</td>\n",
       "    </tr>\n",
       "    <tr>\n",
       "      <th>7</th>\n",
       "      <td>5.0</td>\n",
       "      <td>141.0</td>\n",
       "      <td>7.323831</td>\n",
       "      <td>5.0</td>\n",
       "      <td>0</td>\n",
       "      <td>0</td>\n",
       "      <td>0</td>\n",
       "    </tr>\n",
       "  </tbody>\n",
       "</table>\n",
       "</div>"
      ],
      "text/plain": [
       "   seat_count  horse_power      price  car_life  transmission_man  maker_ford  \\\n",
       "1         5.0        138.0   8.612503      13.0                 1           0   \n",
       "2         5.0        148.0  10.587821       1.0                 0           0   \n",
       "4         4.0        103.0   9.731987       7.0                 1           0   \n",
       "6         5.0        168.0  10.151597       5.0                 0           0   \n",
       "7         5.0        141.0   7.323831       5.0                 0           0   \n",
       "\n",
       "   maker_volkswagen  \n",
       "1                 0  \n",
       "2                 0  \n",
       "4                 0  \n",
       "6                 0  \n",
       "7                 0  "
      ]
     },
     "execution_count": 63,
     "metadata": {},
     "output_type": "execute_result"
    }
   ],
   "source": [
    "sec_car.head()"
   ]
  },
  {
   "cell_type": "code",
   "execution_count": 64,
   "metadata": {},
   "outputs": [
    {
     "data": {
      "text/plain": [
       "array([13.,  1.,  7.,  5.,  2.,  3., 15.,  6., 11.,  8., 12.,  9.,  4.,\n",
       "       18., 16., 17., 20., 14., 10., 19.])"
      ]
     },
     "execution_count": 64,
     "metadata": {},
     "output_type": "execute_result"
    }
   ],
   "source": [
    "sec_car['car_life'].unique()"
   ]
  },
  {
   "cell_type": "code",
   "execution_count": 65,
   "metadata": {},
   "outputs": [
    {
     "data": {
      "text/plain": [
       "(219875, 7)"
      ]
     },
     "execution_count": 65,
     "metadata": {},
     "output_type": "execute_result"
    }
   ],
   "source": [
    "sec_car.shape"
   ]
  },
  {
   "cell_type": "code",
   "execution_count": 66,
   "metadata": {
    "scrolled": true
   },
   "outputs": [
    {
     "data": {
      "text/html": [
       "<div>\n",
       "<style scoped>\n",
       "    .dataframe tbody tr th:only-of-type {\n",
       "        vertical-align: middle;\n",
       "    }\n",
       "\n",
       "    .dataframe tbody tr th {\n",
       "        vertical-align: top;\n",
       "    }\n",
       "\n",
       "    .dataframe thead th {\n",
       "        text-align: right;\n",
       "    }\n",
       "</style>\n",
       "<table border=\"1\" class=\"dataframe\">\n",
       "  <thead>\n",
       "    <tr style=\"text-align: right;\">\n",
       "      <th></th>\n",
       "      <th>seat_count</th>\n",
       "      <th>horse_power</th>\n",
       "      <th>price</th>\n",
       "      <th>car_life</th>\n",
       "      <th>transmission_man</th>\n",
       "      <th>maker_ford</th>\n",
       "      <th>maker_volkswagen</th>\n",
       "    </tr>\n",
       "  </thead>\n",
       "  <tbody>\n",
       "    <tr>\n",
       "      <th>count</th>\n",
       "      <td>219875.000000</td>\n",
       "      <td>219875.000000</td>\n",
       "      <td>219875.000000</td>\n",
       "      <td>219875.000000</td>\n",
       "      <td>219875.000000</td>\n",
       "      <td>219875.000000</td>\n",
       "      <td>219875.000000</td>\n",
       "    </tr>\n",
       "    <tr>\n",
       "      <th>mean</th>\n",
       "      <td>4.980721</td>\n",
       "      <td>119.702367</td>\n",
       "      <td>9.096488</td>\n",
       "      <td>7.580248</td>\n",
       "      <td>0.810820</td>\n",
       "      <td>0.365203</td>\n",
       "      <td>0.385751</td>\n",
       "    </tr>\n",
       "    <tr>\n",
       "      <th>std</th>\n",
       "      <td>0.763046</td>\n",
       "      <td>33.716449</td>\n",
       "      <td>1.039987</td>\n",
       "      <td>4.978607</td>\n",
       "      <td>0.391653</td>\n",
       "      <td>0.481488</td>\n",
       "      <td>0.486773</td>\n",
       "    </tr>\n",
       "    <tr>\n",
       "      <th>min</th>\n",
       "      <td>1.000000</td>\n",
       "      <td>43.000000</td>\n",
       "      <td>4.077537</td>\n",
       "      <td>1.000000</td>\n",
       "      <td>0.000000</td>\n",
       "      <td>0.000000</td>\n",
       "      <td>0.000000</td>\n",
       "    </tr>\n",
       "    <tr>\n",
       "      <th>25%</th>\n",
       "      <td>5.000000</td>\n",
       "      <td>99.000000</td>\n",
       "      <td>8.370316</td>\n",
       "      <td>3.000000</td>\n",
       "      <td>1.000000</td>\n",
       "      <td>0.000000</td>\n",
       "      <td>0.000000</td>\n",
       "    </tr>\n",
       "    <tr>\n",
       "      <th>50%</th>\n",
       "      <td>5.000000</td>\n",
       "      <td>114.000000</td>\n",
       "      <td>9.366318</td>\n",
       "      <td>6.000000</td>\n",
       "      <td>1.000000</td>\n",
       "      <td>0.000000</td>\n",
       "      <td>0.000000</td>\n",
       "    </tr>\n",
       "    <tr>\n",
       "      <th>75%</th>\n",
       "      <td>5.000000</td>\n",
       "      <td>141.000000</td>\n",
       "      <td>9.926374</td>\n",
       "      <td>11.000000</td>\n",
       "      <td>1.000000</td>\n",
       "      <td>1.000000</td>\n",
       "      <td>1.000000</td>\n",
       "    </tr>\n",
       "    <tr>\n",
       "      <th>max</th>\n",
       "      <td>15.000000</td>\n",
       "      <td>208.000000</td>\n",
       "      <td>10.759030</td>\n",
       "      <td>20.000000</td>\n",
       "      <td>1.000000</td>\n",
       "      <td>1.000000</td>\n",
       "      <td>1.000000</td>\n",
       "    </tr>\n",
       "  </tbody>\n",
       "</table>\n",
       "</div>"
      ],
      "text/plain": [
       "          seat_count    horse_power          price       car_life  \\\n",
       "count  219875.000000  219875.000000  219875.000000  219875.000000   \n",
       "mean        4.980721     119.702367       9.096488       7.580248   \n",
       "std         0.763046      33.716449       1.039987       4.978607   \n",
       "min         1.000000      43.000000       4.077537       1.000000   \n",
       "25%         5.000000      99.000000       8.370316       3.000000   \n",
       "50%         5.000000     114.000000       9.366318       6.000000   \n",
       "75%         5.000000     141.000000       9.926374      11.000000   \n",
       "max        15.000000     208.000000      10.759030      20.000000   \n",
       "\n",
       "       transmission_man     maker_ford  maker_volkswagen  \n",
       "count     219875.000000  219875.000000     219875.000000  \n",
       "mean           0.810820       0.365203          0.385751  \n",
       "std            0.391653       0.481488          0.486773  \n",
       "min            0.000000       0.000000          0.000000  \n",
       "25%            1.000000       0.000000          0.000000  \n",
       "50%            1.000000       0.000000          0.000000  \n",
       "75%            1.000000       1.000000          1.000000  \n",
       "max            1.000000       1.000000          1.000000  "
      ]
     },
     "execution_count": 66,
     "metadata": {},
     "output_type": "execute_result"
    }
   ],
   "source": [
    "sec_car.describe()"
   ]
  },
  {
   "cell_type": "code",
   "execution_count": 67,
   "metadata": {},
   "outputs": [],
   "source": [
    "x = sec_car.drop('price', axis = 1)\n",
    "y = sec_car.price"
   ]
  },
  {
   "cell_type": "code",
   "execution_count": 68,
   "metadata": {},
   "outputs": [],
   "source": [
    "from sklearn.linear_model import LinearRegression\n",
    "\n",
    "x = x.apply(pd.to_numeric, errors='coerce')\n",
    "y = y.apply(pd.to_numeric, errors='coerce')"
   ]
  },
  {
   "cell_type": "code",
   "execution_count": 69,
   "metadata": {},
   "outputs": [],
   "source": [
    "# Splitting the dataset into the Training set and Test set\n",
    "from sklearn.model_selection import train_test_split\n",
    "\n",
    "training_features, test_features, \\\n",
    "training_target, test_target, = train_test_split(x,y,\n",
    "                                               test_size = .2,\n",
    "                                               random_state=88)"
   ]
  },
  {
   "cell_type": "code",
   "execution_count": 70,
   "metadata": {},
   "outputs": [
    {
     "data": {
      "text/plain": [
       "-3.456173476523716e-06"
      ]
     },
     "execution_count": 70,
     "metadata": {},
     "output_type": "execute_result"
    }
   ],
   "source": [
    "from sklearn.dummy import DummyRegressor\n",
    "dr = DummyRegressor()\n",
    "dr.fit(training_features, training_target)\n",
    "dr.score(test_features,test_target)\n"
   ]
  },
  {
   "cell_type": "code",
   "execution_count": 71,
   "metadata": {},
   "outputs": [
    {
     "data": {
      "text/plain": [
       "LinearRegression()"
      ]
     },
     "execution_count": 71,
     "metadata": {},
     "output_type": "execute_result"
    }
   ],
   "source": [
    "# importing module\n",
    "from sklearn.linear_model import LinearRegression\n",
    "# creating an object of LinearRegression class\n",
    "LR = LinearRegression()\n",
    "# fitting the training data\n",
    "LR.fit(training_features,training_target)"
   ]
  },
  {
   "cell_type": "code",
   "execution_count": 72,
   "metadata": {},
   "outputs": [
    {
     "data": {
      "text/plain": [
       "(219875, 6)"
      ]
     },
     "execution_count": 72,
     "metadata": {},
     "output_type": "execute_result"
    }
   ],
   "source": [
    "x.shape"
   ]
  },
  {
   "cell_type": "code",
   "execution_count": 73,
   "metadata": {},
   "outputs": [
    {
     "data": {
      "text/plain": [
       "LinearRegression()"
      ]
     },
     "execution_count": 73,
     "metadata": {},
     "output_type": "execute_result"
    }
   ],
   "source": [
    "from sklearn.linear_model import LinearRegression\n",
    "MltRegressor = LinearRegression()  \n",
    "MltRegressor.fit(training_features, training_target)"
   ]
  },
  {
   "cell_type": "code",
   "execution_count": 74,
   "metadata": {},
   "outputs": [
    {
     "data": {
      "text/html": [
       "<div>\n",
       "<style scoped>\n",
       "    .dataframe tbody tr th:only-of-type {\n",
       "        vertical-align: middle;\n",
       "    }\n",
       "\n",
       "    .dataframe tbody tr th {\n",
       "        vertical-align: top;\n",
       "    }\n",
       "\n",
       "    .dataframe thead th {\n",
       "        text-align: right;\n",
       "    }\n",
       "</style>\n",
       "<table border=\"1\" class=\"dataframe\">\n",
       "  <thead>\n",
       "    <tr style=\"text-align: right;\">\n",
       "      <th></th>\n",
       "      <th>Coefficient</th>\n",
       "    </tr>\n",
       "  </thead>\n",
       "  <tbody>\n",
       "    <tr>\n",
       "      <th>seat_count</th>\n",
       "      <td>0.013188</td>\n",
       "    </tr>\n",
       "    <tr>\n",
       "      <th>horse_power</th>\n",
       "      <td>0.005120</td>\n",
       "    </tr>\n",
       "    <tr>\n",
       "      <th>car_life</th>\n",
       "      <td>-0.146200</td>\n",
       "    </tr>\n",
       "    <tr>\n",
       "      <th>transmission_man</th>\n",
       "      <td>-0.069562</td>\n",
       "    </tr>\n",
       "    <tr>\n",
       "      <th>maker_ford</th>\n",
       "      <td>-0.511816</td>\n",
       "    </tr>\n",
       "    <tr>\n",
       "      <th>maker_volkswagen</th>\n",
       "      <td>-0.280120</td>\n",
       "    </tr>\n",
       "  </tbody>\n",
       "</table>\n",
       "</div>"
      ],
      "text/plain": [
       "                  Coefficient\n",
       "seat_count           0.013188\n",
       "horse_power          0.005120\n",
       "car_life            -0.146200\n",
       "transmission_man    -0.069562\n",
       "maker_ford          -0.511816\n",
       "maker_volkswagen    -0.280120"
      ]
     },
     "execution_count": 74,
     "metadata": {},
     "output_type": "execute_result"
    }
   ],
   "source": [
    "coeff_df = pd.DataFrame(MltRegressor.coef_, training_features.columns, columns=['Coefficient'])  \n",
    "coeff_df"
   ]
  },
  {
   "cell_type": "code",
   "execution_count": 75,
   "metadata": {},
   "outputs": [],
   "source": [
    "y_pred = MltRegressor.predict(test_features)"
   ]
  },
  {
   "cell_type": "code",
   "execution_count": 76,
   "metadata": {},
   "outputs": [
    {
     "data": {
      "text/html": [
       "<div>\n",
       "<style scoped>\n",
       "    .dataframe tbody tr th:only-of-type {\n",
       "        vertical-align: middle;\n",
       "    }\n",
       "\n",
       "    .dataframe tbody tr th {\n",
       "        vertical-align: top;\n",
       "    }\n",
       "\n",
       "    .dataframe thead th {\n",
       "        text-align: right;\n",
       "    }\n",
       "</style>\n",
       "<table border=\"1\" class=\"dataframe\">\n",
       "  <thead>\n",
       "    <tr style=\"text-align: right;\">\n",
       "      <th></th>\n",
       "      <th>Actual</th>\n",
       "      <th>Predicted</th>\n",
       "      <th>Residual</th>\n",
       "    </tr>\n",
       "  </thead>\n",
       "  <tbody>\n",
       "    <tr>\n",
       "      <th>80959</th>\n",
       "      <td>10.285275</td>\n",
       "      <td>10.193914</td>\n",
       "      <td>0.091361</td>\n",
       "    </tr>\n",
       "    <tr>\n",
       "      <th>133215</th>\n",
       "      <td>8.057694</td>\n",
       "      <td>7.753612</td>\n",
       "      <td>0.304083</td>\n",
       "    </tr>\n",
       "    <tr>\n",
       "      <th>228608</th>\n",
       "      <td>8.317522</td>\n",
       "      <td>8.546793</td>\n",
       "      <td>-0.229271</td>\n",
       "    </tr>\n",
       "    <tr>\n",
       "      <th>253567</th>\n",
       "      <td>9.949942</td>\n",
       "      <td>9.732298</td>\n",
       "      <td>0.217644</td>\n",
       "    </tr>\n",
       "    <tr>\n",
       "      <th>121653</th>\n",
       "      <td>9.461721</td>\n",
       "      <td>9.305487</td>\n",
       "      <td>0.156235</td>\n",
       "    </tr>\n",
       "  </tbody>\n",
       "</table>\n",
       "</div>"
      ],
      "text/plain": [
       "           Actual  Predicted  Residual\n",
       "80959   10.285275  10.193914  0.091361\n",
       "133215   8.057694   7.753612  0.304083\n",
       "228608   8.317522   8.546793 -0.229271\n",
       "253567   9.949942   9.732298  0.217644\n",
       "121653   9.461721   9.305487  0.156235"
      ]
     },
     "execution_count": 76,
     "metadata": {},
     "output_type": "execute_result"
    }
   ],
   "source": [
    "df = pd.DataFrame({'Actual': test_target, 'Predicted': y_pred, \"Residual\": (test_target - y_pred)})\n",
    "\n",
    "df.head(5)\n"
   ]
  },
  {
   "cell_type": "code",
   "execution_count": 141,
   "metadata": {},
   "outputs": [],
   "source": [
    "# df.plot(kind='bar',figsize=(16,10))\n",
    "# plt.grid(which='major', linestyle='-', linewidth='0.5', color='green')\n",
    "# plt.grid(which='minor', linestyle=':', linewidth='0.5', color='black')\n",
    "# plt.show()"
   ]
  },
  {
   "cell_type": "code",
   "execution_count": 77,
   "metadata": {},
   "outputs": [],
   "source": [
    "import sklearn.metrics as metrics\n",
    "from sklearn.metrics import mean_absolute_error\n",
    "from sklearn.metrics import mean_squared_error"
   ]
  },
  {
   "cell_type": "code",
   "execution_count": 78,
   "metadata": {
    "scrolled": true
   },
   "outputs": [
    {
     "name": "stdout",
     "output_type": "stream",
     "text": [
      "Intercept                : 9.878336654442707\n",
      "Root Mean Squared Error  : 0.611775835437796\n",
      "Mean Absolute Error      : 0.3874904414896518\n",
      "Mean Squared Error       : 0.3742696728256133\n",
      "R^2 Value                : 0.6541614516459648\n"
     ]
    }
   ],
   "source": [
    "# Root Mean Squared Deviation\n",
    "from sklearn.metrics import r2_score\n",
    "rmsd = np.sqrt(mean_squared_error(test_target, y_pred))      \n",
    "r2_value = r2_score(test_target, y_pred)                     \n",
    "\n",
    "print(\"Intercept                :\", MltRegressor.intercept_)\n",
    "print(\"Root Mean Squared Error  :\", rmsd)\n",
    "print('Mean Absolute Error      :', metrics.mean_absolute_error(test_target, y_pred))  \n",
    "print('Mean Squared Error       :', metrics.mean_squared_error(test_target, y_pred))  \n",
    "print(\"R^2 Value                :\", r2_value)"
   ]
  },
  {
   "cell_type": "code",
   "execution_count": 144,
   "metadata": {},
   "outputs": [],
   "source": [
    "#check for multicolinearity"
   ]
  },
  {
   "cell_type": "code",
   "execution_count": 145,
   "metadata": {},
   "outputs": [
    {
     "data": {
      "text/plain": [
       "Text(0.5, 1.0, 'Multi-Collinearity of Price')"
      ]
     },
     "execution_count": 145,
     "metadata": {},
     "output_type": "execute_result"
    },
    {
     "data": {
      "image/png": "[encoded data removed]",
      "text/plain": [
       "<Figure size 720x432 with 2 Axes>"
      ]
     },
     "metadata": {
      "needs_background": "light"
     },
     "output_type": "display_data"
    }
   ],
   "source": [
    "# Storing subplots in fig and ax variables\n",
    "fig, ax = plt.subplots(figsize=(10,6))\n",
    "\n",
    "# Creating a seaborn heatmap with inputs df\n",
    "sns.heatmap(sec_car.corr(), center=0, cmap=\"Blues\")#annot=True\n",
    "\n",
    "# Setting the title \n",
    "ax.set_title(\"Multi-Collinearity of Price\")"
   ]
  },
  {
   "cell_type": "code",
   "execution_count": 79,
   "metadata": {},
   "outputs": [
    {
     "data": {
      "text/plain": [
       "Index(['seat_count', 'horse_power', 'price', 'car_life', 'transmission_man',\n",
       "       'maker_ford', 'maker_volkswagen'],\n",
       "      dtype='object')"
      ]
     },
     "execution_count": 79,
     "metadata": {},
     "output_type": "execute_result"
    }
   ],
   "source": [
    "# Printing all the column names for our reference\n",
    "sec_car.columns"
   ]
  },
  {
   "cell_type": "code",
   "execution_count": 80,
   "metadata": {},
   "outputs": [],
   "source": [
    "### Sandardization of data ###\n",
    "from sklearn.preprocessing import StandardScaler, MinMaxScaler\n",
    "# Choose either standardization or Normalization\n",
    "# On this data Min Max Normalization produced better results\n",
    "\n",
    "# Choose between standardization and MinMAx normalization\n",
    "#PredictorScaler=StandardScaler()\n",
    "PredictorScaler=MinMaxScaler()\n",
    "\n",
    "# Storing the fit object for later reference\n",
    "PredictorScalerFit=PredictorScaler.fit(x)\n",
    "\n",
    "# Generating the standardized values of X\n",
    "x=PredictorScalerFit.transform(x)\n",
    "\n",
    "# Split the data into training and testing set\n",
    "from sklearn.model_selection import train_test_split\n",
    "x_train, x_test, y_train, y_test = train_test_split(x, y, test_size=0.3, random_state=88)"
   ]
  },
  {
   "cell_type": "code",
   "execution_count": 81,
   "metadata": {},
   "outputs": [
    {
     "name": "stdout",
     "output_type": "stream",
     "text": [
      "(153912, 6)\n",
      "(153912,)\n",
      "(65963, 6)\n",
      "(65963,)\n"
     ]
    }
   ],
   "source": [
    "# Sanity check for the sampled data\n",
    "print(x_train.shape)\n",
    "print(y_train.shape)\n",
    "print(x_test.shape)\n",
    "print(y_test.shape)"
   ]
  },
  {
   "cell_type": "code",
   "execution_count": 82,
   "metadata": {},
   "outputs": [
    {
     "data": {
      "text/plain": [
       "7.323831     6423\n",
       "7.981050      214\n",
       "8.317522      207\n",
       "8.568836      184\n",
       "8.769507      173\n",
       "             ... \n",
       "8.573763        1\n",
       "9.815858        1\n",
       "10.114559       1\n",
       "8.994172        1\n",
       "9.695294        1\n",
       "Name: price, Length: 14085, dtype: int64"
      ]
     },
     "execution_count": 82,
     "metadata": {},
     "output_type": "execute_result"
    }
   ],
   "source": [
    "y_test.value_counts()"
   ]
  },
  {
   "cell_type": "code",
   "execution_count": 83,
   "metadata": {},
   "outputs": [
    {
     "name": "stdout",
     "output_type": "stream",
     "text": [
      "LinearRegression()\n",
      "R2 Value: 0.6603301755902945\n",
      "\n",
      "##### Model Validation and Accuracy Calculations ##########\n",
      "\n",
      "Accuracy values for 10-fold Cross Validation:\n",
      " [96.97307065 96.90139789 95.85276222 94.89074632 94.85257636 94.89730121\n",
      " 94.85352329 94.82692607 94.81942    94.74174589]\n",
      "\n",
      "Final Average Accuracy of the model: 95.36\n"
     ]
    }
   ],
   "source": [
    "# Multiple Linear Regression\n",
    "from sklearn.linear_model import LinearRegression\n",
    "RegModel = LinearRegression()\n",
    "\n",
    "# Printing all the parameters of Linear regression\n",
    "print(RegModel)\n",
    "\n",
    "# Creating the model on Training Data\n",
    "LREG=RegModel.fit(x_train,y_train)\n",
    "prediction=LREG.predict(x_test)\n",
    "\n",
    "# Taking the standardized values to original scale\n",
    "\n",
    "\n",
    "from sklearn import metrics\n",
    "# Measuring Goodness of fit in Training data\n",
    "print('R2 Value:',metrics.r2_score(y_train, LREG.predict(x_train)))\n",
    "\n",
    "###########################################################################\n",
    "print('\\n##### Model Validation and Accuracy Calculations ##########')\n",
    "\n",
    "# Printing some sample values of prediction\n",
    "# TestingDataResults=pd.DataFrame(data=x_test, columns=Predictors)\n",
    "# TestingDataResults[TargetVariable]=y_test\n",
    "# TestingDataResults[('Predicted'+TargetVariable)]=np.round(prediction)\n",
    "\n",
    "# Printing sample prediction values\n",
    "# print(TestingDataResults[[TargetVariable,'Predicted'+TargetVariable]].head())\n",
    "\n",
    "# # Calculating the error for each row\n",
    "# TestingDataResults['APE']=100 * ((abs(\n",
    "#   TestingDataResults['price']-TestingDataResults['Predictedprice']))/TestingDataResults['price'])\n",
    "\n",
    "# MAPE=np.mean(TestingDataResults['APE'])\n",
    "# MedianMAPE=np.median(TestingDataResults['APE'])\n",
    "\n",
    "# Accuracy =100 - MAPE\n",
    "# MedianAccuracy=100- MedianMAPE\n",
    "# print('Mean Accuracy on test data:', Accuracy) # Can be negative sometimes due to outlier\n",
    "# print('Median Accuracy on test data:', MedianAccuracy)\n",
    "\n",
    "\n",
    "# Defining a custom function to calculate accuracy\n",
    "# Make sure there are no zeros in the Target variable if you are using MAPE\n",
    "def Accuracy_Score(orig,pred):\n",
    "    MAPE = np.mean(100 * (np.abs(orig-pred)/orig))\n",
    "    #print('#'*70,'Accuracy:', 100-MAPE)\n",
    "    return(100-MAPE)\n",
    "\n",
    "# Custom Scoring MAPE calculation\n",
    "from sklearn.metrics import make_scorer\n",
    "custom_Scoring=make_scorer(Accuracy_Score, greater_is_better=True)\n",
    "\n",
    "# Importing cross validation function from sklearn\n",
    "from sklearn.model_selection import cross_val_score\n",
    "\n",
    "# Running 10-Fold Cross validation on a given algorithm\n",
    "# Passing full data X and y because the K-fold will split the data and automatically choose train/test\n",
    "Accuracy_Values=cross_val_score(RegModel, x , y, cv=10, scoring=custom_Scoring)\n",
    "print('\\nAccuracy values for 10-fold Cross Validation:\\n',Accuracy_Values)\n",
    "print('\\nFinal Average Accuracy of the model:', round(Accuracy_Values.mean(),2))"
   ]
  },
  {
   "cell_type": "code",
   "execution_count": 157,
   "metadata": {},
   "outputs": [],
   "source": [
    "#checking feature importance with decision tree"
   ]
  },
  {
   "cell_type": "code",
   "execution_count": 84,
   "metadata": {},
   "outputs": [
    {
     "name": "stdout",
     "output_type": "stream",
     "text": [
      "Wall time: 356 ms\n"
     ]
    }
   ],
   "source": [
    "%%time\n",
    "\n",
    "from sklearn.tree import DecisionTreeRegressor\n",
    "DecisionTreeModel = DecisionTreeRegressor(random_state = 88)\n",
    "\n",
    "DecisionTreeModel.fit(training_features, training_target) \n",
    "#DecisionTreeModel\n",
    "\n",
    "DecisionTreePred = DecisionTreeModel.predict(test_features) # I already Know y_test"
   ]
  },
  {
   "cell_type": "code",
   "execution_count": 85,
   "metadata": {},
   "outputs": [
    {
     "name": "stdout",
     "output_type": "stream",
     "text": [
      "Wall time: 3.12 s\n"
     ]
    }
   ],
   "source": [
    "%%time\n",
    "\n",
    "import xgboost as xgb\n",
    "\n",
    "XGBregressor = xgb.XGBRegressor( n_estimators = 100, reg_lambda = 1, gamma = 0, max_depth = 3)\n",
    "\n",
    "XGBregressor.fit(training_features, training_target) \n",
    "#DecisionTreeModel\n",
    "\n",
    "XGB_pred = XGBregressor.predict(test_features) # I already Know y_test"
   ]
  },
  {
   "cell_type": "code",
   "execution_count": 86,
   "metadata": {},
   "outputs": [
    {
     "name": "stdout",
     "output_type": "stream",
     "text": [
      "Feature importances:\n",
      "                  importance\n",
      "seat_count          0.016285\n",
      "horse_power         0.056137\n",
      "car_life            0.649816\n",
      "transmission_man    0.046513\n",
      "maker_ford          0.174870\n",
      "maker_volkswagen    0.056379\n"
     ]
    }
   ],
   "source": [
    "XGBregressor.fit(training_features, training_target)\n",
    "### Verification:\n",
    "results = pd.DataFrame(index= training_features.columns, data={'importance':XGBregressor.feature_importances_})\n",
    "print('Feature importances:\\n{}'.format(results))"
   ]
  },
  {
   "cell_type": "code",
   "execution_count": 87,
   "metadata": {},
   "outputs": [],
   "source": [
    "import sklearn.model_selection "
   ]
  },
  {
   "cell_type": "code",
   "execution_count": 88,
   "metadata": {},
   "outputs": [],
   "source": [
    "import sklearn.model_selection as sm"
   ]
  },
  {
   "cell_type": "code",
   "execution_count": 94,
   "metadata": {
    "scrolled": true
   },
   "outputs": [
    {
     "name": "stdout",
     "output_type": "stream",
     "text": [
      "                            OLS Regression Results                            \n",
      "==============================================================================\n",
      "Dep. Variable:                  price   R-squared:                       0.659\n",
      "Model:                            OLS   Adj. R-squared:                  0.659\n",
      "Method:                 Least Squares   F-statistic:                 7.074e+04\n",
      "Date:                Tue, 21 Dec 2021   Prob (F-statistic):               0.00\n",
      "Time:                        00:53:13   Log-Likelihood:            -2.0242e+05\n",
      "No. Observations:              219875   AIC:                         4.048e+05\n",
      "Df Residuals:                  219868   BIC:                         4.049e+05\n",
      "Df Model:                           6                                         \n",
      "Covariance Type:            nonrobust                                         \n",
      "====================================================================================\n",
      "                       coef    std err          t      P>|t|      [0.025      0.975]\n",
      "------------------------------------------------------------------------------------\n",
      "const                9.8812      0.011    888.619      0.000       9.859       9.903\n",
      "seat_count           0.0138      0.002      7.906      0.000       0.010       0.017\n",
      "horse_power          0.0051   4.46e-05    114.025      0.000       0.005       0.005\n",
      "car_life            -0.1461      0.000   -542.120      0.000      -0.147      -0.146\n",
      "transmission_man    -0.0721      0.004    -19.884      0.000      -0.079      -0.065\n",
      "maker_ford          -0.5133      0.004   -140.501      0.000      -0.521      -0.506\n",
      "maker_volkswagen    -0.2816      0.004    -79.481      0.000      -0.289      -0.275\n",
      "==============================================================================\n",
      "Omnibus:                    96128.915   Durbin-Watson:                   1.998\n",
      "Prob(Omnibus):                  0.000   Jarque-Bera (JB):           491118.158\n",
      "Skew:                          -2.105   Prob(JB):                         0.00\n",
      "Kurtosis:                       8.991   Cond. No.                     1.09e+03\n",
      "==============================================================================\n",
      "\n",
      "Notes:\n",
      "[1] Standard Errors assume that the covariance matrix of the errors is correctly specified.\n",
      "[2] The condition number is large, 1.09e+03. This might indicate that there are\n",
      "strong multicollinearity or other numerical problems.\n",
      "26109.03423821861\n",
      "0.3691102801975167\n"
     ]
    }
   ],
   "source": [
    "import statsmodels.api as sm\n",
    "import pandas as pd\n",
    "x = sec_car.drop('price', axis = 1)\n",
    "y = sec_car.price\n",
    "\n",
    "# adding the constant term\n",
    "x = sm.add_constant(x)\n",
    "\n",
    "# performing the regression\n",
    "# and fitting the model\n",
    "OLSresults = sm.OLS(y, x).fit()\n",
    "\n",
    "# printing the summary table\n",
    "print(OLSresults.summary())\n",
    "print(OLSresults.mse_model)\n",
    "print(OLSresults.mse_resid)\n",
    "\n",
    "\n"
   ]
  },
  {
   "cell_type": "code",
   "execution_count": 93,
   "metadata": {},
   "outputs": [
    {
     "name": "stdout",
     "output_type": "stream",
     "text": [
      "0.6587282244745705\n"
     ]
    }
   ],
   "source": [
    "import statsmodels.api as sm\n",
    "import pandas as pd\n",
    "x = sm.add_constant(x)\n",
    "model = sm.OLS(y, x).fit()\n",
    "\n",
    "print(model.rsquared_adj)\n"
   ]
  },
  {
   "cell_type": "code",
   "execution_count": null,
   "metadata": {},
   "outputs": [],
   "source": [
    "sec_car.plot(kind='bar',figsize=(16,10))\n",
    "plt.grid(which='major', linestyle='-', linewidth='0.5', color='green')\n",
    "plt.grid(which='minor', linestyle=':', linewidth='0.5', color='black')\n",
    "plt.show()"
   ]
  },
  {
   "cell_type": "code",
   "execution_count": 169,
   "metadata": {},
   "outputs": [],
   "source": [
    "# #Other Ml Models\n",
    "# · Random Forest\n",
    "# · Ridge Regression\n",
    "# · Lasso\n",
    "# · K-Nearest Neighbor\n",
    "# · XGBoost\n",
    "# . ANN"
   ]
  },
  {
   "cell_type": "code",
   "execution_count": 94,
   "metadata": {},
   "outputs": [
    {
     "data": {
      "text/plain": [
       "0.6344318727023419"
      ]
     },
     "execution_count": 94,
     "metadata": {},
     "output_type": "execute_result"
    }
   ],
   "source": [
    "from sklearn.neighbors import (KNeighborsRegressor,)\n",
    "knr = KNeighborsRegressor()\n",
    "knr.fit(training_features, training_target)\n",
    "KNeighborsRegressor(algorithm='auto',leaf_size=30, metric='minkowski',metric_params=None, n_jobs=1, n_neighbors=5,\n",
    " p=2, weights='uniform')\n",
    "knr.score(test_features, test_target)"
   ]
  },
  {
   "cell_type": "code",
   "execution_count": 96,
   "metadata": {},
   "outputs": [
    {
     "name": "stdout",
     "output_type": "stream",
     "text": [
      "Root Mean Squared Error  : 0.6082587873573911\n",
      "Mean Absolute Error      : 0.38592493054261856\n",
      "Mean Squared Error       : 0.36997875239748396\n",
      "R^2 Value                : 0.6617032298699966\n"
     ]
    }
   ],
   "source": [
    "from sklearn.metrics import r2_score\n",
    "rmsd = np.sqrt(mean_squared_error(test_target, y_pred))      \n",
    "r2_value = r2_score(test_target, y_pred)                     \n",
    "\n",
    "\n",
    "print(\"Root Mean Squared Error  :\", rmsd)\n",
    "print('Mean Absolute Error      :', metrics.mean_absolute_error(test_target, y_pred))  \n",
    "print('Mean Squared Error       :', metrics.mean_squared_error(test_target, y_pred))  \n",
    "print(\"R^2 Value                :\", r2_value)"
   ]
  },
  {
   "cell_type": "code",
   "execution_count": 162,
   "metadata": {},
   "outputs": [
    {
     "data": {
      "text/plain": [
       "0.6851779864071861"
      ]
     },
     "execution_count": 162,
     "metadata": {},
     "output_type": "execute_result"
    }
   ],
   "source": [
    "from sklearn.ensemble import (RandomForestRegressor,)\n",
    "rfr = RandomForestRegressor(random_state=88, n_estimators=100)\n",
    "rfr.fit(training_features, training_target)\n",
    "rfr.score(test_features, test_target)"
   ]
  },
  {
   "cell_type": "code",
   "execution_count": 164,
   "metadata": {},
   "outputs": [
    {
     "name": "stdout",
     "output_type": "stream",
     "text": [
      "Root Mean Squared Error: 0.6082587873573911\n",
      "Mean Absolute Error: 0.38592493054261856\n",
      "Mean Squared Error: 0.36997875239748396\n",
      "R^2 Value                : 0.6617032298699966\n"
     ]
    }
   ],
   "source": [
    "# Evaluating the Algorithm\n",
    "from sklearn import metrics\n",
    "print('Root Mean Squared Error:', np.sqrt(metrics.mean_squared_error(test_target, y_pred)))\n",
    "print('Mean Absolute Error:', metrics.mean_absolute_error(test_target, y_pred))  \n",
    "print('Mean Squared Error:', metrics.mean_squared_error(test_target, y_pred))  \n",
    "print(\"R^2 Value                :\", r2_value)"
   ]
  },
  {
   "cell_type": "code",
   "execution_count": 68,
   "metadata": {},
   "outputs": [],
   "source": [
    "import xgboost as xgb\n",
    "from xgboost import XGBRegressor\n",
    "xgb_regressor = xgb.XGBRegressor()\n",
    "\n",
    "import xgboost as xgb\n",
    "from sklearn.model_selection import train_test_split\n",
    "from sklearn.model_selection import cross_val_score, KFold\n",
    "from sklearn.metrics import mean_squared_error\n",
    "import matplotlib.pyplot as plt \n"
   ]
  },
  {
   "cell_type": "code",
   "execution_count": 70,
   "metadata": {},
   "outputs": [
    {
     "ename": "SyntaxError",
     "evalue": "unmatched ')' (<ipython-input-70-8c8af1d3472b>, line 5)",
     "output_type": "error",
     "traceback": [
      "\u001b[1;36m  File \u001b[1;32m\"<ipython-input-70-8c8af1d3472b>\"\u001b[1;36m, line \u001b[1;32m5\u001b[0m\n\u001b[1;33m    es, test_target)\u001b[0m\n\u001b[1;37m                   ^\u001b[0m\n\u001b[1;31mSyntaxError\u001b[0m\u001b[1;31m:\u001b[0m unmatched ')'\n"
     ]
    }
   ],
   "source": [
    "#!pip install lightgbm\n",
    "xgr = xgb.XGBRegressor(random_state=88)\n",
    "xgr.fit(training_features, training_target)\n",
    "\n",
    "es, test_target)\n",
    "xgr.predict(x.iloc[[0]])\n"
   ]
  },
  {
   "cell_type": "code",
   "execution_count": 110,
   "metadata": {},
   "outputs": [
    {
     "data": {
      "text/plain": [
       "<AxesSubplot:title={'center':'Mlt Regressor Model Coefficients'}>"
      ]
     },
     "execution_count": 110,
     "metadata": {},
     "output_type": "execute_result"
    },
    {
     "data": {
      "image/png": "[encoded data removed]",
      "text/plain": [
       "<Figure size 360x360 with 1 Axes>"
      ]
     },
     "metadata": {
      "needs_background": "light"
     },
     "output_type": "display_data"
    }
   ],
   "source": [
    "#Let us take a look at the coefficients of feature in our above regression model.\n",
    "\n",
    "# checking the magnitude of coefficients\n",
    "\n",
    "from pandas import Series, DataFrame\n",
    "\n",
    "predictors = test_features.columns\n",
    "\n",
    "coef = Series(MltRegressor.coef_,predictors).sort_values()\n",
    "\n",
    "coef.plot(kind='bar', title='Mlt Regressor Model Coefficients')"
   ]
  },
  {
   "cell_type": "code",
   "execution_count": 115,
   "metadata": {},
   "outputs": [
    {
     "name": "stdout",
     "output_type": "stream",
     "text": [
      "0.6387069688988337\n"
     ]
    }
   ],
   "source": [
    "from sklearn.model_selection import KFold\n",
    "from sklearn.model_selection import cross_val_score\n",
    "from sklearn.linear_model import Ridge\n",
    "\n",
    "kfold = KFold(n_splits=10, random_state=88)\n",
    "Rmodel = LinearRegression()\n",
    "scoring = 'r2'\n",
    "mltregr2 = cross_val_score(Rmodel, x, y, cv=kfold, scoring=scoring)\n",
    "print(mltregr2.mean())"
   ]
  },
  {
   "cell_type": "code",
   "execution_count": 116,
   "metadata": {},
   "outputs": [
    {
     "name": "stdout",
     "output_type": "stream",
     "text": [
      "Intercept                : 9.865912530373153\n",
      "Root Mean Squared Error  : 0.6082587873573911\n",
      "Mean Absolute Error      : 0.38592493054261856\n",
      "Mean Squared Error       : 0.36997875239748396\n",
      "R^2 Value                : 0.6617032298699966\n"
     ]
    }
   ],
   "source": [
    "from sklearn.metrics import r2_score\n",
    "rmsd = np.sqrt(mean_squared_error(test_target, y_pred))      \n",
    "r2_value = r2_score(test_target, y_pred)                     \n",
    "\n",
    "print(\"Intercept                :\", MltRegressor.intercept_)\n",
    "print(\"Root Mean Squared Error  :\", rmsd)\n",
    "print('Mean Absolute Error      :', metrics.mean_absolute_error(test_target, y_pred))  \n",
    "print('Mean Squared Error       :', metrics.mean_squared_error(test_target, y_pred))  \n",
    "print(\"R^2 Value                :\", r2_value)"
   ]
  },
  {
   "cell_type": "code",
   "execution_count": 117,
   "metadata": {},
   "outputs": [
    {
     "name": "stdout",
     "output_type": "stream",
     "text": [
      "0.6387069835018391\n"
     ]
    }
   ],
   "source": [
    "# Ridge Regression\n",
    "\n",
    "# ‘explained_variance’ -- > metrics.explained_variance_score\n",
    "# ‘max_error’ -- > metrics.max_error\n",
    "# ‘neg_mean_absolute_error’ -- > metrics.mean_absolute_error\n",
    "# ‘neg_mean_squared_error’ -- > metrics.mean_squared_error\n",
    "# ‘neg_root_mean_squared_error’ -- > metrics.mean_squared_error\n",
    "# ‘neg_mean_squared_log_error’ -- > metrics.mean_squared_log_error\n",
    "# ‘neg_median_absolute_error’ -- > metrics.median_absolute_error\n",
    "# ‘r2’ -- > metrics.r2_score\n",
    "# ‘neg_mean_poisson_deviance’ -- > metrics.mean_poisson_deviance\n",
    "# ‘neg_mean_gamma_deviance’ -- > metrics.mean_gamma_deviance\n",
    "\n",
    "\n",
    "from sklearn.model_selection import KFold\n",
    "from sklearn.model_selection import cross_val_score\n",
    "from sklearn.linear_model import Ridge\n",
    "\n",
    "kfold = KFold(n_splits=10, random_state=88)\n",
    "Rmodel = Ridge()\n",
    "scoring = 'r2'\n",
    "ridger2 = cross_val_score(Rmodel, x, y, cv=kfold, scoring=scoring)\n",
    "print(ridger2.mean())"
   ]
  },
  {
   "cell_type": "code",
   "execution_count": 118,
   "metadata": {},
   "outputs": [
    {
     "name": "stdout",
     "output_type": "stream",
     "text": [
      " Multiliear R^2 Value           : 0.6387069688988337\n",
      " Ridge (L2) R^2 Value           : 0.6387069835018391\n"
     ]
    }
   ],
   "source": [
    "print(\" Multiliear R^2 Value           :\", mltregr2.mean())\n",
    "print(\" Ridge (L2) R^2 Value           :\", ridger2.mean())"
   ]
  },
  {
   "cell_type": "code",
   "execution_count": 120,
   "metadata": {},
   "outputs": [
    {
     "name": "stdout",
     "output_type": "stream",
     "text": [
      "0.5504797804836234\n"
     ]
    }
   ],
   "source": [
    "# Lasso Regression\n",
    "\n",
    "from sklearn.model_selection import KFold\n",
    "from sklearn.model_selection import cross_val_score\n",
    "from sklearn.linear_model import Lasso\n",
    "\n",
    "kfold = KFold(n_splits=10, random_state=88)\n",
    "Lmodel = Lasso()\n",
    "scoring = 'r2'\n",
    "lassor2 = cross_val_score(Lmodel, x, y, cv=kfold, scoring=scoring)\n",
    "print(lassor2.mean())"
   ]
  },
  {
   "cell_type": "code",
   "execution_count": 132,
   "metadata": {},
   "outputs": [
    {
     "name": "stdout",
     "output_type": "stream",
     "text": [
      "0.6105910597739681\n",
      "0.6595161766645272\n",
      "0.614522405015188\n",
      "0.6555003897333503\n"
     ]
    }
   ],
   "source": [
    "model_lasso = Lasso(alpha=0.01)\n",
    "model_lasso.fit(x_train, y_train) \n",
    "pred_train_lasso= model_lasso.predict(x_train)\n",
    "print(np.sqrt(mean_squared_error(y_train,pred_train_lasso)))\n",
    "print(r2_score(y_train, pred_train_lasso))\n",
    "pred_test_lasso= model_lasso.predict(x_test)\n",
    "print(np.sqrt(mean_squared_error(y_test,pred_test_lasso))) \n",
    "print(r2_score(y_test, pred_test_lasso))\n",
    "\n",
    "\n"
   ]
  },
  {
   "cell_type": "code",
   "execution_count": 121,
   "metadata": {},
   "outputs": [
    {
     "name": "stdout",
     "output_type": "stream",
     "text": [
      " Multiliear R^2 Value           : 0.6387069688988337\n",
      " Ridge (L2) R^2 Value           : 0.6387069835018391\n",
      " LASSO (L1) R^2 Value           : 0.5504797804836234\n"
     ]
    }
   ],
   "source": [
    "print(\" Multiliear R^2 Value           :\", mltregr2.mean())\n",
    "print(\" Ridge (L2) R^2 Value           :\", ridger2.mean())\n",
    "print(\" LASSO (L1) R^2 Value           :\", lassor2.mean())"
   ]
  },
  {
   "cell_type": "code",
   "execution_count": 133,
   "metadata": {},
   "outputs": [
    {
     "name": "stdout",
     "output_type": "stream",
     "text": [
      "0.5788489605783931\n"
     ]
    }
   ],
   "source": [
    "# ElasticNet Regression\n",
    "from sklearn.model_selection import KFold\n",
    "from sklearn.model_selection import cross_val_score\n",
    "from sklearn.linear_model import ElasticNet\n",
    "kfold = KFold(n_splits=10, random_state=88)\n",
    "Emodel = ElasticNet()\n",
    "scoring = 'r2'\n",
    "elasticn2 = cross_val_score(Emodel, x, y, cv=kfold, scoring=scoring)\n",
    "print(elasticn2.mean())"
   ]
  },
  {
   "cell_type": "code",
   "execution_count": 135,
   "metadata": {},
   "outputs": [
    {
     "name": "stdout",
     "output_type": "stream",
     "text": [
      "0.6124399018287104\n",
      "0.6574511157652128\n",
      "0.6165712415962291\n",
      "0.6531994157855925\n"
     ]
    }
   ],
   "source": [
    "#Elastic Net\n",
    "model_enet = ElasticNet(alpha = 0.01)\n",
    "model_enet.fit(x_train, y_train) \n",
    "pred_train_enet= model_enet.predict(x_train)\n",
    "print(np.sqrt(mean_squared_error(y_train,pred_train_enet)))\n",
    "print(r2_score(y_train, pred_train_enet))\n",
    "\n",
    "pred_test_enet= model_enet.predict(x_test)\n",
    "print(np.sqrt(mean_squared_error(y_test,pred_test_enet)))\n",
    "print(r2_score(y_test, pred_test_enet))"
   ]
  },
  {
   "cell_type": "code",
   "execution_count": 201,
   "metadata": {},
   "outputs": [
    {
     "name": "stdout",
     "output_type": "stream",
     "text": [
      " Multilinear R^2 Value           : 0.6358525989088205\n",
      " Ridge (L2) R^2 Value           : 0.6358526003661575\n",
      " LASSO (L1) R^2 Value           : 0.5471950477529719\n",
      " ElasticNet R^2 Value           : 0.5756769926469243\n"
     ]
    }
   ],
   "source": [
    "print(\" Multilinear R^2 Value           :\", mltregr2.mean())\n",
    "print(\" Ridge (L2) R^2 Value           :\", ridger2.mean())\n",
    "print(\" LASSO (L1) R^2 Value           :\", lassor2.mean())\n",
    "print(\" ElasticNet R^2 Value           :\", elasticn2.mean())"
   ]
  },
  {
   "cell_type": "code",
   "execution_count": 86,
   "metadata": {},
   "outputs": [],
   "source": [
    "# Fitting Decision Tree Regression to the dataset\n",
    "from sklearn.tree import DecisionTreeRegressor"
   ]
  },
  {
   "cell_type": "code",
   "execution_count": 87,
   "metadata": {},
   "outputs": [],
   "source": [
    "#Build the Model\n",
    "DTregressor = DecisionTreeRegressor(random_state = 88)"
   ]
  },
  {
   "cell_type": "code",
   "execution_count": 88,
   "metadata": {},
   "outputs": [
    {
     "data": {
      "text/plain": [
       "DecisionTreeRegressor(random_state=88)"
      ]
     },
     "execution_count": 88,
     "metadata": {},
     "output_type": "execute_result"
    }
   ],
   "source": [
    "#Fit the Model to the Training \n",
    "DTregressor.fit(training_features, training_target)"
   ]
  },
  {
   "cell_type": "code",
   "execution_count": 89,
   "metadata": {},
   "outputs": [],
   "source": [
    "# Predicting a new result\n",
    "DT_pred = DTregressor.predict(test_features)"
   ]
  },
  {
   "cell_type": "code",
   "execution_count": 90,
   "metadata": {},
   "outputs": [
    {
     "data": {
      "text/html": [
       "<div>\n",
       "<style scoped>\n",
       "    .dataframe tbody tr th:only-of-type {\n",
       "        vertical-align: middle;\n",
       "    }\n",
       "\n",
       "    .dataframe tbody tr th {\n",
       "        vertical-align: top;\n",
       "    }\n",
       "\n",
       "    .dataframe thead th {\n",
       "        text-align: right;\n",
       "    }\n",
       "</style>\n",
       "<table border=\"1\" class=\"dataframe\">\n",
       "  <thead>\n",
       "    <tr style=\"text-align: right;\">\n",
       "      <th></th>\n",
       "      <th>Actual</th>\n",
       "      <th>Predicted</th>\n",
       "    </tr>\n",
       "  </thead>\n",
       "  <tbody>\n",
       "    <tr>\n",
       "      <th>80959</th>\n",
       "      <td>10.285275</td>\n",
       "      <td>10.184572</td>\n",
       "    </tr>\n",
       "    <tr>\n",
       "      <th>133215</th>\n",
       "      <td>8.057694</td>\n",
       "      <td>7.555971</td>\n",
       "    </tr>\n",
       "    <tr>\n",
       "      <th>228608</th>\n",
       "      <td>8.317522</td>\n",
       "      <td>8.362485</td>\n",
       "    </tr>\n",
       "    <tr>\n",
       "      <th>253567</th>\n",
       "      <td>9.949942</td>\n",
       "      <td>9.744110</td>\n",
       "    </tr>\n",
       "    <tr>\n",
       "      <th>121653</th>\n",
       "      <td>9.461721</td>\n",
       "      <td>9.246935</td>\n",
       "    </tr>\n",
       "  </tbody>\n",
       "</table>\n",
       "</div>"
      ],
      "text/plain": [
       "           Actual  Predicted\n",
       "80959   10.285275  10.184572\n",
       "133215   8.057694   7.555971\n",
       "228608   8.317522   8.362485\n",
       "253567   9.949942   9.744110\n",
       "121653   9.461721   9.246935"
      ]
     },
     "execution_count": 90,
     "metadata": {},
     "output_type": "execute_result"
    }
   ],
   "source": [
    "df = pd.DataFrame({'Actual': test_target, 'Predicted': DT_pred})  \n",
    "df.head()"
   ]
  },
  {
   "cell_type": "code",
   "execution_count": 91,
   "metadata": {},
   "outputs": [
    {
     "data": {
      "text/html": [
       "<div>\n",
       "<style scoped>\n",
       "    .dataframe tbody tr th:only-of-type {\n",
       "        vertical-align: middle;\n",
       "    }\n",
       "\n",
       "    .dataframe tbody tr th {\n",
       "        vertical-align: top;\n",
       "    }\n",
       "\n",
       "    .dataframe thead th {\n",
       "        text-align: right;\n",
       "    }\n",
       "</style>\n",
       "<table border=\"1\" class=\"dataframe\">\n",
       "  <thead>\n",
       "    <tr style=\"text-align: right;\">\n",
       "      <th></th>\n",
       "      <th>Actual</th>\n",
       "      <th>Predicted</th>\n",
       "    </tr>\n",
       "  </thead>\n",
       "  <tbody>\n",
       "    <tr>\n",
       "      <th>80959</th>\n",
       "      <td>10.285275</td>\n",
       "      <td>10.193914</td>\n",
       "    </tr>\n",
       "    <tr>\n",
       "      <th>133215</th>\n",
       "      <td>8.057694</td>\n",
       "      <td>7.753612</td>\n",
       "    </tr>\n",
       "    <tr>\n",
       "      <th>228608</th>\n",
       "      <td>8.317522</td>\n",
       "      <td>8.546793</td>\n",
       "    </tr>\n",
       "    <tr>\n",
       "      <th>253567</th>\n",
       "      <td>9.949942</td>\n",
       "      <td>9.732298</td>\n",
       "    </tr>\n",
       "    <tr>\n",
       "      <th>121653</th>\n",
       "      <td>9.461721</td>\n",
       "      <td>9.305487</td>\n",
       "    </tr>\n",
       "  </tbody>\n",
       "</table>\n",
       "</div>"
      ],
      "text/plain": [
       "           Actual  Predicted\n",
       "80959   10.285275  10.193914\n",
       "133215   8.057694   7.753612\n",
       "228608   8.317522   8.546793\n",
       "253567   9.949942   9.732298\n",
       "121653   9.461721   9.305487"
      ]
     },
     "execution_count": 91,
     "metadata": {},
     "output_type": "execute_result"
    }
   ],
   "source": [
    "df = pd.DataFrame({'Actual': test_target, 'Predicted': y_pred})\n",
    "df1 = df.head(25)\n",
    "df1.head(5)"
   ]
  },
  {
   "cell_type": "code",
   "execution_count": 92,
   "metadata": {},
   "outputs": [
    {
     "name": "stdout",
     "output_type": "stream",
     "text": [
      "Mean Absolute Error:       0.3690620839915874\n",
      "Mean Squared Error:        0.34964807386281255\n",
      "Root Mean Squared Error:   0.591310471632976\n"
     ]
    }
   ],
   "source": [
    "from sklearn import metrics  \n",
    "print('Mean Absolute Error:      ', metrics.mean_absolute_error(test_target, DT_pred))  \n",
    "print('Mean Squared Error:       ', metrics.mean_squared_error(test_target, DT_pred))  \n",
    "print('Root Mean Squared Error:  ', np.sqrt(metrics.mean_squared_error(test_target, DT_pred)))  "
   ]
  },
  {
   "cell_type": "code",
   "execution_count": 93,
   "metadata": {},
   "outputs": [
    {
     "name": "stdout",
     "output_type": "stream",
     "text": [
      "The R² score of DT :      0.6769126886862626\n",
      "The R² score of MLR:      0.6541614516459648\n"
     ]
    }
   ],
   "source": [
    "Scoredt = DTregressor.score(test_features, test_target)\n",
    "print(\"The R² score of DT :     \", Scoredt)\n",
    "Score = MltRegressor.score(test_features, test_target)\n",
    "print(\"The R² score of MLR:     \", Score)"
   ]
  },
  {
   "cell_type": "code",
   "execution_count": 94,
   "metadata": {},
   "outputs": [
    {
     "data": {
      "text/plain": [
       "DecisionTreeRegressor(random_state=88)"
      ]
     },
     "execution_count": 94,
     "metadata": {},
     "output_type": "execute_result"
    }
   ],
   "source": [
    "#Fit the Model to the Training \n",
    "DTregressor.fit(training_features, training_target)"
   ]
  },
  {
   "cell_type": "code",
   "execution_count": 144,
   "metadata": {},
   "outputs": [],
   "source": [
    "import sklearn\n",
    "# importing libraries for polynomial transform\n",
    "from sklearn.preprocessing import PolynomialFeatures"
   ]
  },
  {
   "cell_type": "code",
   "execution_count": 97,
   "metadata": {},
   "outputs": [],
   "source": [
    "import matplotlib.pyplot as plt\n",
    "from sklearn.tree import DecisionTreeClassifier\n",
    "from sklearn.ensemble import RandomForestClassifier\n",
    "from sklearn.model_selection import train_test_split\n",
    "import pandas as pd\n",
    "import numpy as np\n",
    "from sklearn import tree"
   ]
  },
  {
   "cell_type": "code",
   "execution_count": 225,
   "metadata": {},
   "outputs": [],
   "source": [
    "#from sklearn.svm import LinearSVR\n",
    "# from sklearn.svm import SVR"
   ]
  },
  {
   "cell_type": "code",
   "execution_count": 71,
   "metadata": {},
   "outputs": [],
   "source": [
    "from sklearn.svm import LinearSVR\n",
    "from sklearn.datasets import load_boston\n",
    "from sklearn.datasets import make_regression\n",
    "from sklearn.metrics import mean_squared_error\n",
    "from sklearn.model_selection import train_test_split\n",
    "from sklearn.model_selection import cross_val_score\n",
    "from sklearn.preprocessing import scale\n",
    "import matplotlib.pyplot as plt"
   ]
  },
  {
   "cell_type": "code",
   "execution_count": 72,
   "metadata": {},
   "outputs": [],
   "source": [
    "x, y = make_regression(n_samples=1000, n_features=10)"
   ]
  },
  {
   "cell_type": "code",
   "execution_count": 73,
   "metadata": {},
   "outputs": [],
   "source": [
    "x = scale(x)\n",
    "y = scale(y)\n",
    "xtrain, xtest, ytrain, ytest=train_test_split(x, y, test_size=0.20)"
   ]
  },
  {
   "cell_type": "code",
   "execution_count": 74,
   "metadata": {},
   "outputs": [
    {
     "name": "stdout",
     "output_type": "stream",
     "text": [
      "LinearSVR()\n"
     ]
    },
    {
     "data": {
      "text/plain": [
       "LinearSVR()"
      ]
     },
     "execution_count": 74,
     "metadata": {},
     "output_type": "execute_result"
    }
   ],
   "source": [
    "lsvr = LinearSVR(verbose=0, dual=True)\n",
    "print(lsvr)\n",
    "\n",
    "LinearSVR(C=1.0, dual=True, epsilon=0.0, fit_intercept=True,\n",
    "          intercept_scaling=1.0, loss='epsilon_insensitive', max_iter=1000,\n",
    "          random_state=None, tol=0.0001, verbose=0)"
   ]
  },
  {
   "cell_type": "code",
   "execution_count": 75,
   "metadata": {},
   "outputs": [
    {
     "name": "stdout",
     "output_type": "stream",
     "text": [
      "R_squared: 1.0\n"
     ]
    }
   ],
   "source": [
    "lsvr.fit(xtrain, ytrain)\n",
    "\n",
    "score = lsvr.score(xtrain, ytrain)\n",
    "print(\"R_squared:\", score)\n"
   ]
  },
  {
   "cell_type": "code",
   "execution_count": 76,
   "metadata": {},
   "outputs": [
    {
     "name": "stdout",
     "output_type": "stream",
     "text": [
      "CV_mean_score:  1.0\n"
     ]
    }
   ],
   "source": [
    "cv_score = cross_val_score(lsvr, x, y, cv = 10)\n",
    "print(\"CV_mean_score: \", cv_score.mean())\n",
    "\n"
   ]
  },
  {
   "cell_type": "code",
   "execution_count": 77,
   "metadata": {},
   "outputs": [
    {
     "name": "stdout",
     "output_type": "stream",
     "text": [
      "MSE:  1.2815100764542974e-24\n",
      "RMSE:  6.407550382271487e-25\n"
     ]
    }
   ],
   "source": [
    "ypred = lsvr.predict(xtest)\n",
    "\n",
    "mse = mean_squared_error(ytest, ypred)\n",
    "print(\"MSE: \", mse)\n",
    "print(\"RMSE: \", mse*(1/2.0))"
   ]
  },
  {
   "cell_type": "code",
   "execution_count": 78,
   "metadata": {
    "scrolled": true
   },
   "outputs": [
    {
     "data": {
      "image/png": "[encoded data removed]",
      "text/plain": [
       "<Figure size 720x576 with 1 Axes>"
      ]
     },
     "metadata": {
      "needs_background": "light"
     },
     "output_type": "display_data"
    }
   ],
   "source": [
    "x_ax = range(len(ytest))\n",
    "plt.plot(x_ax, ytest, label=\"original\")\n",
    "plt.plot(x_ax, ypred, label=\"predicted\")\n",
    "plt.title(\"Test and predicted data\")\n",
    "plt.legend()\n",
    "plt.show()"
   ]
  },
  {
   "cell_type": "code",
   "execution_count": null,
   "metadata": {},
   "outputs": [],
   "source": []
  },
  {
   "cell_type": "code",
   "execution_count": 84,
   "metadata": {},
   "outputs": [
    {
     "data": {
      "image/png": "[encoded data removed]",
      "text/plain": [
       "<Figure size 720x576 with 1 Axes>"
      ]
     },
     "metadata": {
      "needs_background": "light"
     },
     "output_type": "display_data"
    }
   ],
   "source": [
    "#plotting residuals\n",
    "\n",
    "\n",
    "# importing required packages\n",
    "import seaborn as sns\n",
    "import matplotlib.pyplot as plt\n",
    "  \n",
    "# loading dataset\n",
    "data = sec_car\n",
    "  \n",
    "# draw residplot\n",
    "# with lowess = True\n",
    "sns.residplot(x = \"car_life\",\n",
    "              y = \"price\",\n",
    "              data = data,\n",
    "              lowess = True)\n",
    "  \n",
    "# show the plot\n",
    "plt.show()"
   ]
  },
  {
   "cell_type": "code",
   "execution_count": 85,
   "metadata": {},
   "outputs": [
    {
     "data": {
      "image/png": "[encoded data removed]",
      "text/plain": [
       "<Figure size 720x576 with 1 Axes>"
      ]
     },
     "metadata": {
      "needs_background": "light"
     },
     "output_type": "display_data"
    }
   ],
   "source": [
    "#plotting residuals\n",
    "\n",
    "\n",
    "# importing required packages\n",
    "import seaborn as sns\n",
    "import matplotlib.pyplot as plt\n",
    "  \n",
    "# loading dataset\n",
    "data = sec_car\n",
    "\n",
    "# draw residplot\n",
    "# with lowess = True\n",
    "sns.residplot(x = \"seat_count\",\n",
    "              y = \"price\",\n",
    "              data = data,\n",
    "              lowess = True)\n",
    "  \n",
    "# show the plot\n",
    "plt.show()"
   ]
  },
  {
   "cell_type": "code",
   "execution_count": null,
   "metadata": {},
   "outputs": [],
   "source": []
  }
 ],
 "metadata": {
  "colab": {
   "machine_shape": "hm",
   "name": "Copy of sec_car_2.ipynb",
   "provenance": []
  },
  "kernelspec": {
   "display_name": "Python 3",
   "language": "python",
   "name": "python3"
  },
  "language_info": {
   "codemirror_mode": {
    "name": "ipython",
    "version": 3
   },
   "file_extension": ".py",
   "mimetype": "text/x-python",
   "name": "python",
   "nbconvert_exporter": "python",
   "pygments_lexer": "ipython3",
   "version": "3.8.8"
  },
  "widgets": {
   "application/vnd.jupyter.widget-state+json": {
    "3e0559254ccd4e19bf5b5cb611957bb3": {
     "model_module": "@jupyter-widgets/controls",
     "model_module_version": "1.5.0",
     "model_name": "HBoxModel",
     "state": {
      "_dom_classes": [],
      "_model_module": "@jupyter-widgets/controls",
      "_model_module_version": "1.5.0",
      "_model_name": "HBoxModel",
      "_view_count": null,
      "_view_module": "@jupyter-widgets/controls",
      "_view_module_version": "1.5.0",
      "_view_name": "HBoxView",
      "box_style": "",
      "children": [
       "IPY_MODEL_69afeef7853b4ebf8ca2841c22066fb7",
       "IPY_MODEL_6d61f34097194f53b995d28d50f6a01f",
       "IPY_MODEL_b6ee9b0f47074fde9478d018c410aa18"
      ],
      "layout": "IPY_MODEL_70b0655814114f96b8ca0eecbc3e6ff0"
     }
    },
    "69afeef7853b4ebf8ca2841c22066fb7": {
     "model_module": "@jupyter-widgets/controls",
     "model_module_version": "1.5.0",
     "model_name": "HTMLModel",
     "state": {
      "_dom_classes": [],
      "_model_module": "@jupyter-widgets/controls",
      "_model_module_version": "1.5.0",
      "_model_name": "HTMLModel",
      "_view_count": null,
      "_view_module": "@jupyter-widgets/controls",
      "_view_module_version": "1.5.0",
      "_view_name": "HTMLView",
      "description": "",
      "description_tooltip": null,
      "layout": "IPY_MODEL_7150464e0a30490196fdf7b86265c6ee",
      "placeholder": "​",
      "style": "IPY_MODEL_bf30641f1c8c40e089e8e4a361576e03",
      "value": "Done! Use &#x27;show&#x27; commands to display/save.   "
     }
    },
    "6d61f34097194f53b995d28d50f6a01f": {
     "model_module": "@jupyter-widgets/controls",
     "model_module_version": "1.5.0",
     "model_name": "FloatProgressModel",
     "state": {
      "_dom_classes": [],
      "_model_module": "@jupyter-widgets/controls",
      "_model_module_version": "1.5.0",
      "_model_name": "FloatProgressModel",
      "_view_count": null,
      "_view_module": "@jupyter-widgets/controls",
      "_view_module_version": "1.5.0",
      "_view_name": "ProgressView",
      "bar_style": "success",
      "description": "",
      "description_tooltip": null,
      "layout": "IPY_MODEL_fbdb10ba8f3b4bcd82e0304baab023db",
      "max": 1,
      "min": 0,
      "orientation": "horizontal",
      "style": "IPY_MODEL_d6ef1a36c3c04c13929a9ef101ab5f09",
      "value": 1
     }
    },
    "70b0655814114f96b8ca0eecbc3e6ff0": {
     "model_module": "@jupyter-widgets/base",
     "model_module_version": "1.2.0",
     "model_name": "LayoutModel",
     "state": {
      "_model_module": "@jupyter-widgets/base",
      "_model_module_version": "1.2.0",
      "_model_name": "LayoutModel",
      "_view_count": null,
      "_view_module": "@jupyter-widgets/base",
      "_view_module_version": "1.2.0",
      "_view_name": "LayoutView",
      "align_content": null,
      "align_items": null,
      "align_self": null,
      "border": null,
      "bottom": null,
      "display": "inline-flex",
      "flex": null,
      "flex_flow": "row wrap",
      "grid_area": null,
      "grid_auto_columns": null,
      "grid_auto_flow": null,
      "grid_auto_rows": null,
      "grid_column": null,
      "grid_gap": null,
      "grid_row": null,
      "grid_template_areas": null,
      "grid_template_columns": null,
      "grid_template_rows": null,
      "height": null,
      "justify_content": null,
      "justify_items": null,
      "left": null,
      "margin": null,
      "max_height": null,
      "max_width": null,
      "min_height": null,
      "min_width": null,
      "object_fit": null,
      "object_position": null,
      "order": null,
      "overflow": null,
      "overflow_x": null,
      "overflow_y": null,
      "padding": null,
      "right": null,
      "top": null,
      "visibility": null,
      "width": "100%"
     }
    },
    "7150464e0a30490196fdf7b86265c6ee": {
     "model_module": "@jupyter-widgets/base",
     "model_module_version": "1.2.0",
     "model_name": "LayoutModel",
     "state": {
      "_model_module": "@jupyter-widgets/base",
      "_model_module_version": "1.2.0",
      "_model_name": "LayoutModel",
      "_view_count": null,
      "_view_module": "@jupyter-widgets/base",
      "_view_module_version": "1.2.0",
      "_view_name": "LayoutView",
      "align_content": null,
      "align_items": null,
      "align_self": null,
      "border": null,
      "bottom": null,
      "display": null,
      "flex": null,
      "flex_flow": null,
      "grid_area": null,
      "grid_auto_columns": null,
      "grid_auto_flow": null,
      "grid_auto_rows": null,
      "grid_column": null,
      "grid_gap": null,
      "grid_row": null,
      "grid_template_areas": null,
      "grid_template_columns": null,
      "grid_template_rows": null,
      "height": null,
      "justify_content": null,
      "justify_items": null,
      "left": null,
      "margin": null,
      "max_height": null,
      "max_width": null,
      "min_height": null,
      "min_width": null,
      "object_fit": null,
      "object_position": null,
      "order": null,
      "overflow": null,
      "overflow_x": null,
      "overflow_y": null,
      "padding": null,
      "right": null,
      "top": null,
      "visibility": null,
      "width": null
     }
    },
    "888466b00a9d43d5aed77d012cdce5e4": {
     "model_module": "@jupyter-widgets/controls",
     "model_module_version": "1.5.0",
     "model_name": "DescriptionStyleModel",
     "state": {
      "_model_module": "@jupyter-widgets/controls",
      "_model_module_version": "1.5.0",
      "_model_name": "DescriptionStyleModel",
      "_view_count": null,
      "_view_module": "@jupyter-widgets/base",
      "_view_module_version": "1.2.0",
      "_view_name": "StyleView",
      "description_width": ""
     }
    },
    "b6ee9b0f47074fde9478d018c410aa18": {
     "model_module": "@jupyter-widgets/controls",
     "model_module_version": "1.5.0",
     "model_name": "HTMLModel",
     "state": {
      "_dom_classes": [],
      "_model_module": "@jupyter-widgets/controls",
      "_model_module_version": "1.5.0",
      "_model_name": "HTMLModel",
      "_view_count": null,
      "_view_module": "@jupyter-widgets/controls",
      "_view_module_version": "1.5.0",
      "_view_name": "HTMLView",
      "description": "",
      "description_tooltip": null,
      "layout": "IPY_MODEL_c30fc2934e43458ea4fd1436c7dbbc97",
      "placeholder": "​",
      "style": "IPY_MODEL_888466b00a9d43d5aed77d012cdce5e4",
      "value": " [100%]   00:00 -&gt; (00:00 left)"
     }
    },
    "bf30641f1c8c40e089e8e4a361576e03": {
     "model_module": "@jupyter-widgets/controls",
     "model_module_version": "1.5.0",
     "model_name": "DescriptionStyleModel",
     "state": {
      "_model_module": "@jupyter-widgets/controls",
      "_model_module_version": "1.5.0",
      "_model_name": "DescriptionStyleModel",
      "_view_count": null,
      "_view_module": "@jupyter-widgets/base",
      "_view_module_version": "1.2.0",
      "_view_name": "StyleView",
      "description_width": ""
     }
    },
    "c30fc2934e43458ea4fd1436c7dbbc97": {
     "model_module": "@jupyter-widgets/base",
     "model_module_version": "1.2.0",
     "model_name": "LayoutModel",
     "state": {
      "_model_module": "@jupyter-widgets/base",
      "_model_module_version": "1.2.0",
      "_model_name": "LayoutModel",
      "_view_count": null,
      "_view_module": "@jupyter-widgets/base",
      "_view_module_version": "1.2.0",
      "_view_name": "LayoutView",
      "align_content": null,
      "align_items": null,
      "align_self": null,
      "border": null,
      "bottom": null,
      "display": null,
      "flex": null,
      "flex_flow": null,
      "grid_area": null,
      "grid_auto_columns": null,
      "grid_auto_flow": null,
      "grid_auto_rows": null,
      "grid_column": null,
      "grid_gap": null,
      "grid_row": null,
      "grid_template_areas": null,
      "grid_template_columns": null,
      "grid_template_rows": null,
      "height": null,
      "justify_content": null,
      "justify_items": null,
      "left": null,
      "margin": null,
      "max_height": null,
      "max_width": null,
      "min_height": null,
      "min_width": null,
      "object_fit": null,
      "object_position": null,
      "order": null,
      "overflow": null,
      "overflow_x": null,
      "overflow_y": null,
      "padding": null,
      "right": null,
      "top": null,
      "visibility": null,
      "width": null
     }
    },
    "d6ef1a36c3c04c13929a9ef101ab5f09": {
     "model_module": "@jupyter-widgets/controls",
     "model_module_version": "1.5.0",
     "model_name": "ProgressStyleModel",
     "state": {
      "_model_module": "@jupyter-widgets/controls",
      "_model_module_version": "1.5.0",
      "_model_name": "ProgressStyleModel",
      "_view_count": null,
      "_view_module": "@jupyter-widgets/base",
      "_view_module_version": "1.2.0",
      "_view_name": "StyleView",
      "bar_color": null,
      "description_width": ""
     }
    },
    "fbdb10ba8f3b4bcd82e0304baab023db": {
     "model_module": "@jupyter-widgets/base",
     "model_module_version": "1.2.0",
     "model_name": "LayoutModel",
     "state": {
      "_model_module": "@jupyter-widgets/base",
      "_model_module_version": "1.2.0",
      "_model_name": "LayoutModel",
      "_view_count": null,
      "_view_module": "@jupyter-widgets/base",
      "_view_module_version": "1.2.0",
      "_view_name": "LayoutView",
      "align_content": null,
      "align_items": null,
      "align_self": null,
      "border": null,
      "bottom": null,
      "display": null,
      "flex": "2",
      "flex_flow": null,
      "grid_area": null,
      "grid_auto_columns": null,
      "grid_auto_flow": null,
      "grid_auto_rows": null,
      "grid_column": null,
      "grid_gap": null,
      "grid_row": null,
      "grid_template_areas": null,
      "grid_template_columns": null,
      "grid_template_rows": null,
      "height": null,
      "justify_content": null,
      "justify_items": null,
      "left": null,
      "margin": null,
      "max_height": null,
      "max_width": null,
      "min_height": null,
      "min_width": null,
      "object_fit": null,
      "object_position": null,
      "order": null,
      "overflow": null,
      "overflow_x": null,
      "overflow_y": null,
      "padding": null,
      "right": null,
      "top": null,
      "visibility": null,
      "width": null
     }
    }
   }
  }
 },
 "nbformat": 4,
 "nbformat_minor": 1
}
